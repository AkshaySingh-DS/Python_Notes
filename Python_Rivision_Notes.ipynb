{
 "cells": [
  {
   "cell_type": "markdown",
   "metadata": {
    "id": "MExHtPGP_s4N"
   },
   "source": [
    "# <center>Complete_Python_Basic_To_Advance</center>"
   ]
  },
  {
   "cell_type": "markdown",
   "metadata": {
    "id": "o7-sdBle_s4i"
   },
   "source": [
    "## String(PART 1)"
   ]
  },
  {
   "cell_type": "markdown",
   "metadata": {
    "id": "BPeQHXMm_s4j"
   },
   "source": [
    "### Basic_Level_1 :"
   ]
  },
  {
   "cell_type": "code",
   "execution_count": null,
   "metadata": {
    "collapsed": true,
    "id": "_rUWygxK_s4j"
   },
   "outputs": [],
   "source": [
    "name = ' Akshay Singh '"
   ]
  },
  {
   "cell_type": "code",
   "execution_count": null,
   "metadata": {
    "colab": {
     "base_uri": "https://localhost:8080/",
     "height": 58
    },
    "collapsed": true,
    "id": "H3ukX3iD_s4k",
    "outputId": "bfced756-9918-408d-d80e-6cd3e82982b1"
   },
   "outputs": [
    {
     "data": {
      "application/vnd.google.colaboratory.intrinsic+json": {
       "type": "string"
      },
      "text/plain": [
       "' hgniS yahskA '"
      ]
     },
     "execution_count": 2,
     "metadata": {
      "tags": []
     },
     "output_type": "execute_result"
    }
   ],
   "source": [
    "name[::-1]"
   ]
  },
  {
   "cell_type": "code",
   "execution_count": null,
   "metadata": {
    "colab": {
     "base_uri": "https://localhost:8080/"
    },
    "collapsed": true,
    "id": "3NYexbv9_s4k",
    "outputId": "fbc69092-3266-474f-ec8a-2cebcf9ddaf6"
   },
   "outputs": [
    {
     "name": "stdout",
     "output_type": "stream",
     "text": [
      " Akshay Singh "
     ]
    }
   ],
   "source": [
    "for i in name:\n",
    "    print(i, end =\"\")"
   ]
  },
  {
   "cell_type": "code",
   "execution_count": null,
   "metadata": {
    "colab": {
     "base_uri": "https://localhost:8080/"
    },
    "collapsed": true,
    "id": "yi4U-v2__s4l",
    "outputId": "67b4f78c-4354-47b9-b46c-c37f75079596"
   },
   "outputs": [
    {
     "data": {
      "text/plain": [
       "14"
      ]
     },
     "execution_count": 4,
     "metadata": {
      "tags": []
     },
     "output_type": "execute_result"
    }
   ],
   "source": [
    "len(name)"
   ]
  },
  {
   "cell_type": "markdown",
   "metadata": {
    "id": "mMRr10ZV_s4l"
   },
   "source": [
    "### upper() and lower()"
   ]
  },
  {
   "cell_type": "code",
   "execution_count": null,
   "metadata": {
    "colab": {
     "base_uri": "https://localhost:8080/",
     "height": 58
    },
    "collapsed": true,
    "id": "xkKsIN4W_s4m",
    "outputId": "c88bb66c-0a36-4dbb-c90d-82ddb89f920f"
   },
   "outputs": [
    {
     "data": {
      "application/vnd.google.colaboratory.intrinsic+json": {
       "type": "string"
      },
      "text/plain": [
       "' AKSHAY SINGH '"
      ]
     },
     "execution_count": 5,
     "metadata": {
      "tags": []
     },
     "output_type": "execute_result"
    }
   ],
   "source": [
    "name.upper()"
   ]
  },
  {
   "cell_type": "code",
   "execution_count": null,
   "metadata": {
    "colab": {
     "base_uri": "https://localhost:8080/",
     "height": 58
    },
    "collapsed": true,
    "id": "nGAfcr0w_s4m",
    "outputId": "198eb4c9-6324-405a-a431-3ddbbb3aa93e"
   },
   "outputs": [
    {
     "data": {
      "application/vnd.google.colaboratory.intrinsic+json": {
       "type": "string"
      },
      "text/plain": [
       "' Akshay Singh '"
      ]
     },
     "execution_count": 6,
     "metadata": {
      "tags": []
     },
     "output_type": "execute_result"
    }
   ],
   "source": [
    "#actual string doesn't change \n",
    "name"
   ]
  },
  {
   "cell_type": "code",
   "execution_count": null,
   "metadata": {
    "colab": {
     "base_uri": "https://localhost:8080/",
     "height": 58
    },
    "collapsed": true,
    "id": "Jb-FQGHY_s4n",
    "outputId": "9905dc23-8b35-471a-93ea-f7466e873e2c"
   },
   "outputs": [
    {
     "data": {
      "application/vnd.google.colaboratory.intrinsic+json": {
       "type": "string"
      },
      "text/plain": [
       "' akshay singh '"
      ]
     },
     "execution_count": 7,
     "metadata": {
      "tags": []
     },
     "output_type": "execute_result"
    }
   ],
   "source": [
    "name.lower()"
   ]
  },
  {
   "cell_type": "markdown",
   "metadata": {
    "id": "fTZSeAfo_s4n"
   },
   "source": [
    "### strip()"
   ]
  },
  {
   "cell_type": "markdown",
   "metadata": {
    "id": "G3UC3U_1Dbel"
   },
   "source": [
    "Remove spaces at the beginning and at the end of the string"
   ]
  },
  {
   "cell_type": "code",
   "execution_count": null,
   "metadata": {
    "colab": {
     "base_uri": "https://localhost:8080/",
     "height": 58
    },
    "collapsed": true,
    "id": "9qgyLgJi_s4n",
    "outputId": "28a35df9-366b-4b23-d027-66a7caed2d54"
   },
   "outputs": [
    {
     "data": {
      "application/vnd.google.colaboratory.intrinsic+json": {
       "type": "string"
      },
      "text/plain": [
       "'Akshay Singh'"
      ]
     },
     "execution_count": 8,
     "metadata": {
      "tags": []
     },
     "output_type": "execute_result"
    }
   ],
   "source": [
    "name.strip()"
   ]
  },
  {
   "cell_type": "code",
   "execution_count": null,
   "metadata": {
    "colab": {
     "base_uri": "https://localhost:8080/",
     "height": 58
    },
    "collapsed": true,
    "id": "8sunRYVV_s4o",
    "outputId": "a313e22d-8f81-44ae-c446-5cd3a804035a"
   },
   "outputs": [
    {
     "data": {
      "application/vnd.google.colaboratory.intrinsic+json": {
       "type": "string"
      },
      "text/plain": [
       "' Akshay Singh '"
      ]
     },
     "execution_count": 9,
     "metadata": {
      "tags": []
     },
     "output_type": "execute_result"
    }
   ],
   "source": [
    "#but Actual string doesn't change due to immutable property\n",
    "name"
   ]
  },
  {
   "cell_type": "markdown",
   "metadata": {
    "id": "CvJWAF0q_s4p"
   },
   "source": [
    "### replace() "
   ]
  },
  {
   "cell_type": "code",
   "execution_count": null,
   "metadata": {
    "colab": {
     "base_uri": "https://localhost:8080/",
     "height": 58
    },
    "id": "3Xxni5Oo_s4p",
    "outputId": "93d4f763-10a3-439e-a26c-058220e6ab3f"
   },
   "outputs": [
    {
     "data": {
      "application/vnd.google.colaboratory.intrinsic+json": {
       "type": "string"
      },
      "text/plain": [
       "'aAkashSinha'"
      ]
     },
     "execution_count": 70,
     "metadata": {
      "tags": []
     },
     "output_type": "execute_result"
    }
   ],
   "source": [
    "name1 = 'AAkashSinha'\n",
    "name1.replace('A','a',1)"
   ]
  },
  {
   "cell_type": "code",
   "execution_count": null,
   "metadata": {
    "colab": {
     "base_uri": "https://localhost:8080/",
     "height": 58
    },
    "id": "v7hL9u9j_s4q",
    "outputId": "aceb069b-02bc-4f50-d5b2-479ec154083e"
   },
   "outputs": [
    {
     "data": {
      "application/vnd.google.colaboratory.intrinsic+json": {
       "type": "string"
      },
      "text/plain": [
       "'AAkashSinha'"
      ]
     },
     "execution_count": 71,
     "metadata": {
      "tags": []
     },
     "output_type": "execute_result"
    }
   ],
   "source": [
    "#immutable property\n",
    "name1"
   ]
  },
  {
   "cell_type": "code",
   "execution_count": null,
   "metadata": {
    "colab": {
     "base_uri": "https://localhost:8080/",
     "height": 58
    },
    "id": "YIingb7B_s4q",
    "outputId": "906cc9a1-e58e-4f61-e0f7-0680608ca4a0"
   },
   "outputs": [
    {
     "data": {
      "application/vnd.google.colaboratory.intrinsic+json": {
       "type": "string"
      },
      "text/plain": [
       "'AAkashSinha Arora'"
      ]
     },
     "execution_count": 72,
     "metadata": {
      "tags": []
     },
     "output_type": "execute_result"
    }
   ],
   "source": [
    "name3 = name1 + ' Arora'\n",
    "name3"
   ]
  },
  {
   "cell_type": "code",
   "execution_count": null,
   "metadata": {
    "colab": {
     "base_uri": "https://localhost:8080/",
     "height": 58
    },
    "id": "WuvBayF1E4DW",
    "outputId": "c7b8d0bf-aeb5-4d91-a90b-03b8ed490a12"
   },
   "outputs": [
    {
     "data": {
      "application/vnd.google.colaboratory.intrinsic+json": {
       "type": "string"
      },
      "text/plain": [
       "'AAkashSinha arora'"
      ]
     },
     "execution_count": 73,
     "metadata": {
      "tags": []
     },
     "output_type": "execute_result"
    }
   ],
   "source": [
    "name1 = name1+' arora'\n",
    "name1\n",
    "#doubt on immutability"
   ]
  },
  {
   "cell_type": "markdown",
   "metadata": {
    "id": "xY0BoGRKdm3h"
   },
   "source": [
    "* Here string is immutable but varaible is mutable, we haven't change string at all"
   ]
  },
  {
   "cell_type": "markdown",
   "metadata": {
    "id": "dhLPH4T2_s4r"
   },
   "source": [
    "### split()"
   ]
  },
  {
   "cell_type": "code",
   "execution_count": null,
   "metadata": {
    "colab": {
     "base_uri": "https://localhost:8080/"
    },
    "id": "ib9xbaQy_s4r",
    "outputId": "aff2ebc5-eb44-4ee7-8113-b78981f42465"
   },
   "outputs": [
    {
     "data": {
      "text/plain": [
       "['AAkashSinha', 'Arora']"
      ]
     },
     "execution_count": 13,
     "metadata": {
      "tags": []
     },
     "output_type": "execute_result"
    }
   ],
   "source": [
    "name3.split()"
   ]
  },
  {
   "cell_type": "code",
   "execution_count": null,
   "metadata": {
    "colab": {
     "base_uri": "https://localhost:8080/"
    },
    "id": "PXNDVPWg_s4s",
    "outputId": "933fc074-f44c-4f04-e375-d47930e4b50b"
   },
   "outputs": [
    {
     "name": "stdout",
     "output_type": "stream",
     "text": [
      "AAkashSinha Arora\n",
      "AAkashSinha Aro\n",
      "arorA ahniShsakAA\n",
      "araisA\n"
     ]
    }
   ],
   "source": [
    "print(name3[0: ])\n",
    "print(name3[: -2 ])\n",
    "print(name3[:: -1 ]) #step size 1\n",
    "print(name3[:: -3 ]) # step size 3"
   ]
  },
  {
   "cell_type": "code",
   "execution_count": null,
   "metadata": {
    "collapsed": true,
    "id": "hi3PPc_F_s4s"
   },
   "outputs": [],
   "source": [
    "string1 = 'I love reading the technical books'"
   ]
  },
  {
   "cell_type": "markdown",
   "metadata": {
    "id": "hBAo4Gf5_s4t"
   },
   "source": [
    "find( ) function returns the index value of the given data that is to found in the string. If it is not found it returns -1."
   ]
  },
  {
   "cell_type": "markdown",
   "metadata": {
    "id": "HsoZBVgw_s4t"
   },
   "source": [
    "### Searching substring"
   ]
  },
  {
   "cell_type": "markdown",
   "metadata": {
    "id": "NPaLWlgr_s4u"
   },
   "source": [
    "* **find()**\n",
    "* **index()**\n",
    "* **not used widely private method str.__contains()__**"
   ]
  },
  {
   "cell_type": "markdown",
   "metadata": {
    "id": "Smn_zXRk_s4u"
   },
   "source": [
    "***find and index both return index value but a little bit difference way when substring not found***"
   ]
  },
  {
   "cell_type": "markdown",
   "metadata": {
    "id": "gqCutm12_s4u"
   },
   "source": [
    "### find()"
   ]
  },
  {
   "cell_type": "code",
   "execution_count": null,
   "metadata": {
    "colab": {
     "base_uri": "https://localhost:8080/"
    },
    "id": "98xA0cqe_s4v",
    "outputId": "5113421c-c571-4287-af8e-0da29a300a68"
   },
   "outputs": [
    {
     "name": "stdout",
     "output_type": "stream",
     "text": [
      "I love reading the technical books\n",
      "7\n",
      "19\n",
      "-1\n"
     ]
    }
   ],
   "source": [
    "print(string1)\n",
    "print(string1.find('reading'))# starting index\n",
    "print(string1.find('tech'))\n",
    "print(string1.find('beautiful'))# return -1 if not found"
   ]
  },
  {
   "cell_type": "markdown",
   "metadata": {
    "id": "veh3UBqj_s4v"
   },
   "source": [
    "**One can also input find( ) function between which index values it has to search.**"
   ]
  },
  {
   "cell_type": "code",
   "execution_count": null,
   "metadata": {
    "colab": {
     "base_uri": "https://localhost:8080/"
    },
    "id": "yymiVhey_s4w",
    "outputId": "7e004858-403e-4f3f-c3e2-b9511947c369"
   },
   "outputs": [
    {
     "name": "stdout",
     "output_type": "stream",
     "text": [
      "-1\n",
      "2\n"
     ]
    }
   ],
   "source": [
    "print(string1.find('love', 10)) #start searching from 10th index\n",
    "print(string1.find('love', 2)) #start searching from 2nd index"
   ]
  },
  {
   "cell_type": "code",
   "execution_count": null,
   "metadata": {
    "colab": {
     "base_uri": "https://localhost:8080/"
    },
    "id": "NAWkNUCB_s4w",
    "outputId": "c1239c08-898e-4bfe-f13b-d901445611ee"
   },
   "outputs": [
    {
     "data": {
      "text/plain": [
       "5"
      ]
     },
     "execution_count": 18,
     "metadata": {
      "tags": []
     },
     "output_type": "execute_result"
    }
   ],
   "source": [
    "#finding substring very effectively\n",
    "'Good Morining'.find('Mo')"
   ]
  },
  {
   "cell_type": "markdown",
   "metadata": {
    "id": "LOwvDo1E_s4x"
   },
   "source": [
    "### index()"
   ]
  },
  {
   "cell_type": "code",
   "execution_count": null,
   "metadata": {
    "colab": {
     "base_uri": "https://localhost:8080/"
    },
    "collapsed": true,
    "id": "JI7ecYC6_s4x",
    "outputId": "1245f90a-a95a-41af-8d99-09fc6b242a9b"
   },
   "outputs": [
    {
     "name": "stdout",
     "output_type": "stream",
     "text": [
      "I love reading the technical books\n",
      "2\n"
     ]
    }
   ],
   "source": [
    "print(string1)\n",
    "print(string1.index('love'))"
   ]
  },
  {
   "cell_type": "code",
   "execution_count": null,
   "metadata": {
    "colab": {
     "base_uri": "https://localhost:8080/"
    },
    "id": "SH0wgcbV_s4y",
    "outputId": "70d431e2-227f-4fdf-811f-582f745af455"
   },
   "outputs": [
    {
     "name": "stdout",
     "output_type": "stream",
     "text": [
      "2\n"
     ]
    }
   ],
   "source": [
    "print(string1.index('love',1, 10)) #searching from 1 to 10(1 and 10 are inclusive)\n",
    "#NOTE: index method will raise an error if sustring not found(difference of find() and index()) "
   ]
  },
  {
   "cell_type": "markdown",
   "metadata": {
    "id": "BFAz9JctLR9x"
   },
   "source": [
    "However we are looking for exact word here rather than substring"
   ]
  },
  {
   "cell_type": "code",
   "execution_count": null,
   "metadata": {
    "colab": {
     "base_uri": "https://localhost:8080/"
    },
    "collapsed": true,
    "id": "EietwxWnLQny",
    "outputId": "65a1e124-b8e3-4fe9-cfd0-50132a745031"
   },
   "outputs": [
    {
     "name": "stdout",
     "output_type": "stream",
     "text": [
      "2\n",
      "2\n"
     ]
    }
   ],
   "source": [
    "#let say i'm looking for 'love' exact word\n",
    "print(string1.find('lov'))\n",
    "print(string1.find('love'))\n",
    "#get the same result"
   ]
  },
  {
   "cell_type": "markdown",
   "metadata": {
    "id": "LqikqUxVLs-T"
   },
   "source": [
    "**For the specific pattern regex is \"The\" best approach**\n",
    "\n",
    "\n"
   ]
  },
  {
   "cell_type": "markdown",
   "metadata": {
    "id": "irn4xrCW_s4z"
   },
   "source": [
    "### join()"
   ]
  },
  {
   "cell_type": "markdown",
   "metadata": {
    "id": "Ut8WrXw4_s40"
   },
   "source": [
    "**join is used to convert list of item into a string.**"
   ]
  },
  {
   "cell_type": "markdown",
   "metadata": {
    "id": "pi-DdIdh_s40"
   },
   "source": [
    "***NOTE: join( ) function is used add a char in between the elements of the input string.***\n",
    "***also used for conversion from list to string(IMP)***"
   ]
  },
  {
   "cell_type": "code",
   "execution_count": null,
   "metadata": {
    "colab": {
     "base_uri": "https://localhost:8080/"
    },
    "collapsed": true,
    "id": "rxDh5HwP_s41",
    "outputId": "3ecc4227-8726-44c1-b23a-4ae1a2edaa5c"
   },
   "outputs": [
    {
     "name": "stdout",
     "output_type": "stream",
     "text": [
      "['a', 'k', 's', 'h', 'a', 'y', ' ', 'S', 'i', 'n', 'g', 'h', ' ', 'i', 's', ' ', 'a', ' ', 'g', 'o', 'o', 'd', ' ', 'b', 'o', 'y']\n"
     ]
    }
   ],
   "source": [
    "list_string = list('akshay Singh is a good boy')\n",
    "print(list_string)"
   ]
  },
  {
   "cell_type": "code",
   "execution_count": null,
   "metadata": {
    "colab": {
     "base_uri": "https://localhost:8080/",
     "height": 58
    },
    "collapsed": true,
    "id": "2oTEl9Ao_s42",
    "outputId": "fcdab4ec-74c8-45d0-e391-1cc1a90fecd4"
   },
   "outputs": [
    {
     "data": {
      "application/vnd.google.colaboratory.intrinsic+json": {
       "type": "string"
      },
      "text/plain": [
       "'akshay Singh is a good boy'"
      ]
     },
     "execution_count": 79,
     "metadata": {
      "tags": []
     },
     "output_type": "execute_result"
    }
   ],
   "source": [
    "string_list = ''.join(list_string)\n",
    "string_list"
   ]
  },
  {
   "cell_type": "code",
   "execution_count": null,
   "metadata": {
    "colab": {
     "base_uri": "https://localhost:8080/"
    },
    "collapsed": true,
    "id": "ez51ezJY_s43",
    "outputId": "1db63b7d-0ab4-4499-dfb8-371833d3f8db"
   },
   "outputs": [
    {
     "name": "stdout",
     "output_type": "stream",
     "text": [
      "<class 'str'>\n"
     ]
    }
   ],
   "source": [
    "print(type(string_list))"
   ]
  },
  {
   "cell_type": "code",
   "execution_count": null,
   "metadata": {
    "colab": {
     "base_uri": "https://localhost:8080/"
    },
    "id": "FAzE__Z9_s43",
    "outputId": "c8094c77-903c-40c9-c3c5-93b4cb174593"
   },
   "outputs": [
    {
     "name": "stdout",
     "output_type": "stream",
     "text": [
      "akshay Singh become a good boy\n",
      "akshay Singh is a good boy\n"
     ]
    }
   ],
   "source": [
    "print(string_list.replace('is a good boy', 'become a good boy'))# temporary changes\n",
    "print(string_list) #immutable property"
   ]
  },
  {
   "cell_type": "code",
   "execution_count": null,
   "metadata": {
    "colab": {
     "base_uri": "https://localhost:8080/",
     "height": 58
    },
    "id": "OUAY4d-b_s44",
    "outputId": "126e0516-9d0e-4433-9e02-490ce41999a4"
   },
   "outputs": [
    {
     "data": {
      "application/vnd.google.colaboratory.intrinsic+json": {
       "type": "string"
      },
      "text/plain": [
       "'This will join a string based on given join character'"
      ]
     },
     "execution_count": 82,
     "metadata": {
      "tags": []
     },
     "output_type": "execute_result"
    }
   ],
   "source": [
    "#join is used to convert list of item into a string.\n",
    "' '.join(['This','will','join','a','string','based','on','given','join','character']) "
   ]
  },
  {
   "cell_type": "code",
   "execution_count": null,
   "metadata": {
    "colab": {
     "base_uri": "https://localhost:8080/",
     "height": 58
    },
    "collapsed": true,
    "id": "LD1O4lmF_s45",
    "outputId": "e29130b3-7abb-4d64-c5f5-2544874265d7"
   },
   "outputs": [
    {
     "data": {
      "application/vnd.google.colaboratory.intrinsic+json": {
       "type": "string"
      },
      "text/plain": [
       "'This,will,join,a,string,based,on,given,join,character'"
      ]
     },
     "execution_count": 83,
     "metadata": {
      "tags": []
     },
     "output_type": "execute_result"
    }
   ],
   "source": [
    "','.join(['This','will','join','a','string','based','on','given','join','character']) "
   ]
  },
  {
   "cell_type": "code",
   "execution_count": null,
   "metadata": {
    "colab": {
     "base_uri": "https://localhost:8080/",
     "height": 58
    },
    "collapsed": true,
    "id": "CfIz7ze0_s46",
    "outputId": "29a34e5e-9425-4a33-84c1-3b695241b372"
   },
   "outputs": [
    {
     "data": {
      "application/vnd.google.colaboratory.intrinsic+json": {
       "type": "string"
      },
      "text/plain": [
       "'This-will-join-a-string-based-on-given-join-character'"
      ]
     },
     "execution_count": 84,
     "metadata": {
      "tags": []
     },
     "output_type": "execute_result"
    }
   ],
   "source": [
    "'-'.join(['This','will','join','a','string','based','on','given','join','character']) "
   ]
  },
  {
   "cell_type": "markdown",
   "metadata": {
    "id": "aa-nDc2i_s47"
   },
   "source": [
    "### Basic_Level_2:"
   ]
  },
  {
   "cell_type": "markdown",
   "metadata": {
    "id": "HRYL9t40_s48"
   },
   "source": [
    "### isalpha()"
   ]
  },
  {
   "cell_type": "code",
   "execution_count": 67,
   "metadata": {
    "colab": {
     "base_uri": "https://localhost:8080/"
    },
    "id": "DHiJKQjZ_s48",
    "outputId": "28eebcfc-f765-4d1b-8465-ab3bf4dbe855"
   },
   "outputs": [
    {
     "data": {
      "text/plain": [
       "False"
      ]
     },
     "execution_count": 67,
     "metadata": {},
     "output_type": "execute_result"
    }
   ],
   "source": [
    "name = 'Akahaymanu123'\n",
    "name.isalpha()# space not count as alphabates"
   ]
  },
  {
   "cell_type": "code",
   "execution_count": null,
   "metadata": {
    "colab": {
     "base_uri": "https://localhost:8080/"
    },
    "collapsed": true,
    "id": "QXLJdDgU_s4_",
    "outputId": "a3829b1f-2bdd-4b8a-c61e-d2db4b08f070"
   },
   "outputs": [
    {
     "data": {
      "text/plain": [
       "True"
      ]
     },
     "execution_count": 29,
     "metadata": {
      "tags": []
     },
     "output_type": "execute_result"
    }
   ],
   "source": [
    "name2=\"Asgfdghiy\"\n",
    "name2.isalpha() #only alphabates -> NO "
   ]
  },
  {
   "cell_type": "markdown",
   "metadata": {
    "id": "X7Itxdzg_s5A"
   },
   "source": [
    "### isalnum()"
   ]
  },
  {
   "cell_type": "code",
   "execution_count": null,
   "metadata": {
    "colab": {
     "base_uri": "https://localhost:8080/"
    },
    "collapsed": true,
    "id": "mdMSa8OE_s5B",
    "outputId": "2ac58514-8f30-4d22-fc15-794435f7710d"
   },
   "outputs": [
    {
     "data": {
      "text/plain": [
       "True"
      ]
     },
     "execution_count": 30,
     "metadata": {
      "tags": []
     },
     "output_type": "execute_result"
    }
   ],
   "source": [
    "name.isalnum() #(alhabates \"or\" numeric)"
   ]
  },
  {
   "cell_type": "code",
   "execution_count": 68,
   "metadata": {
    "colab": {
     "base_uri": "https://localhost:8080/"
    },
    "id": "cIKwyTbC_s5B",
    "outputId": "13e51188-54e0-4943-af17-1f9fbb79c6cb"
   },
   "outputs": [
    {
     "data": {
      "text/plain": [
       "False"
      ]
     },
     "execution_count": 68,
     "metadata": {},
     "output_type": "execute_result"
    }
   ],
   "source": [
    "\" Akshay   \".isalnum()# space must not involved"
   ]
  },
  {
   "cell_type": "markdown",
   "metadata": {
    "id": "z-c4rKE9_s5C"
   },
   "source": [
    "***NOTE: character is also a string in python.***"
   ]
  },
  {
   "cell_type": "code",
   "execution_count": null,
   "metadata": {
    "colab": {
     "base_uri": "https://localhost:8080/"
    },
    "id": "DvycvPaK_s5D",
    "outputId": "a3a9c6c5-49fc-4cbb-b326-3434ac20e195"
   },
   "outputs": [
    {
     "name": "stdout",
     "output_type": "stream",
     "text": [
      "['Deep', 'learning', 'is', 'the', 'future']\n",
      "['Deep learn', 'ng ', 's the future']\n",
      "('Deep learn', 'i', 'ng is the future')\n"
     ]
    }
   ],
   "source": [
    "#1\n",
    "sent='Deep learning is the future'\n",
    "list_words=sent.split()\n",
    "print(list_words)\n",
    "\n",
    "#2\n",
    "temp=sent.split('i')\n",
    "print(temp)\n",
    "\n",
    "#NOTE: Split method returns \"list\" of words in string not containing the split character.\n",
    "\n",
    "dumy=sent.partition('i')\n",
    "print(dumy)\n",
    "\n",
    "#NOTE: partition method returns \"tuple\" of words in string including the separator."
   ]
  },
  {
   "cell_type": "code",
   "execution_count": null,
   "metadata": {
    "colab": {
     "base_uri": "https://localhost:8080/"
    },
    "collapsed": true,
    "id": "ng8c8erZ_s5D",
    "outputId": "945c83a5-edb3-48a3-81b8-64bb54b219cf"
   },
   "outputs": [
    {
     "name": "stdout",
     "output_type": "stream",
     "text": [
      "string: Akahaymanu123\n",
      "number of aplhabates:  10\n",
      "aplhabates string :  Akahaymanu\n"
     ]
    }
   ],
   "source": [
    "#Practicle_Example_(1):\n",
    "#Count number of alphabates in a string and return that string also\n",
    "\n",
    "\n",
    "#CODE:\n",
    "name4='Akahaymanu123'\n",
    "print('string:', name4)\n",
    "count_alp = 0\n",
    "new_alp =''\n",
    "for i in name4:\n",
    "    if i.isalpha() == True:\n",
    "        count_alp += 1\n",
    "        new_alp += i\n",
    "print('number of aplhabates: ', count_alp)\n",
    "print('aplhabates string : ', new_alp) "
   ]
  },
  {
   "cell_type": "markdown",
   "metadata": {
    "id": "gnC8X7mC_s5E"
   },
   "source": [
    "### isspace()"
   ]
  },
  {
   "cell_type": "code",
   "execution_count": null,
   "metadata": {
    "colab": {
     "base_uri": "https://localhost:8080/"
    },
    "collapsed": true,
    "id": "2xog4SfL_s5F",
    "outputId": "159287c0-7638-467d-8632-c96a3f3b9106"
   },
   "outputs": [
    {
     "name": "stdout",
     "output_type": "stream",
     "text": [
      "True\n",
      "False\n"
     ]
    }
   ],
   "source": [
    "print(\"   \".isspace())#return true if all characters are space\n",
    "print(\" a  \".isspace())"
   ]
  },
  {
   "cell_type": "code",
   "execution_count": null,
   "metadata": {
    "colab": {
     "base_uri": "https://localhost:8080/"
    },
    "collapsed": true,
    "id": "fVay7ua3_s5F",
    "outputId": "f66cb17a-408c-4de2-fda6-c17b96b957b2"
   },
   "outputs": [
    {
     "name": "stdout",
     "output_type": "stream",
     "text": [
      "String :   Akshay Singh \n",
      "number of space: 4\n"
     ]
    }
   ],
   "source": [
    "#Practicle_Example_(2):(\n",
    "#Count number of spaces in a string\n",
    "#CODE:\n",
    "name=\"  Akshay Singh \"\n",
    "print('String :', name)\n",
    "count_space = 0\n",
    "for i in name:\n",
    "    if i.isspace():\n",
    "       count_space += 1\n",
    "print(\"number of space:\", count_space)\n",
    "\n"
   ]
  },
  {
   "cell_type": "code",
   "execution_count": null,
   "metadata": {
    "colab": {
     "base_uri": "https://localhost:8080/"
    },
    "collapsed": true,
    "id": "UYb0rfVW_s5G",
    "outputId": "828a649c-b48d-4f7b-e35b-92cc91fd235a"
   },
   "outputs": [
    {
     "name": "stdout",
     "output_type": "stream",
     "text": [
      "Akshay learnt pyhton using jupyter notebook\n",
      "6\n"
     ]
    }
   ],
   "source": [
    "#Practicle_Example_(3):\n",
    "#Count number of words in a sentence\n",
    "\n",
    "#code:\n",
    "sent='Akshay learnt pyhton using jupyter notebook'\n",
    "print(sent)\n",
    "words_list=sent.split()#split takes default as space\n",
    "print(len(words_list))"
   ]
  },
  {
   "cell_type": "code",
   "execution_count": null,
   "metadata": {
    "colab": {
     "base_uri": "https://localhost:8080/"
    },
    "collapsed": true,
    "id": "sCdpSipl_s5G",
    "outputId": "a367009a-2940-499e-97b3-5aa5e50e2357"
   },
   "outputs": [
    {
     "name": "stdout",
     "output_type": "stream",
     "text": [
      "palindrome\n",
      "palindrome\n"
     ]
    }
   ],
   "source": [
    "#Practicle_Example_(4):\n",
    "#Check Palindrome\n",
    "\n",
    "\n",
    "#CODE(1):\n",
    "string = '12321'\n",
    "if string[0:] == string[ :: -1]:\n",
    "    print('palindrome')\n",
    "else:\n",
    "    print(\"not palindrome\")\n",
    "    \n",
    "    \n",
    "#CODE(2):\n",
    "str1 = ''\n",
    "for i in string:\n",
    "    str1 = i + str1   #reverse concatenation\n",
    "if str1 == string:\n",
    "    print('palindrome')\n",
    "else:\n",
    "    print(\"not palindrome\")"
   ]
  },
  {
   "cell_type": "code",
   "execution_count": null,
   "metadata": {
    "colab": {
     "base_uri": "https://localhost:8080/"
    },
    "collapsed": true,
    "id": "iP-Pa-i2_s5H",
    "outputId": "d5142256-b6b3-48a6-e1d7-ee5ad0d61d7f"
   },
   "outputs": [
    {
     "name": "stdout",
     "output_type": "stream",
     "text": [
      "Akshay learnt pyhton using jupyter notebook .\n",
      "notebook jupyter using pyhton learnt Akshay \n",
      "------2nd Way------\n",
      "notebook jupyter using pyhton learnt Akshay\n"
     ]
    }
   ],
   "source": [
    "#Practicle_Example_(5):\n",
    "#reverse a senetence but word doesn't reversed \n",
    "\n",
    "\n",
    "#CODE(3):\n",
    "sent='Akshay learnt pyhton using jupyter notebook .'\n",
    "print(sent)\n",
    "rev_sent =''#empty string\n",
    "words_list=sent.split()\n",
    "words_list.reverse()\n",
    "words_list.remove('.')\n",
    "for i in words_list:\n",
    "    rev_sent = rev_sent + i + ' '#append\n",
    "    \n",
    "print(rev_sent)\n",
    "\n",
    "#2nd method\n",
    "print('------2nd Way------')\n",
    "words = sent.split()\n",
    "words.reverse()\n",
    "words.remove('.')\n",
    "print(' '.join(words))\n"
   ]
  },
  {
   "cell_type": "code",
   "execution_count": null,
   "metadata": {
    "colab": {
     "base_uri": "https://localhost:8080/"
    },
    "collapsed": true,
    "id": "fPB5AbxX_s5I",
    "outputId": "fd912b64-1d7d-42ca-b78f-9189b92b5b64"
   },
   "outputs": [
    {
     "name": "stdout",
     "output_type": "stream",
     "text": [
      "Unix operating system is best\n",
      "Number of vowels:  9\n",
      "nx prtng systm s bst\n"
     ]
    }
   ],
   "source": [
    "#Practicle_Example_(6):\n",
    "#Count number of vowels and remove them\n",
    "\n",
    "\n",
    "#CODE:\n",
    "name=\"Unix operating system is best\"\n",
    "print(name)\n",
    "Vowels = set('aeiouAEIOU')\n",
    "name2 = ''\n",
    "count_vow = 0\n",
    "for i in name:\n",
    "    if i in Vowels:\n",
    "        count_vow += 1\n",
    "    else:\n",
    "        name2 += i \n",
    "print('Number of vowels: ', count_vow)\n",
    "print(name2)"
   ]
  },
  {
   "cell_type": "code",
   "execution_count": null,
   "metadata": {
    "colab": {
     "base_uri": "https://localhost:8080/"
    },
    "collapsed": true,
    "id": "gsxzBhU9_s5L",
    "outputId": "11a82b62-e358-4d7e-9cc1-5b957b0aa6c9"
   },
   "outputs": [
    {
     "name": "stdout",
     "output_type": "stream",
     "text": [
      "Akshay learnt pyhton using jupyter notebook .\n",
      "max len word:  8\n",
      "8\n"
     ]
    }
   ],
   "source": [
    "#Practicle_Example_(7):\n",
    "#count maximum word length\n",
    "\n",
    "\n",
    "#CODE(1):\n",
    "print(sent)\n",
    "words_list=sent.split()\n",
    "words_ = []\n",
    "for i in words_list:\n",
    "    words_.append(len(i))\n",
    "print('max len word: ', max(words_))\n",
    "\n",
    "#second more efficient method(2)\n",
    "max_word=0\n",
    "for i in words_list:\n",
    "    if len(i) > max_word:\n",
    "        max_word=len(i)\n",
    "print(max_word)"
   ]
  },
  {
   "cell_type": "markdown",
   "metadata": {
    "id": "6x4NEmI0_s5S"
   },
   "source": [
    "## Data Structures in python"
   ]
  },
  {
   "cell_type": "markdown",
   "metadata": {
    "id": "7TOV7sMY_s5T"
   },
   "source": [
    "#### Tuple"
   ]
  },
  {
   "cell_type": "code",
   "execution_count": 72,
   "metadata": {
    "colab": {
     "base_uri": "https://localhost:8080/"
    },
    "id": "_8Wd8nVs_s5V",
    "outputId": "df7e92d1-7d5d-4915-965a-914d30ae0824"
   },
   "outputs": [
    {
     "data": {
      "text/plain": [
       "('1', '2', '3', '4', '5', '6', '1', '2', '5', '3', '9', '8', '6', '4')"
      ]
     },
     "execution_count": 72,
     "metadata": {},
     "output_type": "execute_result"
    }
   ],
   "source": [
    "tup_num = tuple('12345612539864')\n",
    "tup_num"
   ]
  },
  {
   "cell_type": "code",
   "execution_count": null,
   "metadata": {
    "colab": {
     "base_uri": "https://localhost:8080/"
    },
    "id": "F7PeeG7U_s5W",
    "outputId": "d2081503-8681-4700-a460-c2a892474af6"
   },
   "outputs": [
    {
     "name": "stdout",
     "output_type": "stream",
     "text": [
      "<class 'tuple'>\n",
      "(1, 2, 3)\n"
     ]
    }
   ],
   "source": [
    "t=(1,2,3)\n",
    "print(type(t))\n",
    "print(t)"
   ]
  },
  {
   "cell_type": "code",
   "execution_count": null,
   "metadata": {
    "colab": {
     "base_uri": "https://localhost:8080/"
    },
    "id": "Mlc3lbCb_s5W",
    "outputId": "7d36890c-b14b-4d7a-c4f5-3b1ef2107c34"
   },
   "outputs": [
    {
     "data": {
      "text/plain": [
       "str"
      ]
     },
     "execution_count": 43,
     "metadata": {
      "tags": []
     },
     "output_type": "execute_result"
    }
   ],
   "source": [
    "#only one element, then is tuple\n",
    "#(boundary case)\n",
    "tup=(\"string\")\n",
    "type(tup)"
   ]
  },
  {
   "cell_type": "markdown",
   "metadata": {
    "id": "UAJHA3af_s5Y"
   },
   "source": [
    "#### only parenthesis not enough"
   ]
  },
  {
   "cell_type": "code",
   "execution_count": null,
   "metadata": {
    "colab": {
     "base_uri": "https://localhost:8080/"
    },
    "id": "SKzs8viF_s5Y",
    "outputId": "14e9822f-9569-4f77-d471-b3935a0a468e"
   },
   "outputs": [
    {
     "name": "stdout",
     "output_type": "stream",
     "text": [
      "<class 'tuple'>\n",
      "('string123',)\n"
     ]
    }
   ],
   "source": [
    "#need , (boundary case)\n",
    "tupl=(\"string123\",)\n",
    "print(type(tupl))\n",
    "print(tupl)"
   ]
  },
  {
   "cell_type": "code",
   "execution_count": null,
   "metadata": {
    "colab": {
     "base_uri": "https://localhost:8080/",
     "height": 58
    },
    "id": "zYX4VLRm_s5Y",
    "outputId": "01252353-1c2d-4def-d7ac-a3f7bedc2257"
   },
   "outputs": [
    {
     "data": {
      "application/vnd.google.colaboratory.intrinsic+json": {
       "type": "string"
      },
      "text/plain": [
       "'shyam'"
      ]
     },
     "execution_count": 45,
     "metadata": {
      "tags": []
     },
     "output_type": "execute_result"
    }
   ],
   "source": [
    "#indexing within a nested tuple\n",
    "tup=(2,('ram','shyam','pankaj'))\n",
    "#inorder to get \"shyam\" in nested tuple\n",
    "tup[1][1]"
   ]
  },
  {
   "cell_type": "code",
   "execution_count": 69,
   "metadata": {
    "colab": {
     "base_uri": "https://localhost:8080/"
    },
    "id": "g16IJI6g_s5a",
    "outputId": "a9154fac-ff03-4a4f-f668-4a293397e224"
   },
   "outputs": [
    {
     "data": {
      "text/plain": [
       "('string', 'string', 'string')"
      ]
     },
     "execution_count": 69,
     "metadata": {},
     "output_type": "execute_result"
    }
   ],
   "source": [
    "#repeat a tuple for a given number of times\n",
    "t=((\"string\",) *3)\n",
    "t "
   ]
  },
  {
   "cell_type": "markdown",
   "metadata": {
    "id": "AHR0Fcdg_s5b"
   },
   "source": [
    "### Count()"
   ]
  },
  {
   "cell_type": "code",
   "execution_count": 73,
   "metadata": {
    "colab": {
     "base_uri": "https://localhost:8080/"
    },
    "id": "vaC6cB8g_s5d",
    "outputId": "32795b00-5b99-4e20-ff36-0aca93a1d9c5"
   },
   "outputs": [
    {
     "name": "stdout",
     "output_type": "stream",
     "text": [
      "('1', '2', '3', '4', '5', '6', '1', '2', '5', '3', '9', '8', '6', '4')\n"
     ]
    },
    {
     "data": {
      "text/plain": [
       "2"
      ]
     },
     "execution_count": 73,
     "metadata": {},
     "output_type": "execute_result"
    }
   ],
   "source": [
    "print(tup_num)\n",
    "tup_num.count('2')"
   ]
  },
  {
   "cell_type": "markdown",
   "metadata": {
    "id": "nD1_5MH-_s5d"
   },
   "source": [
    "### min() and max() in tuple"
   ]
  },
  {
   "cell_type": "code",
   "execution_count": null,
   "metadata": {
    "colab": {
     "base_uri": "https://localhost:8080/"
    },
    "id": "N8BmNcJ5_s5d",
    "outputId": "d73bca2e-672e-4087-b5e3-970542fe0bcf"
   },
   "outputs": [
    {
     "name": "stdout",
     "output_type": "stream",
     "text": [
      "9\n",
      "1\n"
     ]
    }
   ],
   "source": [
    "print(max(tup_num))\n",
    "print(min(tup_num))"
   ]
  },
  {
   "cell_type": "code",
   "execution_count": null,
   "metadata": {
    "colab": {
     "base_uri": "https://localhost:8080/"
    },
    "id": "_aKxZK1o_s5e",
    "outputId": "1c7111eb-2410-4eb4-e4af-5d6db76685cf"
   },
   "outputs": [
    {
     "name": "stdout",
     "output_type": "stream",
     "text": [
      "['Akshay', 'learnt', 'pyhton', 'using', 'jupyter', 'notebook', '.']\n",
      "('Akshay', 'learnt', 'pyhton', 'using', 'jupyter', 'notebook', '.')\n"
     ]
    }
   ],
   "source": [
    "#list_Conversion into tuple\n",
    "print(words_list)\n",
    "tup2 = tuple(words_list)\n",
    "print(tup2)"
   ]
  },
  {
   "cell_type": "code",
   "execution_count": null,
   "metadata": {
    "colab": {
     "base_uri": "https://localhost:8080/"
    },
    "id": "W37QsGGu_s5e",
    "outputId": "715d9ae2-1063-4b6d-f976-3a0c6bc6d4c3"
   },
   "outputs": [
    {
     "name": "stdout",
     "output_type": "stream",
     "text": [
      "String : AAkashSinha\n",
      "('A', 'A', 'k', 'a', 's', 'h', 'S', 'i', 'n', 'h', 'a')\n"
     ]
    }
   ],
   "source": [
    "#string_Conversion into tuple\n",
    "print('String :', name1)\n",
    "tup3 = tuple(name1) \n",
    "print(tup3)"
   ]
  },
  {
   "cell_type": "code",
   "execution_count": null,
   "metadata": {
    "colab": {
     "base_uri": "https://localhost:8080/"
    },
    "id": "vBzx-DuW_s5e",
    "outputId": "73b8ae62-c2aa-4ba1-e754-f65d50a0cbbb"
   },
   "outputs": [
    {
     "data": {
      "text/plain": [
       "([10, 20, 30], [-10, -20, -30])"
      ]
     },
     "execution_count": 51,
     "metadata": {
      "tags": []
     },
     "output_type": "execute_result"
    }
   ],
   "source": [
    "listP = [10,20,30]\n",
    "listN = [-10,-20,-30]\n",
    "tupP_N = (listP, listN)\n",
    "tupP_N"
   ]
  },
  {
   "cell_type": "code",
   "execution_count": null,
   "metadata": {
    "colab": {
     "base_uri": "https://localhost:8080/"
    },
    "id": "7k9H91Vl_s5e",
    "outputId": "4c2c6581-6309-4b77-9e54-6f8255e00a3e"
   },
   "outputs": [
    {
     "name": "stdout",
     "output_type": "stream",
     "text": [
      "10 20 30 \n",
      "-10 -20 -30 \n"
     ]
    }
   ],
   "source": [
    "#nested access inside tuple\n",
    "for i in tupP_N:\n",
    "    for j in i:\n",
    "        print(j,end=\" \")\n",
    "    print()"
   ]
  },
  {
   "cell_type": "markdown",
   "metadata": {
    "id": "0E2o3_K7_s5g"
   },
   "source": [
    "### List_Concept"
   ]
  },
  {
   "cell_type": "markdown",
   "metadata": {
    "id": "eLeEM3Rr_s5h"
   },
   "source": [
    "### Basic_Level_1:"
   ]
  },
  {
   "cell_type": "code",
   "execution_count": 74,
   "metadata": {
    "colab": {
     "base_uri": "https://localhost:8080/"
    },
    "id": "UB70XO9i_s5h",
    "outputId": "94d3d0ad-3a04-46df-f86f-7e0a6b6a22aa"
   },
   "outputs": [
    {
     "data": {
      "text/plain": [
       "[2, 3, 4, 3, 2, 4, 5, 6, 7, '@akshaySingh', '@Ram']"
      ]
     },
     "execution_count": 74,
     "metadata": {},
     "output_type": "execute_result"
    }
   ],
   "source": [
    "#Hetrogenuis elements in list\n",
    "temp_list = [2,3,4,3,2,4,5,6,7,'@akshaySingh','@Ram']\n",
    "temp_list"
   ]
  },
  {
   "cell_type": "markdown",
   "metadata": {
    "id": "9PQkAein_s5i"
   },
   "source": [
    "### append"
   ]
  },
  {
   "cell_type": "code",
   "execution_count": 75,
   "metadata": {
    "colab": {
     "base_uri": "https://localhost:8080/"
    },
    "id": "WA8uC0da_s5i",
    "outputId": "6dfb9fd6-e725-444e-f002-133a43ac6ed4"
   },
   "outputs": [
    {
     "name": "stdout",
     "output_type": "stream",
     "text": [
      "[2, 3, 4, 3, 2, 4, 5, 6, 7, '@akshaySingh', '@Ram', 'kashu']\n"
     ]
    }
   ],
   "source": [
    "#insert at end\n",
    "temp_list.append('kashu')\n",
    "print(temp_list)"
   ]
  },
  {
   "cell_type": "markdown",
   "metadata": {
    "id": "KVxCet-0_s5i"
   },
   "source": [
    "### insert"
   ]
  },
  {
   "cell_type": "code",
   "execution_count": null,
   "metadata": {
    "colab": {
     "base_uri": "https://localhost:8080/"
    },
    "id": "Pta2PS9x_s5i",
    "outputId": "b6a63245-4fa9-4808-e524-e4f0539d69ec"
   },
   "outputs": [
    {
     "name": "stdout",
     "output_type": "stream",
     "text": [
      "[2, 3, 4, 3, 90, 2, 4, 5, 6, 7, '@akshaySingh', '@Ram', 'kashu']\n"
     ]
    }
   ],
   "source": [
    "#insert at specific position\n",
    "temp_list.insert(4,90)\n",
    "print(temp_list)"
   ]
  },
  {
   "cell_type": "markdown",
   "metadata": {
    "id": "jhFyVasX_s5i"
   },
   "source": [
    "### remove"
   ]
  },
  {
   "cell_type": "code",
   "execution_count": null,
   "metadata": {
    "colab": {
     "base_uri": "https://localhost:8080/"
    },
    "id": "yzd_O7Xb_s5j",
    "outputId": "d652dcdb-1d94-450e-9146-ecaafe635684"
   },
   "outputs": [
    {
     "name": "stdout",
     "output_type": "stream",
     "text": [
      "[2, 3, 4, 3, 2, 4, 5, 6, 7, '@akshaySingh', '@Ram', 'kashu']\n"
     ]
    }
   ],
   "source": [
    "#item which we want to remove\n",
    "temp_list.remove(90) # removes takes item \n",
    "print(temp_list)"
   ]
  },
  {
   "cell_type": "markdown",
   "metadata": {
    "id": "1lHiVQGz_s5j"
   },
   "source": [
    "### pop"
   ]
  },
  {
   "cell_type": "code",
   "execution_count": null,
   "metadata": {
    "colab": {
     "base_uri": "https://localhost:8080/"
    },
    "id": "3qYkjBBs_s5j",
    "outputId": "41ad3729-4e90-4a65-ef8f-4311570d5bbb"
   },
   "outputs": [
    {
     "name": "stdout",
     "output_type": "stream",
     "text": [
      "[2, 3, 4, 3, 2, 4, 5, 6, 7, '@akshaySingh', '@Ram']\n"
     ]
    },
    {
     "data": {
      "text/plain": [
       "[3, 4, 3, 2, 4, 5, 6, 7, '@akshaySingh', '@Ram']"
      ]
     },
     "execution_count": 57,
     "metadata": {
      "tags": []
     },
     "output_type": "execute_result"
    }
   ],
   "source": [
    "temp_list.pop() #remove from last \n",
    "print(temp_list)\n",
    "\n",
    "#OR\n",
    "\n",
    "temp_list.pop(0) #pop also takes index number\n",
    "temp_list"
   ]
  },
  {
   "cell_type": "markdown",
   "metadata": {
    "id": "MfPl5N9K_s5k"
   },
   "source": [
    "### reverse"
   ]
  },
  {
   "cell_type": "code",
   "execution_count": null,
   "metadata": {
    "colab": {
     "base_uri": "https://localhost:8080/"
    },
    "id": "wMhH_p8O_s5l",
    "outputId": "c7969cdb-2b83-4fe3-f464-a5494a2fd022"
   },
   "outputs": [
    {
     "name": "stdout",
     "output_type": "stream",
     "text": [
      "['@Ram', '@akshaySingh', 7, 6, 5, 4, 2, 3, 4, 3]\n"
     ]
    }
   ],
   "source": [
    "temp_list.reverse()\n",
    "print(temp_list)"
   ]
  },
  {
   "cell_type": "markdown",
   "metadata": {
    "id": "3BXPd5hF_s5l"
   },
   "source": [
    "### count"
   ]
  },
  {
   "cell_type": "code",
   "execution_count": null,
   "metadata": {
    "colab": {
     "base_uri": "https://localhost:8080/"
    },
    "id": "Lcvi_AV9_s5l",
    "outputId": "d06edb77-836b-4c27-95e5-4c8ac9e75858"
   },
   "outputs": [
    {
     "name": "stdout",
     "output_type": "stream",
     "text": [
      "['@Ram', '@akshaySingh', 7, 6, 5, 4, 2, 3, 4, 3]\n",
      "2\n"
     ]
    }
   ],
   "source": [
    "print(temp_list)\n",
    "print(temp_list.count(3))"
   ]
  },
  {
   "cell_type": "markdown",
   "metadata": {
    "id": "fA5NAnzk_s5o"
   },
   "source": [
    "### sort"
   ]
  },
  {
   "cell_type": "code",
   "execution_count": null,
   "metadata": {
    "colab": {
     "base_uri": "https://localhost:8080/"
    },
    "id": "YnWaH8cH_s5o",
    "outputId": "54287599-4337-495d-ea29-3db874221b6b"
   },
   "outputs": [
    {
     "data": {
      "text/plain": [
       "[2, 3, 3, 4, 4, 5, 6, 7]"
      ]
     },
     "execution_count": 60,
     "metadata": {
      "tags": []
     },
     "output_type": "execute_result"
    }
   ],
   "source": [
    "temp_list.remove('@Ram')\n",
    "temp_list.pop(0)\n",
    "\n",
    "########\n",
    "\n",
    "#permanent sort \n",
    "temp_list.sort()\n",
    "temp_list"
   ]
  },
  {
   "cell_type": "markdown",
   "metadata": {
    "id": "M9KJGC1C_s5p"
   },
   "source": [
    "### sorted"
   ]
  },
  {
   "cell_type": "code",
   "execution_count": null,
   "metadata": {
    "colab": {
     "base_uri": "https://localhost:8080/"
    },
    "id": "Kk6Rjwif_s5q",
    "outputId": "b6f9ffba-7f9e-410d-e020-ee61ecc6d891"
   },
   "outputs": [
    {
     "name": "stdout",
     "output_type": "stream",
     "text": [
      "[0, 1, 1, 1, 2, 3, 4, 8, 9]\n",
      "[3, 4, 1, 2, 1, 8, 0, 1, 9]\n"
     ]
    }
   ],
   "source": [
    "#temorary sort\n",
    "temp_list = [3,4,1,2,1,8,0,1,9]\n",
    "print(sorted(temp_list)) \n",
    "print(temp_list)# Actual list doesn't change "
   ]
  },
  {
   "cell_type": "markdown",
   "metadata": {
    "id": "4LWvqAB1_s5q"
   },
   "source": [
    "### extend"
   ]
  },
  {
   "cell_type": "code",
   "execution_count": null,
   "metadata": {
    "colab": {
     "base_uri": "https://localhost:8080/"
    },
    "id": "i3qb2-ee_s5q",
    "outputId": "e0a3d71b-8c57-4925-b089-49b8c3996ee1"
   },
   "outputs": [
    {
     "name": "stdout",
     "output_type": "stream",
     "text": [
      "[3, 4, 1, 2, 1, 8, 0, 1, 9, 'raju', 'ram', 'shyam', 'ramu']\n",
      "--see difference from append--\n",
      "[3, 4, 1, 2, 1, 8, 0, 1, 9, 'raju', 'ram', 'shyam', 'ramu', ['raju', 'ram', 'shyam', 'ramu']]\n"
     ]
    }
   ],
   "source": [
    "list_new = ['raju', 'ram', 'shyam', 'ramu']\n",
    "temp_list.extend(list_new)\n",
    "print(temp_list)\n",
    "\n",
    "print('--see difference from append--')\n",
    "temp_list.append(list_new)\n",
    "print(temp_list)"
   ]
  },
  {
   "cell_type": "markdown",
   "metadata": {
    "id": "jtyGX-cO_s5q"
   },
   "source": [
    "### list Slicing "
   ]
  },
  {
   "cell_type": "code",
   "execution_count": null,
   "metadata": {
    "colab": {
     "base_uri": "https://localhost:8080/"
    },
    "id": "Kepwus44_s5r",
    "outputId": "dc990b63-8d3f-48fb-9b4d-ad1a4d6a06ae"
   },
   "outputs": [
    {
     "name": "stdout",
     "output_type": "stream",
     "text": [
      "[3, 4, 1, 2, 1, 8, 0, 1, 9, 'raju', 'ram', 'shyam', 'ramu', ['raju', 'ram', 'shyam', 'ramu']]\n",
      "[1, 2, 1]\n",
      "[3, 4, 1, 2, 1, 8, 0, 1, 9, 'raju', 'ram', 'shyam']\n",
      "['shyam', 'ramu', ['raju', 'ram', 'shyam', 'ramu']]\n",
      "[['raju', 'ram', 'shyam', 'ramu'], 'ramu', 'shyam', 'ram', 'raju', 9, 1, 0, 8, 1, 2, 1, 4, 3]\n",
      "[['raju', 'ram', 'shyam', 'ramu'], 'ram', 1, 1, 4]\n",
      "2\n"
     ]
    }
   ],
   "source": [
    "print(temp_list[0:])\n",
    "print(temp_list[2:5]) # 5 is exclusive \n",
    "print(temp_list[:-2]) #-2 is exclusive\n",
    "print(temp_list[-3:])\n",
    "print(temp_list[::-1]) # -1 step\n",
    "print(temp_list[::-3])\n",
    "print(temp_list[3])"
   ]
  },
  {
   "cell_type": "markdown",
   "metadata": {
    "id": "LMueI2Br_s5r"
   },
   "source": [
    "### In operator in list iteration"
   ]
  },
  {
   "cell_type": "code",
   "execution_count": null,
   "metadata": {
    "colab": {
     "base_uri": "https://localhost:8080/"
    },
    "id": "597WerDc_s5r",
    "outputId": "e8cd78e1-d754-40ae-d123-44466f4ef0a2"
   },
   "outputs": [
    {
     "name": "stdout",
     "output_type": "stream",
     "text": [
      "True\n",
      "True\n",
      "False\n"
     ]
    }
   ],
   "source": [
    "company_list = ['TCS', 'Infosys', 'Google', 'Flipkart', 'Accenture', 'Wipro','Deloitte']\n",
    "print('Flipkart' in company_list)\n",
    "print('twitter' not in company_list)\n",
    "print('Mahindra' in company_list)"
   ]
  },
  {
   "cell_type": "code",
   "execution_count": null,
   "metadata": {
    "colab": {
     "base_uri": "https://localhost:8080/"
    },
    "id": "pk7zm1T7_s5x",
    "outputId": "71ac9259-be7c-4375-a844-f2fc28ca54f4"
   },
   "outputs": [
    {
     "name": "stdout",
     "output_type": "stream",
     "text": [
      "[(1, 2, 3), (4, 5, 6)]\n"
     ]
    }
   ],
   "source": [
    "tup1 = (1,2,3)\n",
    "tup2 = (4,5,6)\n",
    "lis_tup = [tup1, tup2]\n",
    "print(lis_tup)"
   ]
  },
  {
   "cell_type": "code",
   "execution_count": null,
   "metadata": {
    "colab": {
     "base_uri": "https://localhost:8080/"
    },
    "id": "zKHJ-Jnj_s5y",
    "outputId": "f5b538fc-b212-48a1-c18f-e778ec51c203"
   },
   "outputs": [
    {
     "name": "stdout",
     "output_type": "stream",
     "text": [
      "1 2 3 \n",
      "4 5 6 \n"
     ]
    }
   ],
   "source": [
    "#access nested list \n",
    "for i in lis_tup:\n",
    "    for j in i:\n",
    "        print(j, end=\" \")\n",
    "    print()"
   ]
  },
  {
   "cell_type": "markdown",
   "metadata": {
    "id": "PyWWyxF2_s5y"
   },
   "source": [
    "### Comarison traditional vs Comrehension"
   ]
  },
  {
   "cell_type": "code",
   "execution_count": null,
   "metadata": {
    "colab": {
     "base_uri": "https://localhost:8080/"
    },
    "id": "t_WwEipE_s5y",
    "outputId": "494499cd-e744-4017-f2fe-bd5f8444d686"
   },
   "outputs": [
    {
     "name": "stdout",
     "output_type": "stream",
     "text": [
      "[[1, 2, 3], [4, 5, 6], [7, 8, 9]]\n",
      "[1, 4, 7]\n",
      "[1, 4, 7]\n"
     ]
    }
   ],
   "source": [
    "l1=[1,2,3]\n",
    "l2=[4,5,6]\n",
    "l3=[7,8,9]\n",
    "new=list()\n",
    "new.append(l1)\n",
    "new.append(l2)\n",
    "new.append(l3)\n",
    "print(new)\n",
    "\n",
    "li=[]\n",
    "for i in new:\n",
    "  li.append(i[0])\n",
    "print(li)\n",
    "\n",
    "#OR(Using Comprehension)\n",
    "\n",
    "li=[i[0] for i in new]\n",
    "print(li)\n",
    "\n"
   ]
  },
  {
   "cell_type": "code",
   "execution_count": null,
   "metadata": {
    "colab": {
     "base_uri": "https://localhost:8080/"
    },
    "id": "3m386uc9_s5z",
    "outputId": "4f5a3199-bb03-4b58-f372-713dbe7fdfea"
   },
   "outputs": [
    {
     "data": {
      "text/plain": [
       "['zyx', 'fed', 'cba']"
      ]
     },
     "execution_count": 68,
     "metadata": {
      "tags": []
     },
     "output_type": "execute_result"
    }
   ],
   "source": [
    "#reversing only string list of element by place as well as there position\n",
    "\n",
    "dumy=[1,2,3,4,5,6,7,8,['abc','def','xyz']]\n",
    "temp=[]\n",
    "for i in dumy:\n",
    "  if type(i) == list:\n",
    "      for s in i:\n",
    "        temp.append(s[::-1])\n",
    "temp[::-1]"
   ]
  },
  {
   "cell_type": "markdown",
   "metadata": {
    "id": "LSClFPxH_s5z"
   },
   "source": [
    "### Basic_Level_2:"
   ]
  },
  {
   "cell_type": "markdown",
   "metadata": {
    "id": "T_rRNwwd_s5z"
   },
   "source": [
    "### max"
   ]
  },
  {
   "cell_type": "code",
   "execution_count": null,
   "metadata": {
    "colab": {
     "base_uri": "https://localhost:8080/"
    },
    "id": "xVlca2wz_s5z",
    "outputId": "e4721c94-1ee3-415c-ded7-dc35b868d903"
   },
   "outputs": [
    {
     "data": {
      "text/plain": [
       "9"
      ]
     },
     "execution_count": 8,
     "metadata": {
      "tags": []
     },
     "output_type": "execute_result"
    }
   ],
   "source": [
    "list1 = [2,3,4,1,2,3,9,8]\n",
    "max(list1)"
   ]
  },
  {
   "cell_type": "markdown",
   "metadata": {
    "id": "QDtbTplN_s5z"
   },
   "source": [
    "### len"
   ]
  },
  {
   "cell_type": "code",
   "execution_count": 76,
   "metadata": {
    "id": "0Mr-TakD_s5z"
   },
   "outputs": [
    {
     "data": {
      "text/plain": [
       "12"
      ]
     },
     "execution_count": 76,
     "metadata": {},
     "output_type": "execute_result"
    }
   ],
   "source": [
    "len(temp_list)"
   ]
  },
  {
   "cell_type": "markdown",
   "metadata": {
    "id": "ITlXvgVq_s50"
   },
   "source": [
    "### sum"
   ]
  },
  {
   "cell_type": "code",
   "execution_count": 77,
   "metadata": {
    "id": "F-a4SIAs_s50"
   },
   "outputs": [
    {
     "ename": "TypeError",
     "evalue": "unsupported operand type(s) for +: 'int' and 'str'",
     "output_type": "error",
     "traceback": [
      "\u001b[0;31m---------------------------------------------------------------------------\u001b[0m",
      "\u001b[0;31mTypeError\u001b[0m                                 Traceback (most recent call last)",
      "\u001b[0;32m<ipython-input-77-bea8e7a7a8c7>\u001b[0m in \u001b[0;36m<module>\u001b[0;34m\u001b[0m\n\u001b[0;32m----> 1\u001b[0;31m \u001b[0msum\u001b[0m\u001b[0;34m(\u001b[0m\u001b[0mtemp_list\u001b[0m\u001b[0;34m)\u001b[0m\u001b[0;34m\u001b[0m\u001b[0;34m\u001b[0m\u001b[0m\n\u001b[0m",
      "\u001b[0;31mTypeError\u001b[0m: unsupported operand type(s) for +: 'int' and 'str'"
     ]
    }
   ],
   "source": [
    "sum(temp_list)"
   ]
  },
  {
   "cell_type": "markdown",
   "metadata": {
    "id": "2UeF3Nyf_s51"
   },
   "source": [
    "### Pyhton Advance Swapping"
   ]
  },
  {
   "cell_type": "code",
   "execution_count": null,
   "metadata": {
    "colab": {
     "base_uri": "https://localhost:8080/"
    },
    "id": "8QgUb5VY_s51",
    "outputId": "56a37e0d-0ce2-4057-ddea-71f811dfcb06"
   },
   "outputs": [
    {
     "name": "stdout",
     "output_type": "stream",
     "text": [
      "[3, 4, 1, 2, 1, 8, 0, 1, 9, 'raju', 'ram', 'shyam', 'ramu', ['raju', 'ram', 'shyam', 'ramu']]\n",
      "[1, 4, 1, 2, 1, 8, 0, 1, 9, 'raju', 'ram', 'shyam', 'ramu', ['raju', 'ram', 'shyam', 'ramu']]\n",
      "[1, 4, 1, 8, 1, 2, 0, 1, 9, 'raju', 'ram', 'shyam', 'ramu', ['raju', 'ram', 'shyam', 'ramu']]\n"
     ]
    }
   ],
   "source": [
    "#Practicle_Example_(1):\n",
    "#Swapping inside list\n",
    "\n",
    "\n",
    "#CODE (1):\n",
    "print(temp_list)\n",
    "pos1 = 0 \n",
    "pos2 = 7\n",
    "temp_list[pos1], temp_list[pos1] = temp_list[pos2], temp_list[pos2]\n",
    "print(temp_list)\n",
    "\n",
    "\n",
    "#CODE (2): Much appropriate way\n",
    "temp = temp_list[3], temp_list[5]\n",
    "temp_list[5], temp_list[3] = temp\n",
    "print(temp_list)"
   ]
  },
  {
   "cell_type": "code",
   "execution_count": null,
   "metadata": {
    "collapsed": true,
    "id": "zNLva5Tw_s51"
   },
   "outputs": [],
   "source": [
    "#Practicle_Example_(2):\n",
    "#Number of +ve and -ve elements are in the list\n",
    "\n",
    "\n",
    "#CODE (1):\n",
    "list1 = [-1, -2, -3, 4, 5, 6, 7]\n",
    "listN = list(i for i in list1 if i < 0) #Comprehension Method(IMP.)\n",
    "print(listN)\n",
    "print('Number of +ve elements and -ve elements are: ',len(listN),'and',  len(list1) - len(listN))\n",
    "\n",
    "#CODE (2):\n",
    "listP = list(filter(lambda i: i > 0,list1))\n",
    "print(listP)"
   ]
  },
  {
   "cell_type": "code",
   "execution_count": null,
   "metadata": {
    "collapsed": true,
    "id": "DVUtuBHO_s51"
   },
   "outputs": [],
   "source": [
    "#Practicle_Example_(3):\n",
    "#Number of even and odd elements in the list\n",
    "\n",
    "\n",
    "#CODE:\n",
    "list2 = [1,2,3,4,5,6,7,8,9]\n",
    "evenList = list(filter(lambda i : i%2 == 0 , list2))\n",
    "print(evenList)\n",
    "print(len(evenList))"
   ]
  },
  {
   "cell_type": "code",
   "execution_count": null,
   "metadata": {
    "collapsed": true,
    "id": "NrkVg_NV_s52"
   },
   "outputs": [],
   "source": [
    "#Practicle_Example_(4):\n",
    "#Map method\n",
    "\n",
    "\n",
    "#CODE:\n",
    "map_list = list(map(lambda i : i*2, list2))\n",
    "print(map_list)"
   ]
  },
  {
   "cell_type": "markdown",
   "metadata": {
    "id": "jCasp0vs_s52"
   },
   "source": [
    "### not in operator"
   ]
  },
  {
   "cell_type": "code",
   "execution_count": null,
   "metadata": {
    "collapsed": true,
    "id": "OUlv_Va__s52"
   },
   "outputs": [],
   "source": [
    "#Practicle_Example_(5):\n",
    "#Removing Elements from known List\n",
    " \n",
    "#CODE (1):\n",
    "print(temp_list)\n",
    "re_item = [3, 4]\n",
    "for i in re_item:\n",
    "    temp_list.remove(i) # basic method\n",
    "print(temp_list)\n",
    "\n",
    "\n",
    "#CODE (2):\n",
    "list3 = [7, 3, 5, 4, 6, 7]\n",
    "list_new = [i for i in list3 if i not in re_item ] # Comprehensive method \n",
    "print(list_new)"
   ]
  },
  {
   "cell_type": "code",
   "execution_count": null,
   "metadata": {
    "colab": {
     "base_uri": "https://localhost:8080/"
    },
    "collapsed": true,
    "id": "WqzKzLWj_s52",
    "outputId": "d3f673bd-5e1c-494d-dbcf-eaca26364d55"
   },
   "outputs": [
    {
     "name": "stdout",
     "output_type": "stream",
     "text": [
      "[1, 1, 2, 2, 3, 4, 5, 6, 7, 7, 8, 8, 8, 9, 10]\n",
      "[1, 2, 3, 4, 5, 6, 7, 8, 9, 10]\n",
      "[1, 2, 3, 4, 5, 6, 7, 8, 9, 10]\n"
     ]
    }
   ],
   "source": [
    "#Practicle_Example_(5):\n",
    "#Removing Duplicates (Using NOT IN operator)\n",
    "\n",
    "\n",
    "#CODE:\n",
    "Duplicates_list = [1,1,2,2,3,4,5,6,7,7,8,8,8,9,10]\n",
    "dummy =[]\n",
    "for i in Duplicates_list:\n",
    "    if i not in dummy:\n",
    "        dummy.append(i)\n",
    "print(Duplicates_list)\n",
    "print(dummy)\n",
    "# CODE:\n",
    "#using set\n",
    "print(list(set(Duplicates_list)))\n"
   ]
  },
  {
   "cell_type": "markdown",
   "metadata": {
    "id": "QiooMnvL_s52"
   },
   "source": [
    "### Advance Concepts :-"
   ]
  },
  {
   "cell_type": "markdown",
   "metadata": {
    "id": "fGw5dGWP_s53"
   },
   "source": [
    "* 1. difference between extend and append\n",
    "* 2. append(): appends whole object at end"
   ]
  },
  {
   "cell_type": "code",
   "execution_count": null,
   "metadata": {
    "collapsed": true,
    "id": "46PnFfES_s53"
   },
   "outputs": [],
   "source": [
    "a = [1,3,2,4]\n",
    "a.append([5,6])\n",
    "a"
   ]
  },
  {
   "cell_type": "markdown",
   "metadata": {
    "id": "O_A73Glm_s53"
   },
   "source": [
    "* extend: extends list by appending elements from the iterable:"
   ]
  },
  {
   "cell_type": "code",
   "execution_count": null,
   "metadata": {
    "collapsed": true,
    "id": "Qsj5-RtX_s53"
   },
   "outputs": [],
   "source": [
    "b = [10,30,20,40]\n",
    "b.extend([50,60])\n",
    "b"
   ]
  },
  {
   "cell_type": "markdown",
   "metadata": {
    "id": "-PYX-8-Q_s54"
   },
   "source": [
    "* Note this occurs in place! Meaning it affects your list permanently."
   ]
  },
  {
   "cell_type": "code",
   "execution_count": null,
   "metadata": {
    "collapsed": true,
    "id": "AbJt8YK0_s54"
   },
   "outputs": [],
   "source": [
    "b.reverse()\n",
    "b"
   ]
  },
  {
   "cell_type": "code",
   "execution_count": null,
   "metadata": {
    "collapsed": true,
    "id": "vATf0cbg_s54"
   },
   "outputs": [],
   "source": [
    "b.sort()\n",
    "b"
   ]
  },
  {
   "cell_type": "markdown",
   "metadata": {
    "id": "SeHOf_pi_s54"
   },
   "source": [
    "### list comprehension"
   ]
  },
  {
   "cell_type": "code",
   "execution_count": null,
   "metadata": {
    "collapsed": true,
    "id": "QUIBZsWf_s54"
   },
   "outputs": [],
   "source": [
    "sqr=[i**2 for i in range(2,11)]\n",
    "sqr"
   ]
  },
  {
   "cell_type": "code",
   "execution_count": null,
   "metadata": {
    "colab": {
     "base_uri": "https://localhost:8080/"
    },
    "collapsed": true,
    "id": "wIHoN4dN_s54",
    "outputId": "0d387cc0-c026-4f10-a6dd-cb79f4de33b6"
   },
   "outputs": [
    {
     "data": {
      "text/plain": [
       "[[1, 2, 3, 4], [5, 6, 7, 8], [9, 8, 10, 11]]"
      ]
     },
     "execution_count": 12,
     "metadata": {
      "tags": []
     },
     "output_type": "execute_result"
    }
   ],
   "source": [
    "#define nested list as matrix\n",
    "matrix=[\n",
    "        [1,2,3,4],\n",
    "        [5,6,7,8],\n",
    "        [9,8,10,11]\n",
    "]\n",
    "matrix"
   ]
  },
  {
   "cell_type": "code",
   "execution_count": null,
   "metadata": {
    "colab": {
     "base_uri": "https://localhost:8080/"
    },
    "collapsed": true,
    "id": "lksnum0h_s55",
    "outputId": "29718e0e-770a-4898-c79c-45f84cdfe6bc"
   },
   "outputs": [
    {
     "data": {
      "text/plain": [
       "[[1, 5, 9], [2, 6, 8], [3, 7, 10], [4, 8, 11]]"
      ]
     },
     "execution_count": 13,
     "metadata": {
      "tags": []
     },
     "output_type": "execute_result"
    }
   ],
   "source": [
    "#transpose in pyhton as trditional ways\n",
    "transpose=[]\n",
    "for column in range(4):\n",
    "  col=[]\n",
    "  for row in matrix:\n",
    "    col.append(row[column])\n",
    "  transpose.append(col)\n",
    "\n",
    "transpose"
   ]
  },
  {
   "cell_type": "markdown",
   "metadata": {
    "id": "7I2nikM8_s55"
   },
   "source": [
    "* **why list comprehension**\n",
    "    * **Pros: more effective and less line of code**\n",
    "    * **Cons: readability of code may goes decrease**"
   ]
  },
  {
   "cell_type": "code",
   "execution_count": null,
   "metadata": {
    "colab": {
     "base_uri": "https://localhost:8080/"
    },
    "collapsed": true,
    "id": "m71E9VP8_s55",
    "outputId": "8b2feebd-c897-4366-fce3-e70550fd22e0"
   },
   "outputs": [
    {
     "data": {
      "text/plain": [
       "[[1, 5, 9], [2, 6, 8], [3, 7, 10], [4, 8, 11]]"
      ]
     },
     "execution_count": 14,
     "metadata": {
      "tags": []
     },
     "output_type": "execute_result"
    }
   ],
   "source": [
    "#using list comprehension \n",
    "tr=[[r[i] for r in matrix] for i in range(4)]\n",
    "tr"
   ]
  },
  {
   "cell_type": "markdown",
   "metadata": {
    "id": "h5uz8jTV_s56"
   },
   "source": [
    "### conversion of list<->tuple<->set for use cases"
   ]
  },
  {
   "cell_type": "code",
   "execution_count": null,
   "metadata": {
    "colab": {
     "base_uri": "https://localhost:8080/"
    },
    "collapsed": true,
    "id": "GRiObbtt_s56",
    "outputId": "32bc6e9e-eae0-4d92-8d53-ad7565a37c3f"
   },
   "outputs": [
    {
     "data": {
      "text/plain": [
       "(1, 2, 3, 4, 5, ['Aks', 'Hay', 'is', 'Learn', 'Machine'], 7, 8, 9)"
      ]
     },
     "execution_count": 16,
     "metadata": {
      "tags": []
     },
     "output_type": "execute_result"
    }
   ],
   "source": [
    "tup=(1,2,3,4,5,['Aks','Hay','is','Learn','Machine'],7,8,9)\n",
    "tup"
   ]
  },
  {
   "cell_type": "code",
   "execution_count": null,
   "metadata": {
    "colab": {
     "base_uri": "https://localhost:8080/"
    },
    "collapsed": true,
    "id": "g_5IHw8z_s56",
    "outputId": "ccad34a4-4344-4671-bcfe-14bc82738648"
   },
   "outputs": [
    {
     "data": {
      "text/plain": [
       "[1, 2, 20, 4, 5, ['Aks', 'Hay', 'is', 'Learn', 'Machine'], 7, 8, 9]"
      ]
     },
     "execution_count": 17,
     "metadata": {
      "tags": []
     },
     "output_type": "execute_result"
    }
   ],
   "source": [
    "#for the updation in tuple\n",
    "lis=list(tup)\n",
    "lis[2]=20\n",
    "lis"
   ]
  },
  {
   "cell_type": "code",
   "execution_count": null,
   "metadata": {
    "colab": {
     "base_uri": "https://localhost:8080/"
    },
    "collapsed": true,
    "id": "Q5b45Td9_s56",
    "outputId": "d0cc3e73-f3f3-4850-e4f9-aeb350383650"
   },
   "outputs": [
    {
     "data": {
      "text/plain": [
       "{'1', '2', '3', '4', '5', '6', '7', '8', '9'}"
      ]
     },
     "execution_count": 18,
     "metadata": {
      "tags": []
     },
     "output_type": "execute_result"
    }
   ],
   "source": [
    "set1=set(\"123456789\")\n",
    "set1"
   ]
  },
  {
   "cell_type": "markdown",
   "metadata": {
    "id": "BMcIV0ZC_s56"
   },
   "source": [
    "**NOTE:**"
   ]
  },
  {
   "cell_type": "code",
   "execution_count": null,
   "metadata": {
    "collapsed": true,
    "id": "geXttOA6_s56"
   },
   "outputs": [],
   "source": [
    "#slicing or subscripting is not allowed in sets due to unorderd property of sets\n",
    "#but we can perforn subscripting by using for loop i.e. set1[1] gives you an error \n",
    "for i in set1:\n",
    "    print(i,end=\" \")"
   ]
  },
  {
   "cell_type": "markdown",
   "metadata": {
    "id": "zTZeacfo_s56"
   },
   "source": [
    "* **Set may be  quite handy inoder to remove duplicates from list or tuple**"
   ]
  },
  {
   "cell_type": "code",
   "execution_count": null,
   "metadata": {
    "collapsed": true,
    "id": "kFvUWfFx_s57"
   },
   "outputs": [],
   "source": [
    "#for duplicay\n",
    "lis=list(set1)\n",
    "print(lis)\n",
    "lis.insert(3,12)\n",
    "print(lis)"
   ]
  },
  {
   "cell_type": "code",
   "execution_count": null,
   "metadata": {
    "collapsed": true,
    "id": "0mgANsjv_s57"
   },
   "outputs": [],
   "source": [
    "dumySet={0,False,1,2,2,2,2,3,3,3,6,True,1}\n",
    "dumySet\n",
    "#false ==> 0 and True ==> 1"
   ]
  },
  {
   "cell_type": "markdown",
   "metadata": {
    "id": "3WiZ3YLs_s58"
   },
   "source": [
    "### Dictionary in Python :-"
   ]
  },
  {
   "cell_type": "markdown",
   "metadata": {
    "id": "l8wnZpwf_s59"
   },
   "source": [
    "### creating a dictionary"
   ]
  },
  {
   "cell_type": "code",
   "execution_count": 78,
   "metadata": {
    "colab": {
     "base_uri": "https://localhost:8080/"
    },
    "id": "Wai7Bgzm_s59",
    "outputId": "1fbc3a75-a17f-49ab-b777-82057ca85424"
   },
   "outputs": [
    {
     "data": {
      "text/plain": [
       "{'101AB': 'Ramu', '100AC': 'Raja', '111AU': 'Shyam'}"
      ]
     },
     "execution_count": 78,
     "metadata": {},
     "output_type": "execute_result"
    }
   ],
   "source": [
    "temp_dict = {\"101AB\": \"Ramu\",\n",
    "         \"100AC\": \"Raja\",\n",
    "             \"111AU\": \"Shyam\"\n",
    "}\n",
    "temp_dict"
   ]
  },
  {
   "cell_type": "markdown",
   "metadata": {
    "id": "CKvqQgnh_s59"
   },
   "source": [
    "### Accessing elements"
   ]
  },
  {
   "cell_type": "code",
   "execution_count": 79,
   "metadata": {
    "colab": {
     "base_uri": "https://localhost:8080/",
     "height": 58
    },
    "id": "OVWA0sAN_s59",
    "outputId": "4dd628a8-4641-44db-d227-53e2cdfb1902"
   },
   "outputs": [
    {
     "data": {
      "text/plain": [
       "'Ramu'"
      ]
     },
     "execution_count": 79,
     "metadata": {},
     "output_type": "execute_result"
    }
   ],
   "source": [
    "temp_dict[\"101AB\"]"
   ]
  },
  {
   "cell_type": "code",
   "execution_count": 80,
   "metadata": {
    "colab": {
     "base_uri": "https://localhost:8080/",
     "height": 58
    },
    "id": "nTPsAyk9_s59",
    "outputId": "913df7bf-b65e-48d2-94bc-67a92575db87"
   },
   "outputs": [
    {
     "data": {
      "text/plain": [
       "'Raja'"
      ]
     },
     "execution_count": 80,
     "metadata": {},
     "output_type": "execute_result"
    }
   ],
   "source": [
    "temp_dict.get(\"100AC\")"
   ]
  },
  {
   "cell_type": "code",
   "execution_count": 81,
   "metadata": {
    "colab": {
     "base_uri": "https://localhost:8080/",
     "height": 199
    },
    "id": "xUP2RIOR_s6A",
    "outputId": "e4176223-8bee-44ef-b349-b4e376a7d0e5"
   },
   "outputs": [
    {
     "ename": "KeyError",
     "evalue": "'Cc'",
     "output_type": "error",
     "traceback": [
      "\u001b[0;31m---------------------------------------------------------------------------\u001b[0m",
      "\u001b[0;31mKeyError\u001b[0m                                  Traceback (most recent call last)",
      "\u001b[0;32m<ipython-input-81-a036f92fa702>\u001b[0m in \u001b[0;36m<module>\u001b[0;34m\u001b[0m\n\u001b[1;32m      1\u001b[0m \u001b[0;31m#wrong key(generate bad error)\u001b[0m\u001b[0;34m\u001b[0m\u001b[0;34m\u001b[0m\u001b[0;34m\u001b[0m\u001b[0m\n\u001b[0;32m----> 2\u001b[0;31m \u001b[0mtemp_dict\u001b[0m\u001b[0;34m[\u001b[0m\u001b[0;34m'Cc'\u001b[0m\u001b[0;34m]\u001b[0m\u001b[0;34m\u001b[0m\u001b[0;34m\u001b[0m\u001b[0m\n\u001b[0m",
      "\u001b[0;31mKeyError\u001b[0m: 'Cc'"
     ]
    }
   ],
   "source": [
    "#wrong key(generate bad error)\n",
    "temp_dict['Cc']"
   ]
  },
  {
   "cell_type": "markdown",
   "metadata": {
    "id": "JavrsldJ_s6A"
   },
   "source": [
    "* in handle such situation we use **get** methods which works more precisely\n",
    "* return None if key doesn't exist"
   ]
  },
  {
   "cell_type": "code",
   "execution_count": 82,
   "metadata": {
    "colab": {
     "base_uri": "https://localhost:8080/"
    },
    "id": "DqrVpv7L_s6A",
    "outputId": "cb3ce73a-0377-4f83-d6ff-7ce659328216"
   },
   "outputs": [
    {
     "name": "stdout",
     "output_type": "stream",
     "text": [
      "True\n"
     ]
    }
   ],
   "source": [
    "val=temp_dict.get('Cc')\n",
    "print(True) if val == None else print(val)\n",
    "#ternary operator in pyhton"
   ]
  },
  {
   "cell_type": "markdown",
   "metadata": {
    "id": "IZaEGixO_s6E"
   },
   "source": [
    "### insertion or overwrite the key value"
   ]
  },
  {
   "cell_type": "code",
   "execution_count": 83,
   "metadata": {
    "id": "YsXWK1Yd_s6F"
   },
   "outputs": [
    {
     "data": {
      "text/plain": [
       "{'101AB': 'Ramu', '100AC': 'Raja', '111AU': 'Rakesh'}"
      ]
     },
     "execution_count": 83,
     "metadata": {},
     "output_type": "execute_result"
    }
   ],
   "source": [
    "temp_dict[\"111AU\"] = \"Rakesh\"\n",
    "temp_dict"
   ]
  },
  {
   "cell_type": "markdown",
   "metadata": {
    "id": "5TpLY9Yv_s6F"
   },
   "source": [
    "### iteration over the dictinary"
   ]
  },
  {
   "cell_type": "code",
   "execution_count": 84,
   "metadata": {
    "id": "AAb_dXeN_s6F"
   },
   "outputs": [
    {
     "name": "stdout",
     "output_type": "stream",
     "text": [
      "{'101AB': 'Ramu', '100AC': 'Raja', '111AU': 'Rakesh'}\n",
      "101AB :  Ramu\n",
      "100AC :  Raja\n",
      "111AU :  Rakesh\n"
     ]
    }
   ],
   "source": [
    "print(temp_dict)\n",
    "for i in temp_dict:\n",
    "    print(i,\": \", temp_dict[i])"
   ]
  },
  {
   "cell_type": "markdown",
   "metadata": {
    "id": "cqgl-gkd_s6F"
   },
   "source": [
    "### values()"
   ]
  },
  {
   "cell_type": "code",
   "execution_count": 85,
   "metadata": {
    "id": "SvODN2my_s6G"
   },
   "outputs": [
    {
     "name": "stdout",
     "output_type": "stream",
     "text": [
      "dict_values(['Ramu', 'Raja', 'Rakesh'])\n",
      "Ramu\n",
      "Raja\n",
      "Rakesh\n"
     ]
    }
   ],
   "source": [
    "print(temp_dict.values())\n",
    "for i in temp_dict.values():\n",
    "    print(i)"
   ]
  },
  {
   "cell_type": "markdown",
   "metadata": {
    "id": "M9SqLbVp_s6I"
   },
   "source": [
    "### items()  \n",
    "* return list of tuple with key-value pair"
   ]
  },
  {
   "cell_type": "code",
   "execution_count": 86,
   "metadata": {
    "id": "Q-xKwPz8_s6I"
   },
   "outputs": [
    {
     "name": "stdout",
     "output_type": "stream",
     "text": [
      "dict_items([('101AB', 'Ramu'), ('100AC', 'Raja'), ('111AU', 'Rakesh')])\n",
      "101AB Ramu\n",
      "100AC Raja\n",
      "111AU Rakesh\n"
     ]
    }
   ],
   "source": [
    "print(temp_dict.items())\n",
    "for i,j in temp_dict.items():\n",
    "    print(i, j)"
   ]
  },
  {
   "cell_type": "markdown",
   "metadata": {
    "id": "zMTQtc1k_s6I"
   },
   "source": [
    "### Searching 'key' without iteration"
   ]
  },
  {
   "cell_type": "code",
   "execution_count": 87,
   "metadata": {
    "id": "6aAyOhfL_s6I"
   },
   "outputs": [
    {
     "name": "stdout",
     "output_type": "stream",
     "text": [
      "True\n"
     ]
    }
   ],
   "source": [
    "print('True') if '100AC' in temp_dict else print('False')"
   ]
  },
  {
   "cell_type": "markdown",
   "metadata": {
    "id": "e1X0zaPz_s6I"
   },
   "source": [
    "### Searching 'value' without iteration"
   ]
  },
  {
   "cell_type": "code",
   "execution_count": 88,
   "metadata": {
    "id": "SH5leHWY_s6I"
   },
   "outputs": [
    {
     "name": "stdout",
     "output_type": "stream",
     "text": [
      "True\n"
     ]
    }
   ],
   "source": [
    "print('True') if 'Rakesh' in temp_dict.values() else print('False')"
   ]
  },
  {
   "cell_type": "markdown",
   "metadata": {
    "id": "kXCJhx6__s6J"
   },
   "source": [
    "### len: \n",
    "* length of dictionary"
   ]
  },
  {
   "cell_type": "code",
   "execution_count": 89,
   "metadata": {
    "id": "J-MUJ0rv_s6J"
   },
   "outputs": [
    {
     "data": {
      "text/plain": [
       "3"
      ]
     },
     "execution_count": 89,
     "metadata": {},
     "output_type": "execute_result"
    }
   ],
   "source": [
    "len(temp_dict)"
   ]
  },
  {
   "cell_type": "code",
   "execution_count": 90,
   "metadata": {
    "id": "dLzc4Saa_s6J"
   },
   "outputs": [
    {
     "name": "stdout",
     "output_type": "stream",
     "text": [
      "{'101AB': 'Ramu', '100AC': 'Raja', '111AU': 'Rakesh'}\n"
     ]
    },
    {
     "data": {
      "text/plain": [
       "{'101AB': 'Ramu', '100AC': 'Raja', '111AU': 'Rakesh', '101AQ': 'Wahab'}"
      ]
     },
     "execution_count": 90,
     "metadata": {},
     "output_type": "execute_result"
    }
   ],
   "source": [
    "print(temp_dict)\n",
    "temp_dict[\"101AQ\"] = \"Wahab\" #insertion\n",
    "temp_dict"
   ]
  },
  {
   "cell_type": "markdown",
   "metadata": {
    "id": "vR7zLZux_s6L"
   },
   "source": [
    "### Remove Elements from Dictionary\n",
    "* Popular methods are:\n",
    "    * 1.pop() \n",
    "    * 2.popitems()"
   ]
  },
  {
   "cell_type": "markdown",
   "metadata": {
    "id": "OWBvfPT0_s6L"
   },
   "source": [
    "### pop \n",
    "* **Difference between list pop and dictionary pop**\n",
    "    * in list pop takes one argument as index or also work for without argument but in dictionary it also takes  index but as a 'key' "
   ]
  },
  {
   "cell_type": "code",
   "execution_count": null,
   "metadata": {
    "colab": {
     "base_uri": "https://localhost:8080/"
    },
    "id": "6MAGHALH_s6M",
    "outputId": "2aa9bf0a-1e5b-4958-ee0c-dbaac903fa83"
   },
   "outputs": [
    {
     "name": "stdout",
     "output_type": "stream",
     "text": [
      "{'101AB': 'Ramu', '100AC': 'Raja', '111AU': 'Shyam'}\n"
     ]
    },
    {
     "data": {
      "text/plain": [
       "{'100AC': 'Raja', '111AU': 'Shyam'}"
      ]
     },
     "execution_count": 31,
     "metadata": {
      "tags": []
     },
     "output_type": "execute_result"
    }
   ],
   "source": [
    "print(temp_dict)\n",
    "temp_dict.pop(\"101AB\")\n",
    "temp_dict"
   ]
  },
  {
   "cell_type": "markdown",
   "metadata": {
    "id": "NdotxOnI_s6M"
   },
   "source": [
    "### popitem"
   ]
  },
  {
   "cell_type": "markdown",
   "metadata": {
    "id": "bnTq5DRB_s6M"
   },
   "source": [
    "* Remove last key-value pair"
   ]
  },
  {
   "cell_type": "code",
   "execution_count": 91,
   "metadata": {
    "id": "Jy7Zhu3Q_s6M"
   },
   "outputs": [
    {
     "data": {
      "text/plain": [
       "('101AQ', 'Wahab')"
      ]
     },
     "execution_count": 91,
     "metadata": {},
     "output_type": "execute_result"
    }
   ],
   "source": [
    "temp_dict.popitem()"
   ]
  },
  {
   "cell_type": "markdown",
   "metadata": {
    "id": "65ulVfi603B5"
   },
   "source": [
    "NOTE: Use of del"
   ]
  },
  {
   "cell_type": "code",
   "execution_count": null,
   "metadata": {
    "colab": {
     "base_uri": "https://localhost:8080/"
    },
    "id": "jL6aU1w805-a",
    "outputId": "e365c0de-e207-4e0c-9d4e-e4a5c973d974"
   },
   "outputs": [
    {
     "name": "stdout",
     "output_type": "stream",
     "text": [
      "{'111AU': 'Shyam'}\n"
     ]
    }
   ],
   "source": [
    "del temp_dict['100AC']\n",
    "print(temp_dict)"
   ]
  },
  {
   "cell_type": "markdown",
   "metadata": {
    "id": "tO9zOWUW_s6M"
   },
   "source": [
    "### clear"
   ]
  },
  {
   "cell_type": "code",
   "execution_count": null,
   "metadata": {
    "colab": {
     "base_uri": "https://localhost:8080/"
    },
    "id": "9jqS7dHJ_s6M",
    "outputId": "8460b3e7-996c-4cb4-8ab2-bdc367e3b997"
   },
   "outputs": [
    {
     "name": "stdout",
     "output_type": "stream",
     "text": [
      "{}\n"
     ]
    }
   ],
   "source": [
    "temp_dict.clear()\n",
    "print(temp_dict)\n",
    "del temp_dict #permanently delete the dictionary variable"
   ]
  },
  {
   "cell_type": "code",
   "execution_count": null,
   "metadata": {
    "colab": {
     "base_uri": "https://localhost:8080/"
    },
    "id": "p8nfKUlL_s6M",
    "outputId": "dbb78edb-9c8b-4725-c4da-32802ea0bf4e"
   },
   "outputs": [
    {
     "data": {
      "text/plain": [
       "{'100AC': 'Raja', '101AB': 'Ramu', '111AU': 'Shyam'}"
      ]
     },
     "execution_count": 34,
     "metadata": {
      "tags": []
     },
     "output_type": "execute_result"
    }
   ],
   "source": [
    "temp_dict = {\"101AB\": \"Ramu\",\n",
    "         \"100AC\": \"Raja\",\n",
    "             \"111AU\": \"Shyam\"\n",
    "}\n",
    "temp_dict"
   ]
  },
  {
   "cell_type": "code",
   "execution_count": null,
   "metadata": {
    "collapsed": true,
    "id": "9MCGKI75_s6N"
   },
   "outputs": [],
   "source": [
    "temp_dict2 = {\"10AB\": \"Ru\",\n",
    "         \"100C\": \"Ra\",\n",
    "             \"111U\": \"Shm\"\n",
    "}"
   ]
  },
  {
   "cell_type": "markdown",
   "metadata": {
    "id": "JxyFlFUG_s6N"
   },
   "source": [
    "### update\n",
    "* use for concatination\n",
    "* use for updating values of key\n",
    "* use for extending dictionary"
   ]
  },
  {
   "cell_type": "markdown",
   "metadata": {
    "id": "Xf0tIdkB_s6N"
   },
   "source": [
    "* **The update() method adds element(s) to the dictionary if the key is not in the dictionary. If the key is in the dictionary, it updates the key with the new value.** \n",
    "* **Update arguments:**\n",
    "    * The update() method takes either a dictionary or an iterable object of key/value pairs**"
   ]
  },
  {
   "cell_type": "code",
   "execution_count": null,
   "metadata": {
    "collapsed": true,
    "id": "gwHNhLoE_s6N"
   },
   "outputs": [],
   "source": [
    "temp_dict.update(temp_dict2)\n",
    "temp_dict"
   ]
  },
  {
   "cell_type": "code",
   "execution_count": null,
   "metadata": {
    "collapsed": true,
    "id": "M4lzvJlm_s6P"
   },
   "outputs": [],
   "source": [
    "#also the way of estension of dictionary\n",
    "di={'e':8, 'f': 9 }\n",
    "temp_dict.update(di)\n",
    "print(temp_dict)"
   ]
  },
  {
   "cell_type": "code",
   "execution_count": null,
   "metadata": {
    "collapsed": true,
    "id": "3VknngMO_s6Q"
   },
   "outputs": [],
   "source": [
    "#Updating key value\n",
    "temp_dict.update(e=5)\n",
    "temp_dict"
   ]
  },
  {
   "cell_type": "markdown",
   "metadata": {
    "id": "Glt1V6mt_s6Q"
   },
   "source": [
    "### sorted\n",
    "* takes list of value as input"
   ]
  },
  {
   "cell_type": "code",
   "execution_count": 92,
   "metadata": {
    "colab": {
     "base_uri": "https://localhost:8080/"
    },
    "id": "rkIWXd22_s6R",
    "outputId": "a2a692b9-6417-4c76-ee45-74a522ca2283"
   },
   "outputs": [
    {
     "name": "stdout",
     "output_type": "stream",
     "text": [
      "{'101AB': 'Ramu', '100AC': 'Raja', '111AU': 'Rakesh'}\n",
      "['100AC', '101AB', '111AU']\n",
      "dict_keys(['101AB', '100AC', '111AU'])\n"
     ]
    }
   ],
   "source": [
    "print(temp_dict)\n",
    "print(sorted(temp_dict))\n",
    "print(temp_dict.keys())"
   ]
  },
  {
   "cell_type": "code",
   "execution_count": 93,
   "metadata": {
    "id": "nHJKwedT_s6R"
   },
   "outputs": [
    {
     "name": "stdout",
     "output_type": "stream",
     "text": [
      "Raja Rakesh Ramu "
     ]
    }
   ],
   "source": [
    "for i in sorted(temp_dict.values()):\n",
    "    print(i, end=\" \")"
   ]
  },
  {
   "cell_type": "markdown",
   "metadata": {
    "id": "c7BK02Cr_s6R"
   },
   "source": [
    "* **Use Cases**\n",
    "    * one key with multiple values"
   ]
  },
  {
   "cell_type": "code",
   "execution_count": null,
   "metadata": {
    "colab": {
     "base_uri": "https://localhost:8080/"
    },
    "id": "vCwStYzo_s6R",
    "outputId": "c8f1199c-2d22-4eab-a2ca-669fd707e53c"
   },
   "outputs": [
    {
     "data": {
      "text/plain": [
       "{'100AC': ('Raja', 31, 'Male'),\n",
       " '101AB': ('Ramu', 32, 'Male'),\n",
       " '101AQ': ('Radha', 29, 'Female'),\n",
       " '111AU': ('Shyam', 33, 'Male')}"
      ]
     },
     "execution_count": 37,
     "metadata": {
      "tags": []
     },
     "output_type": "execute_result"
    }
   ],
   "source": [
    "temp_di = {\"101AB\": (\"Ramu\", 32 , \"Male\"),\n",
    "         \"100AC\": (\"Raja\", 31 , \"Male\"),\n",
    "             \"111AU\": (\"Shyam\", 33 , \"Male\"),\n",
    "           \"101AQ\": (\"Radha\" , 29, \"Female\")\n",
    "}\n",
    "temp_di"
   ]
  },
  {
   "cell_type": "code",
   "execution_count": null,
   "metadata": {
    "colab": {
     "base_uri": "https://localhost:8080/"
    },
    "id": "_u8hOpPs_s6R",
    "outputId": "02cda450-afdc-44aa-d97f-f8af62a2667f"
   },
   "outputs": [
    {
     "data": {
      "text/plain": [
       "('Ramu', 32, 'Male')"
      ]
     },
     "execution_count": 38,
     "metadata": {
      "tags": []
     },
     "output_type": "execute_result"
    }
   ],
   "source": [
    "#return tuple \n",
    "temp_di[\"101AB\"]"
   ]
  },
  {
   "cell_type": "code",
   "execution_count": null,
   "metadata": {
    "collapsed": true,
    "id": "6673kzxE_s6R"
   },
   "outputs": [],
   "source": [
    "for i in temp_di[\"101AB\"]:\n",
    "    print(i)"
   ]
  },
  {
   "cell_type": "code",
   "execution_count": null,
   "metadata": {
    "colab": {
     "base_uri": "https://localhost:8080/"
    },
    "id": "YW_FD-BY_s6R",
    "outputId": "e569a390-ddb8-4de8-82a7-1b1ee2f84faa"
   },
   "outputs": [
    {
     "name": "stdout",
     "output_type": "stream",
     "text": [
      "101AB : Ramu 32 Male \n",
      "100AC : Raja 31 Male \n",
      "111AU : Shyam 33 Male \n",
      "101AQ : Radha 29 Female \n"
     ]
    }
   ],
   "source": [
    "for i in temp_di:\n",
    "    print(i,\": \",end=\"\")\n",
    "    for j in temp_di[i]:\n",
    "        print(j, end=\" \")\n",
    "    print()"
   ]
  },
  {
   "cell_type": "code",
   "execution_count": null,
   "metadata": {
    "collapsed": true,
    "id": "W8qJodbK_s6S"
   },
   "outputs": [],
   "source": [
    "dic = {'key1': 1 , 'key2': 2 , 'key3': 3}\n",
    "sum(dic.values())"
   ]
  },
  {
   "cell_type": "markdown",
   "metadata": {
    "id": "0YSjTdyM_s6S"
   },
   "source": [
    "### Use of Zip \n",
    "* method returns a tuple where\n",
    "* the i-th element comes from the i-th iterable argument."
   ]
  },
  {
   "cell_type": "code",
   "execution_count": 94,
   "metadata": {
    "id": "JXqt8ozm_s6S"
   },
   "outputs": [],
   "source": [
    "name = ['aakash', 'raju', 'madhav']\n",
    "marks = [92, 89, 91]\n",
    "roll_no = ['00cs10', '00cs13', '00cs17']"
   ]
  },
  {
   "cell_type": "code",
   "execution_count": 95,
   "metadata": {
    "colab": {
     "base_uri": "https://localhost:8080/"
    },
    "id": "VcO7-Zkp_s6S",
    "outputId": "38a46130-afb1-4e40-aa6f-96dd82dc2232"
   },
   "outputs": [
    {
     "name": "stdout",
     "output_type": "stream",
     "text": [
      "<zip object at 0x7f7b73140dc0>\n"
     ]
    }
   ],
   "source": [
    "#crearting zip object\n",
    "mapp = zip(roll_no, name, marks)\n",
    "print(mapp)"
   ]
  },
  {
   "cell_type": "markdown",
   "metadata": {
    "id": "5fuMZjnG_s6S"
   },
   "source": [
    "**Note: We will get list containing tuples**"
   ]
  },
  {
   "cell_type": "code",
   "execution_count": 96,
   "metadata": {
    "colab": {
     "base_uri": "https://localhost:8080/"
    },
    "id": "Gs3zy4g__s6S",
    "outputId": "b949fcdc-0b58-43f9-8615-94c9707ceae2"
   },
   "outputs": [
    {
     "name": "stdout",
     "output_type": "stream",
     "text": [
      "[('00cs10', 'aakash', 92), ('00cs13', 'raju', 89), ('00cs17', 'madhav', 91)]\n"
     ]
    }
   ],
   "source": [
    "#converting into list makes use of it\n",
    "mapping = list(mapp)\n",
    "print(mapping)"
   ]
  },
  {
   "cell_type": "code",
   "execution_count": null,
   "metadata": {
    "colab": {
     "base_uri": "https://localhost:8080/"
    },
    "id": "d_C1L5fw_s6S",
    "outputId": "d47e1c0e-c425-4864-a7ca-1cd89baab586"
   },
   "outputs": [
    {
     "name": "stdout",
     "output_type": "stream",
     "text": [
      "Roll_no- 00cs10 : Name - aakash : Marks- 92 \n",
      "Roll_no- 00cs13 : Name - raju : Marks- 89 \n",
      "Roll_no- 00cs17 : Name - madhav : Marks- 91 \n"
     ]
    }
   ],
   "source": [
    "for r,n,m in zip(roll_no,name,marks):\n",
    "    print(\"Roll_no- {} : Name - {} : Marks- {} \".format(r,n,m))"
   ]
  },
  {
   "cell_type": "markdown",
   "metadata": {
    "id": "VNqbPqqF_s6U"
   },
   "source": [
    "### Unzipping\n",
    "* return tuples object"
   ]
  },
  {
   "cell_type": "code",
   "execution_count": 97,
   "metadata": {
    "colab": {
     "base_uri": "https://localhost:8080/"
    },
    "id": "_SzWOaBq_s6U",
    "outputId": "9290ecf5-558d-4498-d4d6-681d3796c62e"
   },
   "outputs": [
    {
     "name": "stdout",
     "output_type": "stream",
     "text": [
      "(('00cs10', 'aakash', 92),)\n",
      "(('00cs13', 'raju', 89),)\n",
      "(('00cs17', 'madhav', 91),)\n"
     ]
    }
   ],
   "source": [
    "roll_, name_,marks_ = zip(mapping)\n",
    "print(roll_)\n",
    "print(name_)\n",
    "print(marks_)"
   ]
  },
  {
   "cell_type": "code",
   "execution_count": null,
   "metadata": {
    "colab": {
     "base_uri": "https://localhost:8080/"
    },
    "id": "bFEEgIBO_s6U",
    "outputId": "7a6d6ed6-5a27-4e07-b9d1-ebd84277ac40"
   },
   "outputs": [
    {
     "name": "stdout",
     "output_type": "stream",
     "text": [
      "TEAM: MI SCORE: 43 RATE:  1.231\n",
      "TEAM: RCB SCORE: 41 RATE:  1.001\n",
      "TEAM: CSK SCORE: 46 RATE:  2.789\n",
      "TEAM:  HYD SCORE: 49 RATE:  2.781\n"
     ]
    }
   ],
   "source": [
    "#Practicle Example of ZIP\n",
    "#CODE:\n",
    "\n",
    "teamName = ['MI', 'RCB', 'CSK',' HYD']\n",
    "scorePoint = [43, 41, 46, 49]\n",
    "rate = [1.231, 1.001, 2.789, 2.781]\n",
    "\n",
    "for i,j,k in zip(teamName, scorePoint, rate):\n",
    "    print('TEAM:',i, 'SCORE:', j ,'RATE: ', k)"
   ]
  },
  {
   "cell_type": "markdown",
   "metadata": {
    "id": "nfZq--Xv_s6U"
   },
   "source": [
    "### Dictionary Comprehension"
   ]
  },
  {
   "cell_type": "markdown",
   "metadata": {
    "id": "Suatdbi4_s6U"
   },
   "source": [
    "**unlike list, instead taking value only it takes key+value** "
   ]
  },
  {
   "cell_type": "code",
   "execution_count": null,
   "metadata": {
    "collapsed": true,
    "id": "_zYeAQuY_s6U"
   },
   "outputs": [],
   "source": [
    "cub={i: i**3 for i in range(2,11)}\n",
    "cub"
   ]
  },
  {
   "cell_type": "code",
   "execution_count": null,
   "metadata": {
    "colab": {
     "base_uri": "https://localhost:8080/"
    },
    "collapsed": true,
    "id": "g4HEKXYI_s6V",
    "outputId": "d313bb56-d574-4623-800f-0fa978873b8d"
   },
   "outputs": [
    {
     "data": {
      "text/plain": [
       "{'a': 1, 'b': 2, 'c': 3, 'd': 4, 'e': 5, 'f': 6}"
      ]
     },
     "execution_count": 49,
     "metadata": {
      "tags": []
     },
     "output_type": "execute_result"
    }
   ],
   "source": [
    "d={'a':1, 'b':2, 'c':3, 'd': 4, 'e': 5, 'f': 6}\n",
    "d"
   ]
  },
  {
   "cell_type": "code",
   "execution_count": null,
   "metadata": {
    "colab": {
     "base_uri": "https://localhost:8080/"
    },
    "collapsed": true,
    "id": "FihP9XLU_s6V",
    "outputId": "a75b93e3-af0c-4f1f-a3ff-0f212029d13c"
   },
   "outputs": [
    {
     "data": {
      "text/plain": [
       "{'c': 9, 'd': 16, 'e': 25, 'f': 36}"
      ]
     },
     "execution_count": 50,
     "metadata": {
      "tags": []
     },
     "output_type": "execute_result"
    }
   ],
   "source": [
    "#complex Code\n",
    "new_dic={}\n",
    "for key,val in d.items():\n",
    "  if val > 2:\n",
    "    new_dic[key] = val ** 2\n",
    "new_dic"
   ]
  },
  {
   "cell_type": "code",
   "execution_count": null,
   "metadata": {
    "colab": {
     "base_uri": "https://localhost:8080/"
    },
    "collapsed": true,
    "id": "mJxsIfvQ_s6V",
    "outputId": "405663f3-5023-48e5-97e3-8ce4e91ce8ea"
   },
   "outputs": [
    {
     "data": {
      "text/plain": [
       "{'c': 9, 'd': 16, 'e': 25, 'f': 36}"
      ]
     },
     "execution_count": 51,
     "metadata": {
      "tags": []
     },
     "output_type": "execute_result"
    }
   ],
   "source": [
    "#using dictionary comprehension avoiding many lines of code just like list comprehension\n",
    "sq_dic=dict()\n",
    "sq_dic={key:val ** 2 for key,val in d.items() if val > 2}\n",
    "sq_dic"
   ]
  },
  {
   "cell_type": "code",
   "execution_count": null,
   "metadata": {
    "colab": {
     "base_uri": "https://localhost:8080/"
    },
    "id": "EgLBl6yn_s6V",
    "outputId": "9fc83867-4cc2-4f49-9da9-e121f735e763"
   },
   "outputs": [
    {
     "data": {
      "text/plain": [
       "{'cc': 27, 'dc': 64, 'ec': 125, 'fc': 216}"
      ]
     },
     "execution_count": 52,
     "metadata": {
      "tags": []
     },
     "output_type": "execute_result"
    }
   ],
   "source": [
    "#more complex operartion\n",
    "cube_dic=dict()\n",
    "cube_dic={key+'c':val ** 3 for key,val in d.items() if val > 2}\n",
    "cube_dic"
   ]
  },
  {
   "cell_type": "markdown",
   "metadata": {
    "id": "wJtwOuJM_s6V"
   },
   "source": [
    "### Gives all methods related to dictionary"
   ]
  },
  {
   "cell_type": "code",
   "execution_count": null,
   "metadata": {
    "colab": {
     "base_uri": "https://localhost:8080/"
    },
    "id": "zw3dhKgG_s6V",
    "outputId": "f649dd64-fb70-4ca6-b1a4-2cd0669dade6"
   },
   "outputs": [
    {
     "name": "stdout",
     "output_type": "stream",
     "text": [
      "['__class__', '__contains__', '__delattr__', '__delitem__', '__dir__', '__doc__', '__eq__', '__format__', '__ge__', '__getattribute__', '__getitem__', '__gt__', '__hash__', '__init__', '__init_subclass__', '__iter__', '__le__', '__len__', '__lt__', '__ne__', '__new__', '__reduce__', '__reduce_ex__', '__repr__', '__setattr__', '__setitem__', '__sizeof__', '__str__', '__subclasshook__', 'clear', 'copy', 'fromkeys', 'get', 'items', 'keys', 'pop', 'popitem', 'setdefault', 'update', 'values']\n"
     ]
    }
   ],
   "source": [
    "print(dir(cube_dic))"
   ]
  },
  {
   "cell_type": "markdown",
   "metadata": {
    "id": "H6t8bvmw_s6W"
   },
   "source": [
    "## Basic Functions in Python"
   ]
  },
  {
   "cell_type": "markdown",
   "metadata": {
    "id": "L8bCVKia_s6W"
   },
   "source": [
    "### (1) Lambda Function :-"
   ]
  },
  {
   "cell_type": "markdown",
   "metadata": {
    "id": "jWNcPsOD_s6W"
   },
   "source": [
    "* ***no exlplicit return required***"
   ]
  },
  {
   "cell_type": "code",
   "execution_count": null,
   "metadata": {
    "collapsed": true,
    "id": "yQERudGY_s6W"
   },
   "outputs": [],
   "source": [
    "sqr=lambda k: k**2"
   ]
  },
  {
   "cell_type": "code",
   "execution_count": null,
   "metadata": {
    "id": "Auj8lpHn_s6W",
    "outputId": "259c6403-20f7-4d79-e937-7fecc39f6413"
   },
   "outputs": [
    {
     "data": {
      "text/plain": [
       "256"
      ]
     },
     "execution_count": 65,
     "metadata": {
      "tags": []
     },
     "output_type": "execute_result"
    }
   ],
   "source": [
    "sqr(16)"
   ]
  },
  {
   "cell_type": "code",
   "execution_count": null,
   "metadata": {
    "collapsed": true,
    "id": "TaDKUN8E_s6W",
    "outputId": "e1de254d-66fe-498a-9166-be9f046a8642"
   },
   "outputs": [
    {
     "name": "stdout",
     "output_type": "stream",
     "text": [
      "5\n"
     ]
    },
    {
     "data": {
      "text/plain": [
       "3"
      ]
     },
     "execution_count": 66,
     "metadata": {
      "tags": []
     },
     "output_type": "execute_result"
    }
   ],
   "source": [
    "#Code:\n",
    "#Finding greater number between two numbers\n",
    "\n",
    "def greater(x,y):\n",
    "     print(x) if x > y else print(y) \n",
    "greater(3,5)\n",
    "\n",
    "\n",
    "#code(Lambda Function):\n",
    "sml = lambda x,y: x if x < y else y \n",
    "sml(3,5)"
   ]
  },
  {
   "cell_type": "markdown",
   "metadata": {
    "id": "3oTlo9CF_s6W"
   },
   "source": [
    "### (2)Reduce Function :-"
   ]
  },
  {
   "cell_type": "markdown",
   "metadata": {
    "id": "VH8Yhmrl_s6W"
   },
   "source": [
    "*  **signature of both map and reduce are same**\n",
    "*  **reduce perform aggreagtion operation over a sequence or iterable object**"
   ]
  },
  {
   "cell_type": "markdown",
   "metadata": {
    "id": "fVDRnUcy_s6W"
   },
   "source": [
    "* ***aggregation function only required two arguments So reduce only work with two arguments***"
   ]
  },
  {
   "cell_type": "code",
   "execution_count": null,
   "metadata": {
    "id": "SSgOhQht_s6X",
    "outputId": "e62404c6-df92-4afd-9d7e-fda935de873f"
   },
   "outputs": [
    {
     "name": "stdout",
     "output_type": "stream",
     "text": [
      "55\n"
     ]
    }
   ],
   "source": [
    "#code:\n",
    "#Summing all elements of a list\n",
    "\n",
    "\n",
    "from functools import reduce  \n",
    "list1 = [1,2,3,4,5,6,7,8,9,10]\n",
    "summ = reduce(lambda x,y : x + y, list1) \n",
    "print(summ)"
   ]
  },
  {
   "cell_type": "code",
   "execution_count": null,
   "metadata": {
    "id": "_S01OGxo_s6X",
    "outputId": "62471397-9c76-4b3d-c097-e6a9f7a80f2c"
   },
   "outputs": [
    {
     "data": {
      "text/plain": [
       "15"
      ]
     },
     "execution_count": 68,
     "metadata": {
      "tags": []
     },
     "output_type": "execute_result"
    }
   ],
   "source": [
    "from functools import reduce\n",
    "l=[1,2,3,4,5]\n",
    "reduce(lambda x,y:x+y,l)"
   ]
  },
  {
   "cell_type": "code",
   "execution_count": null,
   "metadata": {
    "id": "_GLnet_1_s6X",
    "outputId": "fc89defc-dba2-4409-d8f1-8a8a91c5104d"
   },
   "outputs": [
    {
     "data": {
      "text/plain": [
       "120"
      ]
     },
     "execution_count": 69,
     "metadata": {
      "tags": []
     },
     "output_type": "execute_result"
    }
   ],
   "source": [
    "def test(m,n):\n",
    "  return m*n\n",
    "\n",
    "#aggregation output for a single iterable list\n",
    "reduce(test,l)"
   ]
  },
  {
   "cell_type": "code",
   "execution_count": null,
   "metadata": {
    "id": "yQw5qk9K_s6X",
    "outputId": "46b56ea6-e5a7-4bf3-e19f-e9e43a2c3ec3"
   },
   "outputs": [
    {
     "data": {
      "text/plain": [
       "10"
      ]
     },
     "execution_count": 70,
     "metadata": {
      "tags": []
     },
     "output_type": "execute_result"
    }
   ],
   "source": [
    "max_find = lambda a,b: a if a>b else b\n",
    "l=[10,2,3,4,5]\n",
    "reduce(max_find,l)"
   ]
  },
  {
   "cell_type": "code",
   "execution_count": null,
   "metadata": {
    "id": "lJUgQwMY_s6X",
    "outputId": "3f08f2c8-621d-464e-ed3e-4fa19e5f50b3"
   },
   "outputs": [
    {
     "data": {
      "text/plain": [
       "2"
      ]
     },
     "execution_count": 71,
     "metadata": {
      "tags": []
     },
     "output_type": "execute_result"
    }
   ],
   "source": [
    "#or\n",
    "reduce(lambda x,y: x if x < y else y , l)"
   ]
  },
  {
   "cell_type": "markdown",
   "metadata": {
    "id": "cD23AxYc_s6X"
   },
   "source": [
    "### Filter Function :-"
   ]
  },
  {
   "cell_type": "markdown",
   "metadata": {
    "id": "Mc3ewbto_s6X"
   },
   "source": [
    "*  **Filter() function works on some condition and give you the required list object**\n",
    "*  **Filter return true condition data value**\n",
    "*  **filter and map both have same signature**"
   ]
  },
  {
   "cell_type": "code",
   "execution_count": null,
   "metadata": {
    "collapsed": true,
    "id": "JgfVfXK8_s6X",
    "outputId": "133b4cb5-311f-4be9-b8f5-346aa1a0c33d"
   },
   "outputs": [
    {
     "data": {
      "text/plain": [
       "[1, 3, 5, 7, 9]"
      ]
     },
     "execution_count": 72,
     "metadata": {
      "tags": []
     },
     "output_type": "execute_result"
    }
   ],
   "source": [
    "#Code:\n",
    "#getting odd values\n",
    "\n",
    "\n",
    "odd = list(filter(lambda x: x % 2 != 0 ,list1)) \n",
    "odd"
   ]
  },
  {
   "cell_type": "code",
   "execution_count": null,
   "metadata": {
    "collapsed": true,
    "id": "z9oifYVz_s6Y",
    "outputId": "dfc3c6ee-653b-42e1-8b98-3c471a0b6952"
   },
   "outputs": [
    {
     "name": "stdout",
     "output_type": "stream",
     "text": [
      "[10, 2, 3, 4, 5]\n"
     ]
    },
    {
     "data": {
      "text/plain": [
       "[10, 2, 4]"
      ]
     },
     "execution_count": 73,
     "metadata": {
      "tags": []
     },
     "output_type": "execute_result"
    }
   ],
   "source": [
    "def is_even(num):\n",
    "  if num % 2 == 0:\n",
    "    return True\n",
    "\n",
    "print(l)\n",
    "list(filter(is_even,l))"
   ]
  },
  {
   "cell_type": "code",
   "execution_count": null,
   "metadata": {
    "collapsed": true,
    "id": "2zNnJSRd_s6Y",
    "outputId": "9381675b-73a4-45c3-c1d7-46eada3f7208"
   },
   "outputs": [
    {
     "data": {
      "text/plain": [
       "[3, 5]"
      ]
     },
     "execution_count": 74,
     "metadata": {
      "tags": []
     },
     "output_type": "execute_result"
    }
   ],
   "source": [
    "list(filter(lambda num: num % 2 != 0, l))"
   ]
  },
  {
   "cell_type": "markdown",
   "metadata": {
    "id": "MUN21bse_s6Y"
   },
   "source": [
    "## iterator vs iterable\n",
    "    * in iterable objects all values fed up with the memory \n",
    "    * but in iterator objects all values doesn't stored in the memory at the same time\n",
    "    * list is iterable\n",
    "    * generator function is used to create iterator"
   ]
  },
  {
   "cell_type": "markdown",
   "metadata": {
    "id": "pbkQbVOJ_s6Y"
   },
   "source": [
    "* **__iter__ or iter() is used to make iterable object into iterator**"
   ]
  },
  {
   "cell_type": "markdown",
   "metadata": {
    "id": "JEnKE7bo_s6Y"
   },
   "source": [
    "### iter"
   ]
  },
  {
   "cell_type": "code",
   "execution_count": null,
   "metadata": {
    "collapsed": true,
    "id": "o2gsAAJO_s6Y",
    "outputId": "f9ec1485-df90-453a-ebe7-37a8fb379945"
   },
   "outputs": [
    {
     "data": {
      "text/plain": [
       "<list_iterator at 0x10c699f90>"
      ]
     },
     "execution_count": 76,
     "metadata": {
      "tags": []
     },
     "output_type": "execute_result"
    }
   ],
   "source": [
    "l.__iter__()"
   ]
  },
  {
   "cell_type": "code",
   "execution_count": null,
   "metadata": {
    "collapsed": true,
    "id": "cz06wbUq_s6Y"
   },
   "outputs": [],
   "source": [
    "obj=l.__iter__()"
   ]
  },
  {
   "cell_type": "code",
   "execution_count": null,
   "metadata": {
    "collapsed": true,
    "id": "cYLzCZO0_s6Y",
    "outputId": "3e5eaa73-b25f-46f9-b6b7-d9c95904f138"
   },
   "outputs": [
    {
     "name": "stdout",
     "output_type": "stream",
     "text": [
      "10\n",
      "2\n",
      "3\n",
      "4\n",
      "5\n"
     ]
    }
   ],
   "source": [
    "for i in obj:\n",
    "  print(i)"
   ]
  },
  {
   "cell_type": "code",
   "execution_count": null,
   "metadata": {
    "collapsed": true,
    "id": "D1TcYOvv_s6Y"
   },
   "outputs": [],
   "source": [
    "#or\n",
    "b=iter(l)"
   ]
  },
  {
   "cell_type": "code",
   "execution_count": null,
   "metadata": {
    "collapsed": true,
    "id": "EgxWbLj6_s6Y",
    "outputId": "3d5c6626-3f8b-4161-fd9b-ced986cab7d9"
   },
   "outputs": [
    {
     "name": "stdout",
     "output_type": "stream",
     "text": [
      "10\n",
      "2\n",
      "3\n",
      "4\n",
      "5\n"
     ]
    }
   ],
   "source": [
    "for i in b:\n",
    "  print(i)"
   ]
  },
  {
   "cell_type": "code",
   "execution_count": null,
   "metadata": {
    "collapsed": true,
    "id": "FQyFa6A9_s6Z",
    "outputId": "67db4f8d-c8d0-47bf-fdc4-eb440bcd6471"
   },
   "outputs": [
    {
     "data": {
      "text/plain": [
       "list_iterator"
      ]
     },
     "execution_count": 81,
     "metadata": {
      "tags": []
     },
     "output_type": "execute_result"
    }
   ],
   "source": [
    "type(iter(l))"
   ]
  },
  {
   "cell_type": "markdown",
   "metadata": {
    "id": "BhNeSNRn_s6Z"
   },
   "source": [
    "### Map Fuction :- "
   ]
  },
  {
   "cell_type": "markdown",
   "metadata": {
    "id": "A67bHrJQ_s6Z"
   },
   "source": [
    "* **Map is commonly used with lambda function inorder to avoid manually or extra coding like looping and outside function kind of thing**"
   ]
  },
  {
   "cell_type": "code",
   "execution_count": null,
   "metadata": {
    "collapsed": true,
    "id": "dumGXG1L_s6Z"
   },
   "outputs": [],
   "source": [
    "#traditional looping"
   ]
  },
  {
   "cell_type": "code",
   "execution_count": null,
   "metadata": {
    "collapsed": true,
    "id": "sfvPOJhu_s6Z"
   },
   "outputs": [],
   "source": [
    "def fahrenheit(T):\n",
    "  return ((float(9)/5)*T + 32)\n",
    "\n",
    "def celseuis(T):\n",
    "  return ((float(5)/9)*(T-32))"
   ]
  },
  {
   "cell_type": "code",
   "execution_count": null,
   "metadata": {
    "collapsed": true,
    "id": "Zluinswy_s6Z",
    "outputId": "300e321d-fece-4996-84f5-ae3ef7fdc95f"
   },
   "outputs": [
    {
     "data": {
      "text/plain": [
       "[32.0, 71.6, 41.0, 104.0, 212.0]"
      ]
     },
     "execution_count": 83,
     "metadata": {
      "tags": []
     },
     "output_type": "execute_result"
    }
   ],
   "source": [
    "temp=[0,22,5,40,100]\n",
    "a=[]\n",
    "for i in temp:\n",
    "  a.append(fahrenheit(i))\n",
    "\n",
    "a"
   ]
  },
  {
   "cell_type": "markdown",
   "metadata": {
    "id": "34C6LXaH_s6Z"
   },
   "source": [
    "* **USE OF MAP ignoring loop**"
   ]
  },
  {
   "cell_type": "code",
   "execution_count": null,
   "metadata": {
    "collapsed": true,
    "id": "zEojU07h_s6Z"
   },
   "outputs": [],
   "source": [
    "li_temp=list(map(fahrenheit,temp))"
   ]
  },
  {
   "cell_type": "code",
   "execution_count": null,
   "metadata": {
    "id": "B6cUQ0IU_s6Z",
    "outputId": "f97d690b-d78f-47cd-a4b6-b612f746ed93"
   },
   "outputs": [
    {
     "data": {
      "text/plain": [
       "[32.0, 71.6, 41.0, 104.0, 212.0]"
      ]
     },
     "execution_count": 86,
     "metadata": {
      "tags": []
     },
     "output_type": "execute_result"
    }
   ],
   "source": [
    "li_temp"
   ]
  },
  {
   "cell_type": "code",
   "execution_count": null,
   "metadata": {
    "id": "KuoaiL3u_s6Z",
    "outputId": "20c302af-2657-49f3-96da-4c6b4d2f22b3"
   },
   "outputs": [
    {
     "data": {
      "text/plain": [
       "[0.0, 21.999999999999996, 5.0, 40.0, 100.0]"
      ]
     },
     "execution_count": 91,
     "metadata": {
      "tags": []
     },
     "output_type": "execute_result"
    }
   ],
   "source": [
    "list(map(celseuis,li_temp))"
   ]
  },
  {
   "cell_type": "code",
   "execution_count": null,
   "metadata": {
    "collapsed": true,
    "id": "SdSKyPQ1_s6a",
    "outputId": "b2afebc6-bbe8-4456-a237-d23e811e5949"
   },
   "outputs": [
    {
     "name": "stdout",
     "output_type": "stream",
     "text": [
      "[2, 4, 6, 8, 10, 12, 14, 16, 18, 20]\n"
     ]
    },
    {
     "data": {
      "text/plain": [
       "[2, 4, 6, 8, 10, 12, 14, 16, 18, 20]"
      ]
     },
     "execution_count": 90,
     "metadata": {
      "tags": []
     },
     "output_type": "execute_result"
    }
   ],
   "source": [
    "#code:\n",
    "#mapping each value of the list\n",
    "\n",
    "Mul_list = list(map(lambda i : i * 2 ,list1))\n",
    "print(Mul_list)\n",
    "\n",
    "#or also do this by list comprehesion\n",
    "lis_sqr=[i * 2 for i in list1] #but it includes looping\n",
    "lis_sqr"
   ]
  },
  {
   "cell_type": "code",
   "execution_count": null,
   "metadata": {
    "collapsed": true,
    "id": "iWII5FYd_s6a",
    "outputId": "d9b5eb36-dc93-478a-e4fb-23723751621d"
   },
   "outputs": [
    {
     "data": {
      "text/plain": [
       "['SUDHANSHU', 'AKSHAY', 'SINGH', 'KUMAR', 'AVADHESH']"
      ]
     },
     "execution_count": 92,
     "metadata": {
      "tags": []
     },
     "output_type": "execute_result"
    }
   ],
   "source": [
    "#traditional approach\n",
    "l=[\"sudhanshu\",\"Akshay\",\"singh\",\"kumar\",\"avadhesh\"]\n",
    "k=[]\n",
    "for i in l:\n",
    "  k.append(i.upper())\n",
    "\n",
    "k"
   ]
  },
  {
   "cell_type": "code",
   "execution_count": null,
   "metadata": {
    "id": "R4XH5FrQ_s6a",
    "outputId": "6a99a7d3-a528-4ef1-fa20-d57f08f6c13d"
   },
   "outputs": [
    {
     "data": {
      "text/plain": [
       "['SUDHANSHU', 'AKSHAY', 'SINGH', 'KUMAR', 'AVADHESH']"
      ]
     },
     "execution_count": 93,
     "metadata": {
      "tags": []
     },
     "output_type": "execute_result"
    }
   ],
   "source": [
    "#map methods\n",
    "def Upper(string):\n",
    "  return string.upper()\n",
    "\n",
    "list(map(Upper,l))"
   ]
  },
  {
   "cell_type": "code",
   "execution_count": null,
   "metadata": {
    "id": "PvgD33c__s6a",
    "outputId": "2e874c39-c77d-450f-da48-db4f72ba1a9b"
   },
   "outputs": [
    {
     "data": {
      "text/plain": [
       "['SUDHANSHU', 'AKSHAY', 'SINGH', 'KUMAR', 'AVADHESH']"
      ]
     },
     "execution_count": 94,
     "metadata": {
      "tags": []
     },
     "output_type": "execute_result"
    }
   ],
   "source": [
    "#or much more handy with lambda\n",
    "list(map(lambda a: a.upper() ,l))"
   ]
  },
  {
   "cell_type": "markdown",
   "metadata": {
    "id": "QtCENDNp_s6a"
   },
   "source": [
    "**NOTE:Lamda Function adavanatge is that, we don't need to create an outside function**"
   ]
  },
  {
   "cell_type": "code",
   "execution_count": 98,
   "metadata": {
    "id": "Kr2v5Dta_s6a",
    "outputId": "69c254e0-37eb-4c3d-824f-2356700d4837"
   },
   "outputs": [
    {
     "data": {
      "text/plain": [
       "[6, 8, 10, 12]"
      ]
     },
     "execution_count": 98,
     "metadata": {},
     "output_type": "execute_result"
    }
   ],
   "source": [
    "#best example\n",
    "#map with lambda with two arguments i.e we need two list\n",
    "a=[1,2,3,4]\n",
    "b=[5,6,7,8]\n",
    "\n",
    "list(map(lambda x,y: x+y,a,b))"
   ]
  },
  {
   "cell_type": "code",
   "execution_count": 99,
   "metadata": {
    "id": "Zx73Jcqu_s6a",
    "outputId": "26c8cd92-97c2-4302-f9af-7eccf4224c36"
   },
   "outputs": [
    {
     "data": {
      "text/plain": [
       "[13, 16, 19, 15]"
      ]
     },
     "execution_count": 99,
     "metadata": {},
     "output_type": "execute_result"
    }
   ],
   "source": [
    "#Map is now much more handy rather than list comrehension and without saparatte function with the power of lambda \n",
    "c=[7,8,9,3]\n",
    "list(map(lambda x,y,z:x+y+z,a,b,c))"
   ]
  },
  {
   "cell_type": "code",
   "execution_count": null,
   "metadata": {
    "id": "zHmo4QxF_s6b",
    "outputId": "4f2d8ab6-56af-4fdc-e1ce-f4b4b3e8899b"
   },
   "outputs": [
    {
     "data": {
      "text/plain": [
       "[6, 8, 10, 12]"
      ]
     },
     "execution_count": 97,
     "metadata": {
      "tags": []
     },
     "output_type": "execute_result"
    }
   ],
   "source": [
    "def test(m,n):\n",
    "  return m+n\n",
    "\n",
    "list(map(test,a,b))"
   ]
  },
  {
   "cell_type": "markdown",
   "metadata": {
    "id": "3VqG9d9t_s6b"
   },
   "source": [
    "#### NOTE: lambda provide more flexibility; map always perform row wise operation on list"
   ]
  },
  {
   "cell_type": "code",
   "execution_count": null,
   "metadata": {
    "collapsed": true,
    "id": "5YTpDIOu_s6b"
   },
   "outputs": [],
   "source": [
    "a=map(test,a,b)"
   ]
  },
  {
   "cell_type": "code",
   "execution_count": null,
   "metadata": {
    "collapsed": true,
    "id": "l4YV2Amb_s6b",
    "outputId": "21dc22bd-f413-4343-9ec3-e5c686d21ac8"
   },
   "outputs": [
    {
     "data": {
      "text/plain": [
       "8"
      ]
     },
     "execution_count": 25,
     "metadata": {
      "tags": []
     },
     "output_type": "execute_result"
    }
   ],
   "source": [
    "next(a)"
   ]
  },
  {
   "cell_type": "code",
   "execution_count": null,
   "metadata": {
    "id": "XPlopoRu_s6b",
    "outputId": "bfb6e355-78cc-4918-a564-5bb3104a8ee6"
   },
   "outputs": [
    {
     "data": {
      "text/plain": [
       "6"
      ]
     },
     "execution_count": 24,
     "metadata": {
      "tags": []
     },
     "output_type": "execute_result"
    }
   ],
   "source": [
    "next(a)"
   ]
  },
  {
   "cell_type": "markdown",
   "metadata": {
    "id": "V5h_AYlB_s6b"
   },
   "source": [
    "## Function Agrguments: "
   ]
  },
  {
   "cell_type": "code",
   "execution_count": null,
   "metadata": {
    "id": "B-yDUWsx_s6b",
    "outputId": "3698eab0-16b3-4049-9805-8e10a39a29ed"
   },
   "outputs": [
    {
     "name": "stdout",
     "output_type": "stream",
     "text": [
      "('Akshay', 'Singh', 'is ', 'very', 'imotional')\n",
      "<class 'tuple'>\n",
      "Akshay Singh is  very imotional "
     ]
    }
   ],
   "source": [
    "#arbitary argument(varArgs)\n",
    "def great(*args):\n",
    "  print(args)\n",
    "  print(type(args))#very important\n",
    "  \n",
    "  for i in args:\n",
    "    print(i,end=\" \")\n",
    "\n",
    "great(\"Akshay\",\"Singh\",'is ','very','imotional')"
   ]
  },
  {
   "cell_type": "code",
   "execution_count": 108,
   "metadata": {},
   "outputs": [
    {
     "name": "stdout",
     "output_type": "stream",
     "text": [
      "('2', '3', '4', '5')\n",
      "3\n"
     ]
    },
    {
     "ename": "ValueError",
     "evalue": "tuple.index(x): x not in tuple",
     "output_type": "error",
     "traceback": [
      "\u001b[0;31m---------------------------------------------------------------------------\u001b[0m",
      "\u001b[0;31mValueError\u001b[0m                                Traceback (most recent call last)",
      "\u001b[0;32m<ipython-input-108-df6ebff124f7>\u001b[0m in \u001b[0;36m<module>\u001b[0;34m\u001b[0m\n\u001b[1;32m      3\u001b[0m \u001b[0mprint\u001b[0m\u001b[0;34m(\u001b[0m\u001b[0mtup\u001b[0m\u001b[0;34m.\u001b[0m\u001b[0mindex\u001b[0m\u001b[0;34m(\u001b[0m\u001b[0;34m'5'\u001b[0m\u001b[0;34m)\u001b[0m\u001b[0;34m)\u001b[0m\u001b[0;34m\u001b[0m\u001b[0;34m\u001b[0m\u001b[0m\n\u001b[1;32m      4\u001b[0m \u001b[0;34m\u001b[0m\u001b[0m\n\u001b[0;32m----> 5\u001b[0;31m \u001b[0mprint\u001b[0m\u001b[0;34m(\u001b[0m\u001b[0mtup\u001b[0m\u001b[0;34m.\u001b[0m\u001b[0mindex\u001b[0m\u001b[0;34m(\u001b[0m\u001b[0;34m'7'\u001b[0m\u001b[0;34m)\u001b[0m\u001b[0;34m)\u001b[0m\u001b[0;34m\u001b[0m\u001b[0;34m\u001b[0m\u001b[0m\n\u001b[0m",
      "\u001b[0;31mValueError\u001b[0m: tuple.index(x): x not in tuple"
     ]
    }
   ],
   "source": [
    "tup = tuple(\"2345\")\n",
    "print(tup)\n",
    "print(tup.index('5'))\n",
    "\n",
    "print(tup.index('7'))"
   ]
  },
  {
   "cell_type": "code",
   "execution_count": null,
   "metadata": {
    "id": "ImO_rHyi_s6b",
    "outputId": "84e87f09-0df2-41dd-c335-97f1568f7371"
   },
   "outputs": [
    {
     "name": "stdout",
     "output_type": "stream",
     "text": [
      "Hello Akshay, Goodnight \n",
      "Hello manu, Good morning \n"
     ]
    }
   ],
   "source": [
    "#default Argument\n",
    "def great(name,msg=\"Good morning\"):\n",
    "\n",
    "    print(\"Hello {0}, {1} \".format(name,msg))\n",
    "\n",
    "great(\"Akshay\",\"Goodnight\")\n",
    "great(\"manu\")"
   ]
  },
  {
   "cell_type": "code",
   "execution_count": null,
   "metadata": {
    "id": "KH_mTy0H_s6b",
    "outputId": "300958df-25bc-47ff-df69-69d2a478b1e0"
   },
   "outputs": [
    {
     "name": "stdout",
     "output_type": "stream",
     "text": [
      "{'name': 'Akshay', 'msg': 'Good Morning'}\n",
      "hello Akshay , Good Morning\n"
     ]
    }
   ],
   "source": [
    "#key words arguments(Most Popular)\n",
    "#**kwargs is dictionary\n",
    "def great(**kwargs):\n",
    "    print(kwargs)\n",
    "    print(\"hello {0} , {1}\".format(kwargs['name'],kwargs['msg']))\n",
    "\n",
    "  \n",
    "great(name=\"Akshay\", msg=\"Good Morning\")"
   ]
  },
  {
   "cell_type": "markdown",
   "metadata": {
    "id": "CFgNA4Tz_s6c"
   },
   "source": [
    "### Example"
   ]
  },
  {
   "cell_type": "code",
   "execution_count": null,
   "metadata": {
    "id": "f_79C_2U_s6c",
    "outputId": "b7687de1-ed36-4ce4-c278-987c05970e9e"
   },
   "outputs": [
    {
     "name": "stdout",
     "output_type": "stream",
     "text": [
      "the sum is 15\n",
      "type of variable length argument:  <class 'tuple'>\n",
      "15\n"
     ]
    }
   ],
   "source": [
    "#less efficient\n",
    "def add_N(*var_args):\n",
    "    summ = 0 \n",
    "    for i in var_args:\n",
    "        summ += i\n",
    "    print('the sum is',summ)\n",
    "    \n",
    "add_N(1,2,3,4,5)   \n",
    "\n",
    "\n",
    "#second method(more efficient)\n",
    "\n",
    "def add_N(*var_args):\n",
    "    print(\"type of variable length argument: \", type(var_args))\n",
    "    print(sum(var_args))\n",
    "    \n",
    "    \n",
    "add_N(1,2,3,4,5)    "
   ]
  },
  {
   "cell_type": "markdown",
   "metadata": {
    "id": "eNfR1edP_s6c"
   },
   "source": [
    "### Airthmatic Basic Function:-"
   ]
  },
  {
   "cell_type": "markdown",
   "metadata": {
    "id": "_w9II4ig_s6c"
   },
   "source": [
    "### round"
   ]
  },
  {
   "cell_type": "code",
   "execution_count": null,
   "metadata": {
    "id": "OKk6tP24_s6c",
    "outputId": "577f4230-b581-41da-bb6b-f87b27c7a53a"
   },
   "outputs": [
    {
     "name": "stdout",
     "output_type": "stream",
     "text": [
      "4\n",
      "3.568\n",
      "3\n"
     ]
    }
   ],
   "source": [
    "print(round(3.567))\n",
    "print(round(3.56751,3))\n",
    "print(round(3.467))"
   ]
  },
  {
   "cell_type": "markdown",
   "metadata": {
    "id": "NTSi-YUI_s6c"
   },
   "source": [
    "### pow"
   ]
  },
  {
   "cell_type": "code",
   "execution_count": null,
   "metadata": {
    "id": "GW6mH0no_s6c",
    "outputId": "28dfc20b-1fae-4e01-9c05-3317b0635c9a"
   },
   "outputs": [
    {
     "name": "stdout",
     "output_type": "stream",
     "text": [
      "8\n",
      "2\n"
     ]
    }
   ],
   "source": [
    "print(pow(2,3))\n",
    "print(pow(2,3,3)) #(remainder) 2^3 % 3 ==> 2"
   ]
  },
  {
   "cell_type": "markdown",
   "metadata": {
    "id": "KEu9h7Hi_s6c"
   },
   "source": [
    "### divmod"
   ]
  },
  {
   "cell_type": "code",
   "execution_count": 109,
   "metadata": {
    "id": "QI7N5Igs_s6c",
    "outputId": "5d8c5d84-452f-4e9a-8bd2-bb650993938e"
   },
   "outputs": [
    {
     "name": "stdout",
     "output_type": "stream",
     "text": [
      "(3, 2)\n",
      "3\n",
      "2\n"
     ]
    }
   ],
   "source": [
    "div_mod=divmod(11,3) # return (Quoitient , remainder)\n",
    "print(div_mod)\n",
    "print(div_mod[0])\n",
    "print(div_mod[1])"
   ]
  },
  {
   "cell_type": "markdown",
   "metadata": {
    "id": "0QHRXX9t_s6c"
   },
   "source": [
    "### range"
   ]
  },
  {
   "cell_type": "code",
   "execution_count": null,
   "metadata": {
    "id": "pZZnPz0R_s6d",
    "outputId": "056788bc-9e9f-45d1-fb5b-c2f00ec68f59"
   },
   "outputs": [
    {
     "name": "stdout",
     "output_type": "stream",
     "text": [
      "0 1 2 \n",
      "\n",
      "2 3 4 5 \n",
      "\n",
      "1 3 5 7 9 "
     ]
    }
   ],
   "source": [
    "for i in range(3):# default start from 0\n",
    "    print(i, end=\" \")\n",
    "print('\\n')\n",
    "\n",
    "for k in range(2,6): # 2 is inclusive and 6 is exclusive\n",
    "    print(k, end=\" \")\n",
    "print('\\n')\n",
    "\n",
    "for l in range(1,10,2): #2 is step size\n",
    "    print(l, end=\" \")\n",
    "    "
   ]
  },
  {
   "cell_type": "markdown",
   "metadata": {
    "id": "KZRFT5dD_s6d"
   },
   "source": [
    "### complex and abs"
   ]
  },
  {
   "cell_type": "code",
   "execution_count": null,
   "metadata": {
    "id": "KPygG9MH_s6d",
    "outputId": "785c1f62-d04a-4738-8916-ff0e42392645"
   },
   "outputs": [
    {
     "name": "stdout",
     "output_type": "stream",
     "text": [
      "5.0\n",
      "1000\n"
     ]
    }
   ],
   "source": [
    "comp = complex('4+3j')\n",
    "print(abs(comp))\n",
    "print(abs(-1000))"
   ]
  },
  {
   "cell_type": "markdown",
   "metadata": {
    "id": "TE1yvnMt_s6d"
   },
   "source": [
    "### floor Division"
   ]
  },
  {
   "cell_type": "code",
   "execution_count": null,
   "metadata": {
    "id": "G3MCafv6_s6d",
    "outputId": "dd146863-e617-4eb6-f249-32becc999103"
   },
   "outputs": [
    {
     "name": "stdout",
     "output_type": "stream",
     "text": [
      "0.5\n",
      "1\n",
      "1.0\n",
      "1.0\n",
      "1\n"
     ]
    }
   ],
   "source": [
    "print(1/2)\n",
    "print(3//2)\n",
    "print(2.0/2)\n",
    "print(2.0//2)\n",
    "print(2//2)"
   ]
  },
  {
   "cell_type": "markdown",
   "metadata": {
    "id": "mzNN9X7U_s6d"
   },
   "source": [
    "### Taking Multiple input at a time :-\n",
    "* Using split() method\n",
    "* Using List comprehension\n"
   ]
  },
  {
   "cell_type": "markdown",
   "metadata": {
    "id": "fUapDwkU_s6d"
   },
   "source": [
    "### Method 1 split"
   ]
  },
  {
   "cell_type": "code",
   "execution_count": 111,
   "metadata": {
    "id": "qJZEsqs9_s6d",
    "outputId": "b84c1832-89ff-4589-e299-27c79625cf25"
   },
   "outputs": [
    {
     "name": "stdout",
     "output_type": "stream",
     "text": [
      "1 2 3\n",
      "<class 'str'>\n"
     ]
    }
   ],
   "source": [
    "x,y,z = input().split()\n",
    "print(type(x))"
   ]
  },
  {
   "cell_type": "code",
   "execution_count": null,
   "metadata": {
    "collapsed": true,
    "id": "VGx45eKl_s6e",
    "outputId": "94bc3433-0497-4c89-ab9d-a749fe2b7620"
   },
   "outputs": [
    {
     "name": "stdout",
     "output_type": "stream",
     "text": [
      "1 2 4\n"
     ]
    }
   ],
   "source": [
    "print(x,y,z)"
   ]
  },
  {
   "cell_type": "code",
   "execution_count": null,
   "metadata": {
    "id": "RpSh0NsM_s6e",
    "outputId": "8f66d3ab-9545-4e89-8ee3-bfbf778be639"
   },
   "outputs": [
    {
     "name": "stdout",
     "output_type": "stream",
     "text": [
      "1 2 3 4 5 6 7 8\n"
     ]
    }
   ],
   "source": [
    "k = list(map(int, input().split()))"
   ]
  },
  {
   "cell_type": "code",
   "execution_count": null,
   "metadata": {
    "id": "oGxXqR6U_s6e",
    "outputId": "47ab2ade-1467-4721-a04b-9ecd6d400ad0"
   },
   "outputs": [
    {
     "data": {
      "text/plain": [
       "[1, 2, 3, 4, 5, 6, 7, 8]"
      ]
     },
     "execution_count": 113,
     "metadata": {
      "tags": []
     },
     "output_type": "execute_result"
    }
   ],
   "source": [
    "k"
   ]
  },
  {
   "cell_type": "code",
   "execution_count": 119,
   "metadata": {},
   "outputs": [
    {
     "name": "stdout",
     "output_type": "stream",
     "text": [
      "Input exactly two value1 2\n",
      "1\n",
      "<class 'int'>\n"
     ]
    }
   ],
   "source": [
    "#value error Exception will be raised if less than or more than 2 arguments given in map\n",
    "x, y = map(int, input('Input exactly two value').split())\n",
    "print(x)\n",
    "print(type(x))"
   ]
  },
  {
   "cell_type": "markdown",
   "metadata": {
    "id": "EZu-A-1B_s6e"
   },
   "source": [
    "### Method 2 list comprehension"
   ]
  },
  {
   "cell_type": "code",
   "execution_count": 122,
   "metadata": {
    "id": "cair1IJT_s6e",
    "outputId": "68dd38e2-ff4e-4a62-c96b-dda3c7a95e12"
   },
   "outputs": [
    {
     "name": "stdout",
     "output_type": "stream",
     "text": [
      "Enter multiple values: 10 5 3\n",
      "[10, 5, 3]\n"
     ]
    }
   ],
   "source": [
    "y = [int(x) for x in input(\"Enter multiple values: \").split()] \n",
    "print(y)"
   ]
  },
  {
   "cell_type": "markdown",
   "metadata": {
    "id": "zzfpkR5D_s6e"
   },
   "source": [
    "### retrun multiple value"
   ]
  },
  {
   "cell_type": "code",
   "execution_count": null,
   "metadata": {
    "id": "62zDhzrA_s6e",
    "outputId": "dae89ffe-670b-4a6a-f02d-8d0e3045da84"
   },
   "outputs": [
    {
     "name": "stdout",
     "output_type": "stream",
     "text": [
      "AksAksAks AksAks\n"
     ]
    }
   ],
   "source": [
    "def test(name):\n",
    "  return  name*3 , name*2\n",
    "\n",
    "\n",
    "a,b=test(\"Aks\")\n",
    "print(a,b)"
   ]
  },
  {
   "cell_type": "code",
   "execution_count": null,
   "metadata": {
    "id": "QajekVnS_s6f",
    "outputId": "516e8a22-873f-4094-cbe2-fa2885b0b23f"
   },
   "outputs": [
    {
     "data": {
      "text/plain": [
       "4"
      ]
     },
     "execution_count": 118,
     "metadata": {
      "tags": []
     },
     "output_type": "execute_result"
    }
   ],
   "source": [
    "def test1(k):\n",
    "  return k+2,k**3\n",
    "\n",
    "\n",
    "a, _ = test1(2)\n",
    "a"
   ]
  },
  {
   "cell_type": "code",
   "execution_count": null,
   "metadata": {
    "id": "HM5C4vQk_s6f",
    "outputId": "ae3a4ab0-0bb0-4960-ad0f-8c9861c254e1"
   },
   "outputs": [
    {
     "data": {
      "text/plain": [
       "{'A': 'Akshay', 'B': 'Singh'}"
      ]
     },
     "execution_count": 119,
     "metadata": {
      "tags": []
     },
     "output_type": "execute_result"
    }
   ],
   "source": [
    "def test():\n",
    "  return [1,2,3,4], {'A':'Akshay','B':'Singh'}\n",
    "\n",
    "\n",
    "_,dic=test()\n",
    "dic"
   ]
  },
  {
   "cell_type": "markdown",
   "metadata": {
    "id": "m5qcpqzL_s6f"
   },
   "source": [
    "### C like Approach"
   ]
  },
  {
   "cell_type": "code",
   "execution_count": null,
   "metadata": {
    "id": "JQ5_q1Ek_s6f",
    "outputId": "042abd67-dc4b-4bdc-bcd5-c99a826bff7f"
   },
   "outputs": [
    {
     "name": "stdout",
     "output_type": "stream",
     "text": [
      "Hello Akshay Singh !\n"
     ]
    }
   ],
   "source": [
    "def greeting(name):\n",
    "  print('Hello %s !' %name)\n",
    "\n",
    "greeting(\"Akshay Singh\")"
   ]
  },
  {
   "cell_type": "markdown",
   "metadata": {
    "id": "5AdMm2rO_s6f"
   },
   "source": [
    "### Basic For Else Loop"
   ]
  },
  {
   "cell_type": "code",
   "execution_count": null,
   "metadata": {
    "id": "dGR0-An7_s6f",
    "outputId": "0f9b9ff8-da1d-4fc8-9c93-493aa5c8c848"
   },
   "outputs": [
    {
     "name": "stdout",
     "output_type": "stream",
     "text": [
      "1 2 \n",
      "End of Program\n",
      "\n",
      "\n",
      "1 2 3 4 5 6 \n",
      "Items Exausted\n",
      "\n",
      "End of Program\n"
     ]
    }
   ],
   "source": [
    "for i in [1,2,'Aks',3,4,5,6]:\n",
    "  if type(i) == str:\n",
    "    break\n",
    "  print(i,end=\" \")\n",
    "else:\n",
    "  print('\\nItems Exausted')\n",
    "print('\\nEnd of Program\\n\\n')\n",
    "\n",
    "#and\n",
    "\n",
    "for i in [1,2,'Aks',3,4,5,6]:\n",
    "  if type(i) == int :\n",
    "      print(i,end=\" \")\n",
    "else:\n",
    "  print('\\nItems Exausted')\n",
    "print('\\nEnd of Program')\n",
    "\n",
    "#NOTE: else only executed when for loop never interrupted"
   ]
  },
  {
   "cell_type": "markdown",
   "metadata": {
    "id": "WaVy9Ote_s6f"
   },
   "source": [
    "### iterator vs iterable vs generator"
   ]
  },
  {
   "cell_type": "markdown",
   "metadata": {
    "id": "keLkNGi1_s6f"
   },
   "source": [
    "* NOTE: 'str' object is not an iterator"
   ]
  },
  {
   "cell_type": "markdown",
   "metadata": {
    "id": "hG4oBYGB_s6f"
   },
   "source": [
    "* string is iterable not iterator so we have to use iter to make it iterator"
   ]
  },
  {
   "cell_type": "markdown",
   "metadata": {
    "id": "JI8Z13G0_s6g"
   },
   "source": [
    "* but int is not an iterable"
   ]
  },
  {
   "cell_type": "markdown",
   "metadata": {
    "id": "_-cl2Vew_s6g"
   },
   "source": [
    "* NOTE: for loop is only able to iterate the iterable objects because internally iter() function make it iterator"
   ]
  },
  {
   "cell_type": "markdown",
   "metadata": {
    "id": "cioIdKHx_s6g"
   },
   "source": [
    "* range(0,num) is also not iterator its only iterable object"
   ]
  },
  {
   "cell_type": "markdown",
   "metadata": {
    "id": "unw-kKey_s6g"
   },
   "source": [
    "**next and iter() working into the backend of for loop to make iterable object into iterator**"
   ]
  },
  {
   "cell_type": "markdown",
   "metadata": {
    "id": "5pc4Uf4L_s6g"
   },
   "source": [
    "Doubt1 : partition \n",
    "    sent=\"Deep learning is the future\"\n",
    "sent.partition('i')"
   ]
  },
  {
   "cell_type": "code",
   "execution_count": null,
   "metadata": {
    "id": "KVdnrwPV_s6g",
    "outputId": "66be62c6-322c-4276-bdec-bf6395561b02"
   },
   "outputs": [
    {
     "ename": "TypeError",
     "evalue": "'str' object is not an iterator",
     "output_type": "error",
     "traceback": [
      "\u001b[0;31m---------------------------------------------------------------------------\u001b[0m",
      "\u001b[0;31mTypeError\u001b[0m                                 Traceback (most recent call last)",
      "\u001b[0;32m<ipython-input-123-8b4a904d1881>\u001b[0m in \u001b[0;36m<module>\u001b[0;34m\u001b[0m\n\u001b[1;32m      1\u001b[0m \u001b[0;31m#string object is not iterator\u001b[0m\u001b[0;34m\u001b[0m\u001b[0;34m\u001b[0m\u001b[0;34m\u001b[0m\u001b[0m\n\u001b[0;32m----> 2\u001b[0;31m \u001b[0mnext\u001b[0m\u001b[0;34m(\u001b[0m\u001b[0;34m\"Akshay Singh\"\u001b[0m\u001b[0;34m)\u001b[0m\u001b[0;34m\u001b[0m\u001b[0;34m\u001b[0m\u001b[0m\n\u001b[0m",
      "\u001b[0;31mTypeError\u001b[0m: 'str' object is not an iterator"
     ]
    }
   ],
   "source": [
    "#string object is not iterator\n",
    "next(\"Akshay Singh\")"
   ]
  },
  {
   "cell_type": "code",
   "execution_count": 123,
   "metadata": {
    "id": "g9gYCFDK_s6g",
    "outputId": "2ec7d0e0-80ff-4a93-9760-565bdaba0b83"
   },
   "outputs": [
    {
     "data": {
      "text/plain": [
       "'A'"
      ]
     },
     "execution_count": 123,
     "metadata": {},
     "output_type": "execute_result"
    }
   ],
   "source": [
    "a=iter(\"Akshay\")\n",
    "next(a)"
   ]
  },
  {
   "cell_type": "code",
   "execution_count": 124,
   "metadata": {
    "id": "XIAXNhzu_s6g",
    "outputId": "ce11a2db-62eb-4bc2-b3f2-7eefe70e2add"
   },
   "outputs": [
    {
     "data": {
      "text/plain": [
       "'k'"
      ]
     },
     "execution_count": 124,
     "metadata": {},
     "output_type": "execute_result"
    }
   ],
   "source": [
    "next(a)"
   ]
  },
  {
   "cell_type": "code",
   "execution_count": 125,
   "metadata": {
    "id": "938k69ST_s6g",
    "outputId": "b6ab172d-9f31-45fe-850f-4350b502f805"
   },
   "outputs": [
    {
     "ename": "TypeError",
     "evalue": "'int' object is not iterable",
     "output_type": "error",
     "traceback": [
      "\u001b[0;31m---------------------------------------------------------------------------\u001b[0m",
      "\u001b[0;31mTypeError\u001b[0m                                 Traceback (most recent call last)",
      "\u001b[0;32m<ipython-input-125-794229bb7d6e>\u001b[0m in \u001b[0;36m<module>\u001b[0;34m\u001b[0m\n\u001b[0;32m----> 1\u001b[0;31m \u001b[0ma\u001b[0m\u001b[0;34m=\u001b[0m\u001b[0miter\u001b[0m\u001b[0;34m(\u001b[0m\u001b[0;36m5\u001b[0m\u001b[0;34m)\u001b[0m\u001b[0;34m\u001b[0m\u001b[0;34m\u001b[0m\u001b[0m\n\u001b[0m",
      "\u001b[0;31mTypeError\u001b[0m: 'int' object is not iterable"
     ]
    }
   ],
   "source": [
    "a=iter(5)"
   ]
  },
  {
   "cell_type": "markdown",
   "metadata": {
    "id": "mOZ48ScH_s6h"
   },
   "source": [
    "****NOTE: Make Sure in order to make anything object iterator first it should be iterable****"
   ]
  },
  {
   "cell_type": "code",
   "execution_count": null,
   "metadata": {
    "collapsed": true,
    "id": "VyRfkKJS_s6h",
    "outputId": "ada4299b-fbda-4cf6-e02d-af3745f753eb"
   },
   "outputs": [
    {
     "name": "stdout",
     "output_type": "stream",
     "text": [
      "A\n",
      "k\n",
      "s\n",
      "h\n",
      "a\n",
      "y\n"
     ]
    }
   ],
   "source": [
    "lis=iter(\"Akshay\")\n",
    "for i in range(len(\"Akshay\")):\n",
    "  print(next(lis))"
   ]
  },
  {
   "cell_type": "code",
   "execution_count": null,
   "metadata": {
    "collapsed": true,
    "id": "LdYMfixL_s6h",
    "outputId": "37448396-6326-4828-c46a-688acfc33324"
   },
   "outputs": [
    {
     "data": {
      "text/plain": [
       "range(0, 4)"
      ]
     },
     "execution_count": 127,
     "metadata": {
      "tags": []
     },
     "output_type": "execute_result"
    }
   ],
   "source": [
    "a=range(0,4)\n",
    "a"
   ]
  },
  {
   "cell_type": "code",
   "execution_count": null,
   "metadata": {
    "collapsed": true,
    "id": "9HLxmBb-_s6h",
    "outputId": "94654c94-5854-4336-90fc-b14eb155682d"
   },
   "outputs": [
    {
     "ename": "TypeError",
     "evalue": "'range' object is not an iterator",
     "output_type": "error",
     "traceback": [
      "\u001b[0;31m---------------------------------------------------------------------------\u001b[0m",
      "\u001b[0;31mTypeError\u001b[0m                                 Traceback (most recent call last)",
      "\u001b[0;32m<ipython-input-128-15841f3f11d4>\u001b[0m in \u001b[0;36m<module>\u001b[0;34m\u001b[0m\n\u001b[0;32m----> 1\u001b[0;31m \u001b[0mnext\u001b[0m\u001b[0;34m(\u001b[0m\u001b[0ma\u001b[0m\u001b[0;34m)\u001b[0m\u001b[0;34m\u001b[0m\u001b[0;34m\u001b[0m\u001b[0m\n\u001b[0m",
      "\u001b[0;31mTypeError\u001b[0m: 'range' object is not an iterator"
     ]
    }
   ],
   "source": [
    "next(a)"
   ]
  },
  {
   "cell_type": "code",
   "execution_count": 126,
   "metadata": {
    "id": "NrHw_zI3_s6h",
    "outputId": "60f77e99-f1ce-4c6a-85d7-9ead763030c4"
   },
   "outputs": [
    {
     "name": "stdout",
     "output_type": "stream",
     "text": [
      "<class 'range_iterator'>\n",
      "0\n",
      "1\n",
      "2\n",
      "3\n"
     ]
    }
   ],
   "source": [
    "itr=iter(range(0,4))\n",
    "print(type(itr))\n",
    "for i in itr:\n",
    "  print(i)"
   ]
  },
  {
   "cell_type": "markdown",
   "metadata": {
    "id": "PpdfTWqU_s6h"
   },
   "source": [
    "#### NOTE: making generator object using yield"
   ]
  },
  {
   "cell_type": "code",
   "execution_count": null,
   "metadata": {
    "collapsed": true,
    "id": "BCUsma4W_s6h"
   },
   "outputs": [],
   "source": [
    "#generator\n",
    "def genCube(n):\n",
    "  for x in range(n):\n",
    "    yield x**3\n",
    "\n",
    "#yield is used to generator type of object when we dont wnat to allocate memory at the same time"
   ]
  },
  {
   "cell_type": "code",
   "execution_count": null,
   "metadata": {
    "collapsed": true,
    "id": "5OoaYw2R_s6h"
   },
   "outputs": [],
   "source": [
    "def test_gen():\n",
    "  for i in range(3):\n",
    "    yield i**2"
   ]
  },
  {
   "cell_type": "code",
   "execution_count": null,
   "metadata": {
    "colab": {
     "base_uri": "https://localhost:8080/"
    },
    "id": "-618t-AN_s6h",
    "outputId": "87f87b7f-234a-4158-945c-f9286de90365"
   },
   "outputs": [
    {
     "data": {
      "text/plain": [
       "generator"
      ]
     },
     "execution_count": 3,
     "metadata": {
      "tags": []
     },
     "output_type": "execute_result"
    }
   ],
   "source": [
    "gen=test_gen()\n",
    "type(gen)"
   ]
  },
  {
   "cell_type": "code",
   "execution_count": null,
   "metadata": {
    "colab": {
     "base_uri": "https://localhost:8080/"
    },
    "id": "6XsuFfbh_s6i",
    "outputId": "d4458f4b-e7cb-43d7-c5b8-448616be8163"
   },
   "outputs": [
    {
     "name": "stdout",
     "output_type": "stream",
     "text": [
      "<generator object test_gen at 0x7f66383e4570>\n"
     ]
    }
   ],
   "source": [
    "print(gen)"
   ]
  },
  {
   "cell_type": "code",
   "execution_count": null,
   "metadata": {
    "colab": {
     "base_uri": "https://localhost:8080/"
    },
    "id": "aDhD2jEA_s6i",
    "outputId": "1a46a753-ea1b-4a1e-a391-79572d24e0fe"
   },
   "outputs": [
    {
     "name": "stdout",
     "output_type": "stream",
     "text": [
      "0\n",
      "1\n",
      "4\n"
     ]
    }
   ],
   "source": [
    "for i in gen:\n",
    "  print(i)"
   ]
  },
  {
   "cell_type": "markdown",
   "metadata": {
    "id": "w-xaFp5E_s6i"
   },
   "source": [
    "### Swapping"
   ]
  },
  {
   "cell_type": "code",
   "execution_count": null,
   "metadata": {
    "id": "jLQod58v_s6i",
    "outputId": "5521c1bd-bb09-4aa4-d0f5-9c039460cd7b"
   },
   "outputs": [
    {
     "name": "stdout",
     "output_type": "stream",
     "text": [
      "5\n",
      "6\n",
      "7\n",
      "[1, 2, 3, 3]\n"
     ]
    }
   ],
   "source": [
    "a,b,c,numbers=5,6,7,[1,2,3,3]\n",
    "print(a)\n",
    "print(b)\n",
    "print(c)\n",
    "print(numbers)"
   ]
  },
  {
   "cell_type": "code",
   "execution_count": null,
   "metadata": {
    "collapsed": true,
    "id": "JrCPlNzB_s6i"
   },
   "outputs": [],
   "source": [
    "def genFibonacci(n):\n",
    "  a=1\n",
    "  b=1\n",
    "  for i in range(n):\n",
    "    yield a\n",
    "    a,b=b,a+b"
   ]
  },
  {
   "cell_type": "code",
   "execution_count": null,
   "metadata": {
    "colab": {
     "base_uri": "https://localhost:8080/"
    },
    "id": "J_WW7Y-h_s6i",
    "outputId": "18d0d5aa-36c7-4716-d404-4c926dd11503"
   },
   "outputs": [
    {
     "name": "stdout",
     "output_type": "stream",
     "text": [
      "1\n",
      "1\n",
      "2\n",
      "3\n",
      "5\n",
      "8\n",
      "13\n",
      "21\n"
     ]
    }
   ],
   "source": [
    "for i in genFibonacci(8):\n",
    "  print(i)"
   ]
  },
  {
   "cell_type": "markdown",
   "metadata": {
    "id": "54OyNhhG_s6i"
   },
   "source": [
    "### formatted String like positional parameter :-"
   ]
  },
  {
   "cell_type": "code",
   "execution_count": null,
   "metadata": {
    "collapsed": true,
    "id": "2vRjJrfx_s6i"
   },
   "outputs": [],
   "source": [
    "#positional \n",
    "#and keyword argument (we need to pass key + value in the function in case of kwargs)\n",
    "def greeting(name,age):\n",
    "  print('my name is {} and my age is {}'.format(name,age))"
   ]
  },
  {
   "cell_type": "code",
   "execution_count": null,
   "metadata": {
    "colab": {
     "base_uri": "https://localhost:8080/"
    },
    "id": "IFywkDoQ_s6i",
    "outputId": "d39fc961-62d2-4acb-f6af-e994f1a651f7"
   },
   "outputs": [
    {
     "name": "stdout",
     "output_type": "stream",
     "text": [
      "my name is Akshay and my age is 22\n"
     ]
    }
   ],
   "source": [
    "greeting(\"Akshay\",22)"
   ]
  },
  {
   "cell_type": "code",
   "execution_count": null,
   "metadata": {
    "collapsed": true,
    "id": "k-_eqELz_s6j"
   },
   "outputs": [],
   "source": [
    "#positional \n",
    "#and keyword argument (we need to pass key + value in the function in case of kwargs)\n",
    "def greeting(name,age=20):\n",
    "  print(f'my name is {name} and my age is {age}')"
   ]
  },
  {
   "cell_type": "code",
   "execution_count": null,
   "metadata": {
    "colab": {
     "base_uri": "https://localhost:8080/"
    },
    "id": "NKBEHLXz_s6j",
    "outputId": "25385d96-5b20-4457-b446-7becfeaab9a6"
   },
   "outputs": [
    {
     "name": "stdout",
     "output_type": "stream",
     "text": [
      "my name is abcd and my age is 27\n"
     ]
    }
   ],
   "source": [
    "greeting('abcd',27)"
   ]
  },
  {
   "cell_type": "code",
   "execution_count": null,
   "metadata": {
    "collapsed": true,
    "id": "C551p1ND_s6j"
   },
   "outputs": [],
   "source": [
    "#more on *args and **kwargs"
   ]
  },
  {
   "cell_type": "code",
   "execution_count": null,
   "metadata": {
    "collapsed": true,
    "id": "eH-rSkxN_s6j"
   },
   "outputs": [],
   "source": [
    "def greetings(*args,**kwargs):\n",
    "  print(args)\n",
    "  print(kwargs)"
   ]
  },
  {
   "cell_type": "code",
   "execution_count": null,
   "metadata": {
    "id": "WQxXH0B1_s6j",
    "outputId": "93f514f4-be5d-4acc-cf0b-9d3377924a22"
   },
   "outputs": [
    {
     "name": "stdout",
     "output_type": "stream",
     "text": [
      "('abcd', 'kummar')\n",
      "{'age': 20, 'dob': 1990}\n"
     ]
    }
   ],
   "source": [
    "greetings(\"abcd\",\"kummar\",age=20,dob=1990)"
   ]
  },
  {
   "cell_type": "markdown",
   "metadata": {
    "id": "dnSULvxJ_s6j"
   },
   "source": [
    "### OOPs Concept"
   ]
  },
  {
   "cell_type": "code",
   "execution_count": null,
   "metadata": {
    "colab": {
     "base_uri": "https://localhost:8080/"
    },
    "collapsed": true,
    "id": "FVnxoySF_s6j",
    "outputId": "2c0a7e80-2795-4293-ca48-44dbf05f7b38"
   },
   "outputs": [
    {
     "name": "stdout",
     "output_type": "stream",
     "text": [
      "<__main__.Person object at 0x7f6637b49ba8>\n",
      "sudh kumar was born in 1998.\n"
     ]
    }
   ],
   "source": [
    "#bad practice style of creation of objects\n",
    "class Person:\n",
    "  pass\n",
    "sudh_joe=Person()\n",
    "sudh_joe.name=\"sudh\"\n",
    "sudh_joe.surname='kumar'\n",
    "sudh_joe.year_of_bearth=1998\n",
    "\n",
    "aks=Person()\n",
    "aks.name=\"Akash\"\n",
    "aks.surname=\"Verma\"\n",
    "aks.yob=2012\n",
    "aks.age=8\n",
    "\n",
    "\n",
    "print(sudh_joe)\n",
    "print(\"%s %s was born in %d.\" %(sudh_joe.name,sudh_joe.surname,sudh_joe.year_of_bearth))"
   ]
  },
  {
   "cell_type": "code",
   "execution_count": 1,
   "metadata": {
    "colab": {
     "base_uri": "https://localhost:8080/"
    },
    "collapsed": true,
    "id": "yFjCbhmy_s6k",
    "outputId": "295fdb48-dc02-4021-fecc-3f9978f68ab7"
   },
   "outputs": [
    {
     "name": "stdout",
     "output_type": "stream",
     "text": [
      "Alex jattinx was born in 1958.\n",
      "62\n",
      "ALEX\n",
      "{'name': 'Alex', 'sur': 'jattinx', 'year': 1958}\n"
     ]
    }
   ],
   "source": [
    "#good style of creating the objects of a class\n",
    "class Person:\n",
    "  def __init__(a,name,surname,year):\n",
    "    a.name=name\n",
    "    a.sur=surname\n",
    "    a.year=year\n",
    "\n",
    "  def age(a, current_year):\n",
    "    return current_year-a.year\n",
    "  \n",
    "  def UPPER_String(a):\n",
    "    return a.name.upper()\n",
    "\n",
    "  def __str__(a):\n",
    "    return \"%s %s was born in %d.\" % (a.name,a.sur,a.year)\n",
    "  \n",
    "\n",
    "alex=Person('Alex',\"jattinx\",1958)\n",
    "print(alex)\n",
    "print(alex.age(2020))  \n",
    "print(alex.UPPER_String())\n",
    "print(alex.__dict__)"
   ]
  },
  {
   "cell_type": "markdown",
   "metadata": {
    "id": "dE9P5gqa_s6k"
   },
   "source": [
    "**Protect your abstraction**\n",
    "* _(single) : protected\n",
    "* __(private): private\n",
    "* everything else is public"
   ]
  },
  {
   "cell_type": "code",
   "execution_count": 1,
   "metadata": {
    "colab": {
     "base_uri": "https://localhost:8080/"
    },
    "id": "6zS-mlYo_s6k",
    "outputId": "532f6d3e-1d96-4f01-f6c9-b9a5730763af"
   },
   "outputs": [
    {
     "name": "stdout",
     "output_type": "stream",
     "text": [
      "Alex vateran was born in 1994.\n",
      "Alex\n"
     ]
    },
    {
     "data": {
      "text/plain": [
       "{'_name': 'Alex', '_sur': 'vateran', '_year': 1994}"
      ]
     },
     "execution_count": 1,
     "metadata": {},
     "output_type": "execute_result"
    }
   ],
   "source": [
    "class Person:\n",
    "  def __init__(self,name,surname,year):\n",
    "    self._name=name\n",
    "    self._sur=surname\n",
    "    self._year=year\n",
    "\n",
    "  def age(self, current_year):\n",
    "    return current_year-self._year\n",
    "  \n",
    "  def UPPER_String(self):\n",
    "    return a.name.upper()\n",
    "\n",
    "  def __str__(self):\n",
    "    return \"%s %s was born in %d.\" % (self._name,self._sur,self._year)\n",
    "  \n",
    "\n",
    "alex=Person('Alex','vateran',1994)\n",
    "print(alex)\n",
    "print(alex._name) #not gives error\n",
    "alex.__dict__ # check how they store in memory "
   ]
  },
  {
   "cell_type": "code",
   "execution_count": 5,
   "metadata": {
    "colab": {
     "base_uri": "https://localhost:8080/"
    },
    "id": "a7nOV2FO_s6k",
    "outputId": "521dccc8-1ee3-402c-ed6c-41be7ec9442b"
   },
   "outputs": [
    {
     "name": "stdout",
     "output_type": "stream",
     "text": [
      "Alex vateran was born in 1994.\n",
      "Alex vateran\n"
     ]
    }
   ],
   "source": [
    "class Person:\n",
    "  def __init__(self,name,surname,year):\n",
    "    self.__name=name\n",
    "    self.__sur=surname\n",
    "    self.__year=year\n",
    "\n",
    "  def age(self, current_year):\n",
    "    return current_year-self.__year\n",
    "  \n",
    "  def __str__(self):\n",
    "    return \"%s %s was born in %d.\" % (self.__name,self.__sur,self.__year)\n",
    "\n",
    "\n",
    "alex=Person('Alex','vateran',1994)\n",
    "print(alex)\n",
    "#print(alex.__name) -> AttributeError  \n",
    "alex.__dict__ # check how they store in memory \n",
    "\n",
    "#trick to access outside class\n",
    "print(f\"{alex._Person__name} {alex._Person__sur}\") #object._ClassName__Name"
   ]
  },
  {
   "cell_type": "markdown",
   "metadata": {
    "id": "qTvkYni0_s6k"
   },
   "source": [
    "***In terms of some notation we are able do abstraction in python.***"
   ]
  },
  {
   "cell_type": "markdown",
   "metadata": {
    "id": "MA1dHkUS_s6k"
   },
   "source": [
    "**Inheritence**"
   ]
  },
  {
   "cell_type": "code",
   "execution_count": null,
   "metadata": {
    "id": "a9rWus_b_s6k",
    "outputId": "5a169f8c-ee3e-4bc6-f90d-065300972942"
   },
   "outputs": [
    {
     "name": "stdout",
     "output_type": "stream",
     "text": [
      "101\n",
      "<class '__main__.Student'>\n",
      "True\n",
      "True\n",
      "aks\n",
      "54\n",
      "101\n",
      "AKS\n",
      "kumar\n",
      "{'name': 'aks', 'sur': 'kumar', 'year': 1960, 'stu_id': 101}\n"
     ]
    }
   ],
   "source": [
    "class Student(Person):\n",
    "  def __init__(self,stu_id,*args):\n",
    "    super(Student,self).__init__(*args) #invoking parent class constructor or any method of paarent class \n",
    "    self.stu_id=stu_id\n",
    "\n",
    "charlie = Student(101,'aks','kumar',1960)\n",
    "\n",
    "print(charlie.stu_id)\n",
    "\n",
    "print(type(charlie))\n",
    "\n",
    "print(isinstance(charlie,Person)) #child class instance always be instance of Parent class\n",
    "print(isinstance(charlie,object))\n",
    "\n",
    "print(charlie.name)\n",
    "print(charlie.age(2014))\n",
    "print(charlie.stu_id)\n",
    "print(charlie.UPPER_String())\n",
    "print(charlie.sur)\n",
    "print(charlie.__dict__)"
   ]
  },
  {
   "cell_type": "code",
   "execution_count": 13,
   "metadata": {
    "id": "uAlyN8Ei_s6k",
    "outputId": "ab4d17b4-e711-431c-fa81-58ba42e89273"
   },
   "outputs": [
    {
     "name": "stdout",
     "output_type": "stream",
     "text": [
      "class A method\n",
      "class B method\n",
      "constructor C\n",
      "class C method\n"
     ]
    }
   ],
   "source": [
    "#multiplie inheritance\n",
    "class A:\n",
    "  def __init__(self,x,y):\n",
    "    self.x=x\n",
    "    self.y=y\n",
    "\n",
    "  def test(self):\n",
    "    print(\"class A method\")\n",
    "  \n",
    "\n",
    "class B:\n",
    "  def __init__(self,a,b):\n",
    "    self.a=a\n",
    "    self.b=b\n",
    "\n",
    "  def test(self):\n",
    "    print(\"class B method\")\n",
    "\n",
    "class C(A,B):\n",
    "    \n",
    "    def __init__(self):\n",
    "        print('constructor C')\n",
    "        \n",
    "    def test(self):\n",
    "        print(\"class C method\")\n",
    "    \n",
    "    \n",
    "  \n",
    "obja = A(\"ajs\",21)\n",
    "objb = B(\"awd\",20)\n",
    "obja.test()\n",
    "objb.test()\n",
    "objc = C()\n",
    "objc.test()"
   ]
  },
  {
   "cell_type": "code",
   "execution_count": 18,
   "metadata": {},
   "outputs": [
    {
     "name": "stdout",
     "output_type": "stream",
     "text": [
      "class A method\n",
      "class B method\n"
     ]
    }
   ],
   "source": [
    "#diamond problem Order resoliution Method(ORM)\n",
    "\n",
    "#multiplie inheritance\n",
    "class A:\n",
    "\n",
    "  def test(self):\n",
    "    print(\"class A method\")\n",
    "  \n",
    "\n",
    "class B(A):\n",
    "\n",
    "  def test1(self):\n",
    "    print(\"class B method\")\n",
    "    \n",
    "\n",
    "class C(A):\n",
    "        \n",
    "    def test1(self):\n",
    "        print(\"class C method\")\n",
    "        \n",
    "class D(B, C):\n",
    "    pass\n",
    "\n",
    "objD = D()\n",
    "objD.test() #diaomd problem -> ORM(gives the test from B not from C)\n",
    "objD.test1() # gives the output for class B method, since using ORM first B class is inherited then C,\n",
    "    "
   ]
  },
  {
   "cell_type": "code",
   "execution_count": 19,
   "metadata": {
    "id": "NwK3f6kz_s6l",
    "outputId": "bb42d6d1-15eb-49a6-b5b7-a41978f02814"
   },
   "outputs": [
    {
     "name": "stdout",
     "output_type": "stream",
     "text": [
      "aks kumar was born in 1960. and has is is 101\n",
      "{'_Person__name': 'aks', '_Person__sur': 'kumar', '_Person__year': 1960, 'stu_id': 101}\n"
     ]
    }
   ],
   "source": [
    "#method overriding\n",
    "class Student(Person):\n",
    "  def __init__(self,stu_id,*args):\n",
    "    super(Student,self).__init__(*args)\n",
    "    self.stu_id=stu_id\n",
    "  \n",
    "  def __str__(self):\n",
    "    return super(Student,self).__str__()+\" and has is is %d\" % self.stu_id\n",
    "\n",
    "\n",
    "charlie=Student(101,'aks','kumar',1960)\n",
    "print(charlie)\n",
    "print(charlie.__dict__)"
   ]
  },
  {
   "cell_type": "markdown",
   "metadata": {
    "id": "9c_6b1U__s6l"
   },
   "source": [
    "* Encapsulation: Hiding the actual implementation black box for a method just know the use of it, thats it!\n",
    "\n",
    "* So encapsulation also a kind of reusability concept\n",
    "\n",
    "* 1.Composite Encapsulation we just use those methods or classes which is developed by someone by assuming faith of them"
   ]
  },
  {
   "cell_type": "code",
   "execution_count": null,
   "metadata": {
    "id": "pmSOvNiX_s6l",
    "outputId": "7de3f69b-ea63-4154-e920-a8cdd6069d37"
   },
   "outputs": [
    {
     "name": "stdout",
     "output_type": "stream",
     "text": [
      "Tyres: \n",
      " \tBranch: Pirelli\n",
      " \tBelted-bias: True\n",
      " \tOptimal pressure: 2.0\n",
      "Engine: \n",
      " \tFuel type: Diesel\n",
      " \tNoise level:3\n",
      "Body:\n",
      " \tSize: Medium\n"
     ]
    }
   ],
   "source": [
    "class Tyres:\n",
    "    def __init__(self, branch, belted_bias, opt_pressure):\n",
    "        self.branch = branch\n",
    "        self.belted_bias = belted_bias\n",
    "        self.opt_pressure = opt_pressure\n",
    "        \n",
    "    def __str__(self):\n",
    "        return (\"Tyres: \\n \\tBranch: \" + self.branch +\n",
    "               \"\\n \\tBelted-bias: \" + str(self.belted_bias) + \n",
    "               \"\\n \\tOptimal pressure: \" + str(self.opt_pressure))\n",
    "        \n",
    "class Engine:\n",
    "    def __init__(self, fuel_type, noise_level):\n",
    "        self.fuel_type = fuel_type\n",
    "        self.noise_level = noise_level\n",
    "        \n",
    "    def __str__(self):\n",
    "        return (\"Engine: \\n \\tFuel type: \" + self.fuel_type +\n",
    "                \"\\n \\tNoise level:\" + str(self.noise_level))\n",
    "        \n",
    "class Body:\n",
    "    def __init__(self, size):\n",
    "        self.size = size\n",
    "        \n",
    "    def __str__(self):\n",
    "        return \"Body:\\n \\tSize: \" + self.size\n",
    "        \n",
    "class Car:\n",
    "    def __init__(self, tyres, engine, body):\n",
    "        self.tyres = tyres\n",
    "        self.engine = engine\n",
    "        self.body = body\n",
    "        \n",
    "    def __str__(self):\n",
    "        return str(self.tyres) + \"\\n\" + str(self.engine) + \"\\n\" + str(self.body)\n",
    "\n",
    "        \n",
    "t = Tyres('Pirelli', True, 2.0)\n",
    "e = Engine('Diesel', 3)\n",
    "b = Body('Medium')\n",
    "c = Car(t, e, b)\n",
    "print(c)"
   ]
  },
  {
   "cell_type": "code",
   "execution_count": 6,
   "metadata": {
    "id": "HK77r2Nu_s6l",
    "outputId": "f7f85151-6680-4cf1-f08c-1c850edaf4bb"
   },
   "outputs": [
    {
     "name": "stdout",
     "output_type": "stream",
     "text": [
      "Kudarvajka is a pitbull born in 2002.\n"
     ]
    }
   ],
   "source": [
    "#Dynamic Extension:\n",
    "class Dog:\n",
    "  def __init__(self,name,year,breed):\n",
    "    self.name=name\n",
    "    self.year_of_birth=year\n",
    "    self.breed=breed\n",
    "\n",
    "  def __str__(self):\n",
    "    return \"%s is a %s born in %d.\" % (self.name,self.breed,self.year_of_birth)\n",
    "\n",
    "kud=Dog(\"Kudarvajka\",2002,\"pitbull\")\n",
    "print(kud)"
   ]
  },
  {
   "cell_type": "code",
   "execution_count": null,
   "metadata": {
    "id": "jUs06j_7_s6l",
    "outputId": "d1bab790-9d6d-4a50-b654-b3edf4d3f39e"
   },
   "outputs": [
    {
     "name": "stdout",
     "output_type": "stream",
     "text": [
      "aks Student id: 101\n",
      "Kudarvajka is a pitbull born in 2002. Student id: 102\n"
     ]
    }
   ],
   "source": [
    "class Student:\n",
    "  def __init__(self,anagraphic,stu_id):\n",
    "    self.anagraphic=anagraphic\n",
    "    self.stu_id=stu_id\n",
    "\n",
    "  def __str__(self):\n",
    "    return str(self.anagraphic) + \" Student id: %d\" % self.stu_id\n",
    "\n",
    "\n",
    "alex_student=Student(\"aks\",101)\n",
    "kud_stu= Student(kud,102)\n",
    "\n",
    "print(alex_student)\n",
    "print(kud_stu)"
   ]
  },
  {
   "cell_type": "markdown",
   "metadata": {
    "id": "g0ExfbyY_s6l"
   },
   "source": [
    "#### Polymorphism and Duck Typin\n",
    "\n",
    "* Polymorphysm can be achieve using function level (function overloading) -> Now, `python doesn’t support method overloading` like C++ or Java so we use class methods to create factory methods. \n",
    "* Polymorphysm can be acheive using class level (method overloading)"
   ]
  },
  {
   "cell_type": "code",
   "execution_count": 27,
   "metadata": {
    "id": "4s58XIXZ_s6m",
    "outputId": "651f3838-57b9-44ad-9ac6-faaab291bc63"
   },
   "outputs": [
    {
     "name": "stdout",
     "output_type": "stream",
     "text": [
      "9\n",
      "Akskumar\n",
      "[2, 3, 4, 5, -1, -2]\n"
     ]
    }
   ],
   "source": [
    "def test_poly(a,b):\n",
    "  return a + b\n",
    "\n",
    "\"\"\"\n",
    "def test_poly(a, b, c):\n",
    "    return a + b + c\n",
    "This will give the error in line#15  -> missing 1 required positional argument\n",
    "\"\"\"\n",
    "\n",
    "\n",
    "print(test_poly(2,7))\n",
    "print(test_poly('Aks','kumar'))\n",
    "print(test_poly([2,3,4,5],[-1,-2]))\n",
    "#print(test_poly('Aks ','kumar ', 'singh'))"
   ]
  },
  {
   "cell_type": "code",
   "execution_count": 41,
   "metadata": {},
   "outputs": [
    {
     "name": "stdout",
     "output_type": "stream",
     "text": [
      "9\n",
      "20\n"
     ]
    }
   ],
   "source": [
    "#same can be achieved using var_args on some extent-> *args\n",
    "def PolyTets(*args):\n",
    "    summ = 0\n",
    "    for i in args:\n",
    "        summ += i\n",
    "        \n",
    "    return summ\n",
    "    \n",
    "print(PolyTets(2,7))\n",
    "print(PolyTets(2,7,11))\n",
    "#print(PolyTets('Akshay ','kumar')) #not work\n",
    "#print(PolyTets([2,3,4,5], [-1,-2], [8, 9, 10])) #not work"
   ]
  },
  {
   "cell_type": "markdown",
   "metadata": {},
   "source": [
    "### Class or Static Variables in Python \n",
    "* The Python approach is simple; it doesn’t require a static keyword. "
   ]
  },
  {
   "cell_type": "code",
   "execution_count": 52,
   "metadata": {},
   "outputs": [
    {
     "name": "stdout",
     "output_type": "stream",
     "text": [
      "Number of students 1\n",
      "Number of students 2\n",
      "2\n"
     ]
    }
   ],
   "source": [
    "class Student:\n",
    "    \n",
    "    #static variable\n",
    "    stud = 0\n",
    "    \n",
    "    def __init__(self, name, roll):\n",
    "        Student.stud += 1\n",
    "        self.name = name\n",
    "        self.roll_no = roll\n",
    "        \n",
    "    def ShowDetails(self):\n",
    "        print(f\"Number of students {self.stud}\") #access using class Student.stud\n",
    "        \n",
    "stud1 = Student('Akshay', '179182828972')\n",
    "stud1.ShowDetails()\n",
    "stud2 = Student('Kartii', '179182826762')\n",
    "stud1.ShowDetails()\n",
    "\n",
    "#also access using object as well as class\n",
    "print(stud1.stud)"
   ]
  },
  {
   "cell_type": "markdown",
   "metadata": {},
   "source": [
    "### Class method vs Static method in Python"
   ]
  },
  {
   "cell_type": "markdown",
   "metadata": {},
   "source": [
    "* A class method takes `cls` as the first parameter while a static method needs no specific parameters.\n",
    "* A class method can access or modify the class state while a static method can’t access or modify it.\n",
    "* In general, static methods know nothing about the class state. They are utility-type methods that take some parameters and work upon those parameters. On the other hand class methods must have class as a parameter.\n",
    "* We use @classmethod decorator in python to create a class method and we use @staticmethod decorator to create a static method in python."
   ]
  },
  {
   "cell_type": "code",
   "execution_count": 5,
   "metadata": {},
   "outputs": [
    {
     "name": "stdout",
     "output_type": "stream",
     "text": [
      "17\n",
      "26\n",
      "Both are diiferent age above\n",
      "Alex Dame\n",
      "--------------------\n",
      "False\n",
      "True\n"
     ]
    }
   ],
   "source": [
    "from datetime import date\n",
    "class Person:\n",
    "    def __init__(self, name, age):\n",
    "        self.name = name\n",
    "        self.age = age\n",
    "        \n",
    "    # a class method to create a Person object by birth year.\n",
    "    @classmethod\n",
    "    def fromBirthYear(cls, name, year):\n",
    "        return cls(name, date.today().year - year)\n",
    "    \n",
    "    @staticmethod\n",
    "    def isAdult(age):\n",
    "        return age > 18\n",
    "\n",
    "#creating object using normally   \n",
    "p1 = Person('John Kerrry', 17)\n",
    "\n",
    "#creating object using classmethod   \n",
    "p2 = Person.fromBirthYear('Alex Dame', 1996)\n",
    "\n",
    "print(p1.age)\n",
    "print(p2.age)\n",
    "print('Both are diiferent age above')\n",
    "print(p2.name)\n",
    "print('--'*10)\n",
    "print(Person.isAdult(p1.age))\n",
    "print(Person.isAdult(p2.age))"
   ]
  },
  {
   "cell_type": "markdown",
   "metadata": {},
   "source": [
    "### Types of constructors:-\n",
    "\n",
    "* `default constructor`: The default constructor is a simple constructor which doesn’t accept any arguments. Its definition has only one argument which is a reference to the instance being constructed.\n",
    "\n",
    "* `parameterized constructor`: constructor with parameters is known as parameterized constructor. The parameterized constructor takes its first argument as a reference to the instance being constructed known as self and the rest of the arguments are provided by the programmer."
   ]
  },
  {
   "cell_type": "markdown",
   "metadata": {},
   "source": [
    "### Destructors in Python\n",
    "* In Python, destructors are not needed as much as in C++ because Python has a garbage collector that handles memory management automatically. \n",
    "* The `__del__()` method is a known as a destructor method in Python. It is called when all references to the object have been deleted"
   ]
  },
  {
   "cell_type": "markdown",
   "metadata": {
    "id": "tYMQFPjw_s6m"
   },
   "source": [
    "## Exception Handling"
   ]
  },
  {
   "cell_type": "code",
   "execution_count": null,
   "metadata": {
    "id": "0ZlU_oNr_s6m",
    "outputId": "faadb79a-d37f-4b56-f292-692a9ec97fbc"
   },
   "outputs": [
    {
     "ename": "FileNotFoundError",
     "evalue": "[Errno 2] No such file or directory: 'trgyyec.txt'",
     "output_type": "error",
     "traceback": [
      "\u001b[0;31m---------------------------------------------------------------------------\u001b[0m",
      "\u001b[0;31mFileNotFoundError\u001b[0m                         Traceback (most recent call last)",
      "\u001b[0;32m<ipython-input-53-6aa541290605>\u001b[0m in \u001b[0;36m<module>\u001b[0;34m\u001b[0m\n\u001b[0;32m----> 1\u001b[0;31m \u001b[0mf\u001b[0m\u001b[0;34m=\u001b[0m\u001b[0mopen\u001b[0m\u001b[0;34m(\u001b[0m\u001b[0;34m'trgyyec.txt'\u001b[0m\u001b[0;34m)\u001b[0m\u001b[0;34m\u001b[0m\u001b[0;34m\u001b[0m\u001b[0m\n\u001b[0m",
      "\u001b[0;31mFileNotFoundError\u001b[0m: [Errno 2] No such file or directory: 'trgyyec.txt'"
     ]
    }
   ],
   "source": [
    "f=open('trgyyec.txt')"
   ]
  },
  {
   "cell_type": "markdown",
   "metadata": {
    "id": "Z9GG43xm_s6m"
   },
   "source": [
    "* **we need to handle it** "
   ]
  },
  {
   "cell_type": "code",
   "execution_count": null,
   "metadata": {
    "id": "ZTx60pIt_s6m",
    "outputId": "6b60e6d1-fd19-4fec-c779-ae16736cb5e5"
   },
   "outputs": [
    {
     "name": "stdout",
     "output_type": "stream",
     "text": [
      "this is good initiative\n",
      "content written successfully\n"
     ]
    }
   ],
   "source": [
    "try:\n",
    "  f=open('test.txt')\n",
    "  print(f.read())\n",
    "\n",
    "except IOError:\n",
    "  print('file not found')\n",
    "\n",
    "else:\n",
    "  print('content written successfully')\n",
    "  f.close()"
   ]
  },
  {
   "cell_type": "code",
   "execution_count": null,
   "metadata": {
    "id": "abN4DlWY_s6m",
    "outputId": "7ec9a52d-a82d-4e43-f80b-cf4130896047"
   },
   "outputs": [
    {
     "name": "stdout",
     "output_type": "stream",
     "text": [
      "11\n",
      "content written successfully\n"
     ]
    }
   ],
   "source": [
    "try:\n",
    "  f=open('test.txt','w') #permission with write\n",
    "  print(f.write(\"not go fast\"))\n",
    "\n",
    "except IOError:\n",
    "  print('file not found')\n",
    "\n",
    "else:\n",
    "  print('content written successfully')\n",
    "  f.close()"
   ]
  },
  {
   "cell_type": "markdown",
   "metadata": {
    "id": "DuMBqyHS_s6n"
   },
   "source": [
    "* **else only executed when try successfully executed just like for-else statement**"
   ]
  },
  {
   "cell_type": "markdown",
   "metadata": {
    "id": "wiFmum5f_s6n"
   },
   "source": [
    "* **Use of except: also work when we dont know about exception**"
   ]
  },
  {
   "cell_type": "code",
   "execution_count": 7,
   "metadata": {
    "collapsed": true,
    "id": "dJxtx9Zb_s6n"
   },
   "outputs": [],
   "source": [
    "def test():\n",
    "  try:\n",
    "    val=int(input(\"enter integer\"))\n",
    "  except:\n",
    "    print(\"looks like you didn't input integer\")\n",
    "  else:\n",
    "    print(\"successfully executed\")\n",
    "  finally:\n",
    "    print('i am finally, closed all the resources')\n",
    "  try:\n",
    "    print(\"value:\",val)\n",
    "  except:\n",
    "    print('not consist value')"
   ]
  },
  {
   "cell_type": "markdown",
   "metadata": {
    "id": "C7KCssc5_s6n"
   },
   "source": [
    "* **Compare both the below output**"
   ]
  },
  {
   "cell_type": "code",
   "execution_count": 8,
   "metadata": {
    "id": "h26MuwFT_s6n",
    "outputId": "ee3e805c-c863-41df-8383-15ea14415fe7"
   },
   "outputs": [
    {
     "name": "stdout",
     "output_type": "stream",
     "text": [
      "enter integereg\n",
      "looks like you didn't input integer\n",
      "i am finally, closed all the resources\n",
      "not consist value\n"
     ]
    }
   ],
   "source": [
    "test()"
   ]
  },
  {
   "cell_type": "code",
   "execution_count": 9,
   "metadata": {
    "id": "1UbJsIvQ_s6n",
    "outputId": "c746b586-4702-45f9-c854-2212208ae196"
   },
   "outputs": [
    {
     "name": "stdout",
     "output_type": "stream",
     "text": [
      "enter integer76\n",
      "successfully executed\n",
      "i am finally, closed all the resources\n",
      "value: 76\n"
     ]
    }
   ],
   "source": [
    "test()"
   ]
  },
  {
   "cell_type": "code",
   "execution_count": 10,
   "metadata": {
    "collapsed": true,
    "id": "8cZB6YC5_s6n"
   },
   "outputs": [],
   "source": [
    "#best example\n",
    "def test1():\n",
    "  while True:\n",
    "      try:\n",
    "        val=int(input(\"enter integer: \"))\n",
    "      except:\n",
    "        print(\"looks like you didn't input integer, please enter correct input again\")\n",
    "        continue\n",
    "      else:\n",
    "        print('yep,  we got an integer')\n",
    "        break\n",
    "      finally:\n",
    "        print('i am finally, and closed all resources')\n"
   ]
  },
  {
   "cell_type": "code",
   "execution_count": 11,
   "metadata": {
    "id": "LcLrubS8_s6n",
    "outputId": "d6f58a7b-ffb7-428a-98e0-0ca3776e2fec"
   },
   "outputs": [
    {
     "name": "stdout",
     "output_type": "stream",
     "text": [
      "enter integer: efefr\n",
      "looks like you didn't input integer, please enter correct input again\n",
      "i am finally, and closed all resources\n",
      "enter integer: 89\n",
      "yep,  we got an integer\n",
      "i am finally, and closed all resources\n"
     ]
    }
   ],
   "source": [
    "test1()"
   ]
  },
  {
   "cell_type": "code",
   "execution_count": null,
   "metadata": {
    "collapsed": true,
    "id": "dzDk7Vf9_s6n"
   },
   "outputs": [],
   "source": [
    "#another best example like tossing game chances\n",
    "def test2():\n",
    "  count=5\n",
    "  while count >= 1:\n",
    "      try:\n",
    "        val=int(input(\"enter integer: \"))\n",
    "      except:\n",
    "         count -= 1\n",
    "         print(\"looks like you didn't input integer, please enter correct input again, you have left with \",count,\"chances now\")\n",
    "         continue\n",
    "      else:\n",
    "        print('yep,  we got an integer')\n",
    "        break\n",
    "      finally:\n",
    "        print('i am finally, and closed all resources')\n",
    "  if(count==0):\n",
    "    print('all chances gone, please try aftersome time')"
   ]
  },
  {
   "cell_type": "code",
   "execution_count": null,
   "metadata": {
    "id": "y8FqOU1b_s6o",
    "outputId": "4a0bda51-a39e-41a9-a0ad-7363c2873db8"
   },
   "outputs": [
    {
     "name": "stdout",
     "output_type": "stream",
     "text": [
      "enter integer: budhie\n",
      "looks like you didn't input integer, please enter correct input again, you have left with  4 chances now\n",
      "i am finally, and closed all resources\n",
      "enter integer: dbi3jee\n",
      "looks like you didn't input integer, please enter correct input again, you have left with  3 chances now\n",
      "i am finally, and closed all resources\n",
      "enter integer: 21\n",
      "yep,  we got an integer\n",
      "i am finally, and closed all resources\n"
     ]
    }
   ],
   "source": [
    "test2()"
   ]
  },
  {
   "cell_type": "markdown",
   "metadata": {
    "id": "ok3W5Ytn_s6o"
   },
   "source": [
    "* **Use except only when doesn't know about specific error, then use only at the end of all except blocks**"
   ]
  },
  {
   "cell_type": "code",
   "execution_count": null,
   "metadata": {
    "id": "PzV6VaB9_s6o",
    "outputId": "4a64342c-89e4-48e9-d7f0-39722e4cb8a0"
   },
   "outputs": [
    {
     "name": "stdout",
     "output_type": "stream",
     "text": [
      "enter integervygw\n",
      "Value Error\n",
      "i am finally, closed all the resources\n",
      "not consist value\n"
     ]
    }
   ],
   "source": [
    "#multiple except through one try\n",
    "def Example():\n",
    "  try:\n",
    "    val=int(input(\"enter integer\"))\n",
    "  except ValueError:\n",
    "    print('Value Error')\n",
    "  except:\n",
    "    print(\"looks like you didn't input integer\")\n",
    "  else:\n",
    "    print(\"successfully executed\")\n",
    "  finally:\n",
    "    print('i am finally, closed all the resources')\n",
    "  try:\n",
    "    print(\"value:\",val)\n",
    "  except:\n",
    "    print('not consist value')\n",
    "\n",
    "    \n",
    "Example()\n"
   ]
  },
  {
   "cell_type": "code",
   "execution_count": null,
   "metadata": {
    "collapsed": true,
    "id": "ram6SztK_s6o"
   },
   "outputs": [],
   "source": [
    "def askint():\n",
    "        try:\n",
    "            val = int(input(\"Please enter an integer: \"))\n",
    "        except:\n",
    "            print(\"Looks like you did not enter an integer!\")\n",
    "            try:\n",
    "                val = int(input(\"Try again-Please enter an integer: \"))\n",
    "                print(\"your entered value: \",val)\n",
    "            except:\n",
    "                print(\"handle it: \")\n",
    "        finally:\n",
    "            print(\"Finally, I executed!\")"
   ]
  },
  {
   "cell_type": "code",
   "execution_count": null,
   "metadata": {
    "id": "PDilamaV_s6o",
    "outputId": "80bf69da-b8c5-4618-8d64-9af6ad580189"
   },
   "outputs": [
    {
     "name": "stdout",
     "output_type": "stream",
     "text": [
      "Please enter an integer: huirurhr\n",
      "Looks like you did not enter an integer!\n",
      "Try again-Please enter an integer: 45\n",
      "your entered value:  45\n",
      "Finally, I executed!\n"
     ]
    }
   ],
   "source": [
    "askint()"
   ]
  },
  {
   "cell_type": "markdown",
   "metadata": {
    "id": "T0vNnlTX_s6p"
   },
   "source": [
    "## raise exception"
   ]
  },
  {
   "cell_type": "code",
   "execution_count": 17,
   "metadata": {
    "id": "JlZ92dwb_s6p",
    "outputId": "095d00ba-0db9-43fa-fb90-cd28af411187"
   },
   "outputs": [
    {
     "name": "stdout",
     "output_type": "stream",
     "text": [
      "Enter a positive integer:-93\n",
      "Error Oops!: Entered negative number\n"
     ]
    }
   ],
   "source": [
    "try:\n",
    "    num = int(input(\"Enter a positive integer:\"))\n",
    "    if num <= 0:\n",
    "        raise ValueError(\"Error Oops!: Entered negative number\")\n",
    "except ValueError as e:\n",
    "    print(e)\n",
    "else:\n",
    "    print('No issue')"
   ]
  },
  {
   "cell_type": "markdown",
   "metadata": {},
   "source": [
    "#### Creating custom exceptions\n",
    "* always inheritn Exception class for the custom class creation "
   ]
  },
  {
   "cell_type": "code",
   "execution_count": 18,
   "metadata": {},
   "outputs": [
    {
     "name": "stdout",
     "output_type": "stream",
     "text": [
      "Enter a number: 45\n",
      "This value is too large, try again!\n",
      "\n",
      "Enter a number: 80\n",
      "This value is too large, try again!\n",
      "\n",
      "Enter a number: 1\n",
      "This value is too small, try again!\n",
      "\n",
      "Enter a number: 10\n",
      "Congratulations! You guessed it correctly.\n"
     ]
    }
   ],
   "source": [
    "#example guess numbner \n",
    "\n",
    "class ValueTooSmallError(Exception):\n",
    "    pass\n",
    "\n",
    "class ValueTooLargeError(Exception):\n",
    "    pass\n",
    "    \n",
    "    \n",
    "number = 10\n",
    "\n",
    "# user guesses a number until he/she gets it right, can also include the counter limit here\n",
    "while True:\n",
    "    try:\n",
    "        i_num = int(input(\"Enter a number: \"))\n",
    "        if i_num < number:\n",
    "            raise ValueTooSmallError\n",
    "        elif i_num > number:\n",
    "            raise ValueTooLargeError\n",
    "        break\n",
    "        \n",
    "    except ValueTooSmallError:\n",
    "        print(\"This value is too small, try again!\")\n",
    "        print()\n",
    "        \n",
    "    except ValueTooLargeError:\n",
    "        print(\"This value is too large, try again!\")\n",
    "        print()\n",
    "\n",
    "print(\"Congratulations! You guessed it correctly.\")"
   ]
  },
  {
   "cell_type": "markdown",
   "metadata": {},
   "source": [
    "### Few Important conecpts:\n",
    "\n",
    "* Can one block of except statements handle multiple exception?\n",
    "    * yes, like except TypeError, SyntaxError\n",
    "* An exception is an object that is raised by a function signaling that an unexpected situation has occurred, that the function itself cannot handle."
   ]
  },
  {
   "cell_type": "code",
   "execution_count": 37,
   "metadata": {},
   "outputs": [
    {
     "name": "stdout",
     "output_type": "stream",
     "text": [
      "2\n"
     ]
    }
   ],
   "source": [
    "#example\n",
    "\n",
    "def Test():\n",
    "    \n",
    "    try:\n",
    "        return 1\n",
    "    \n",
    "    #finally always executed\n",
    "    finally:\n",
    "        \n",
    "        return 2\n",
    "    \n",
    "    \n",
    "k = Test()\n",
    "print(k)"
   ]
  },
  {
   "cell_type": "code",
   "execution_count": 42,
   "metadata": {},
   "outputs": [
    {
     "ename": "TypeError",
     "evalue": "catching classes that do not inherit from BaseException is not allowed",
     "output_type": "error",
     "traceback": [
      "\u001b[0;31m---------------------------------------------------------------------------\u001b[0m",
      "\u001b[0;31mTypeError\u001b[0m                                 Traceback (most recent call last)",
      "\u001b[0;32m<ipython-input-42-4471ba1c6d25>\u001b[0m in \u001b[0;36m<module>\u001b[0;34m\u001b[0m\n\u001b[1;32m      4\u001b[0m     \u001b[0;32mif\u001b[0m \u001b[0;34m'1'\u001b[0m \u001b[0;34m!=\u001b[0m \u001b[0;36m1\u001b[0m\u001b[0;34m:\u001b[0m\u001b[0;34m\u001b[0m\u001b[0;34m\u001b[0m\u001b[0m\n\u001b[0;32m----> 5\u001b[0;31m         \u001b[0;32mraise\u001b[0m \u001b[0;34m\"SomeException\"\u001b[0m\u001b[0;34m\u001b[0m\u001b[0;34m\u001b[0m\u001b[0m\n\u001b[0m\u001b[1;32m      6\u001b[0m     \u001b[0;32melse\u001b[0m\u001b[0;34m:\u001b[0m\u001b[0;34m\u001b[0m\u001b[0;34m\u001b[0m\u001b[0m\n",
      "\u001b[0;31mTypeError\u001b[0m: exceptions must derive from BaseException",
      "\nDuring handling of the above exception, another exception occurred:\n",
      "\u001b[0;31mTypeError\u001b[0m                                 Traceback (most recent call last)",
      "\u001b[0;32m<ipython-input-42-4471ba1c6d25>\u001b[0m in \u001b[0;36m<module>\u001b[0;34m\u001b[0m\n\u001b[1;32m      7\u001b[0m         \u001b[0mprint\u001b[0m\u001b[0;34m(\u001b[0m\u001b[0;34m\"ValueError has not occurred\"\u001b[0m\u001b[0;34m)\u001b[0m\u001b[0;34m\u001b[0m\u001b[0;34m\u001b[0m\u001b[0m\n\u001b[1;32m      8\u001b[0m \u001b[0;34m\u001b[0m\u001b[0m\n\u001b[0;32m----> 9\u001b[0;31m \u001b[0;32mexcept\u001b[0m \u001b[0;34m\"SomeException\"\u001b[0m\u001b[0;34m:\u001b[0m\u001b[0;34m\u001b[0m\u001b[0;34m\u001b[0m\u001b[0m\n\u001b[0m\u001b[1;32m     10\u001b[0m     \u001b[0mprint\u001b[0m \u001b[0;34m(\u001b[0m\u001b[0;34m\"ValueError has occurred\"\u001b[0m\u001b[0;34m)\u001b[0m\u001b[0;34m\u001b[0m\u001b[0;34m\u001b[0m\u001b[0m\n",
      "\u001b[0;31mTypeError\u001b[0m: catching classes that do not inherit from BaseException is not allowed"
     ]
    }
   ],
   "source": [
    "#invalid code\n",
    "try:\n",
    "    if '1' != 1:\n",
    "        raise \"SomeException\"\n",
    "    else:\n",
    "        print(\"ValueError has not occurred\")\n",
    "        \n",
    "except \"SomeException\":\n",
    "    print (\"ValueError has occurred\")"
   ]
  },
  {
   "cell_type": "code",
   "execution_count": 44,
   "metadata": {},
   "outputs": [
    {
     "name": "stdout",
     "output_type": "stream",
     "text": [
      "9\n"
     ]
    },
    {
     "ename": "StopIteration",
     "evalue": "",
     "output_type": "error",
     "traceback": [
      "\u001b[0;31m---------------------------------------------------------------------------\u001b[0m",
      "\u001b[0;31mStopIteration\u001b[0m                             Traceback (most recent call last)",
      "\u001b[0;32m<ipython-input-44-fcdc0b420bca>\u001b[0m in \u001b[0;36m<module>\u001b[0;34m\u001b[0m\n\u001b[1;32m      3\u001b[0m \u001b[0mg\u001b[0m\u001b[0;34m=\u001b[0m\u001b[0mf\u001b[0m\u001b[0;34m(\u001b[0m\u001b[0;36m8\u001b[0m\u001b[0;34m)\u001b[0m\u001b[0;34m\u001b[0m\u001b[0;34m\u001b[0m\u001b[0m\n\u001b[1;32m      4\u001b[0m \u001b[0mprint\u001b[0m\u001b[0;34m(\u001b[0m\u001b[0mnext\u001b[0m\u001b[0;34m(\u001b[0m\u001b[0mg\u001b[0m\u001b[0;34m)\u001b[0m\u001b[0;34m)\u001b[0m\u001b[0;34m\u001b[0m\u001b[0;34m\u001b[0m\u001b[0m\n\u001b[0;32m----> 5\u001b[0;31m \u001b[0mprint\u001b[0m\u001b[0;34m(\u001b[0m\u001b[0mnext\u001b[0m\u001b[0;34m(\u001b[0m\u001b[0mg\u001b[0m\u001b[0;34m)\u001b[0m\u001b[0;34m)\u001b[0m\u001b[0;34m\u001b[0m\u001b[0;34m\u001b[0m\u001b[0m\n\u001b[0m",
      "\u001b[0;31mStopIteration\u001b[0m: "
     ]
    }
   ],
   "source": [
    "def f(x):\n",
    "    yield x+1\n",
    "g=f(8)\n",
    "print(next(g))\n",
    "print(next(g))"
   ]
  },
  {
   "cell_type": "markdown",
   "metadata": {},
   "source": [
    "* various Famouus Exceptions in python\n",
    "    - ImportError\n",
    "    - NameError\n",
    "    - ValueError\n",
    "    - TypeError\n",
    "    - IndexError\n",
    "    - IndexError"
   ]
  },
  {
   "cell_type": "code",
   "execution_count": 47,
   "metadata": {},
   "outputs": [
    {
     "ename": "ModuleNotFoundError",
     "evalue": "No module named 'skleran'",
     "output_type": "error",
     "traceback": [
      "\u001b[0;31m---------------------------------------------------------------------------\u001b[0m",
      "\u001b[0;31mModuleNotFoundError\u001b[0m                       Traceback (most recent call last)",
      "\u001b[0;32m<ipython-input-47-b961a8e29d5e>\u001b[0m in \u001b[0;36m<module>\u001b[0;34m\u001b[0m\n\u001b[1;32m      1\u001b[0m \u001b[0;31m#import error\u001b[0m\u001b[0;34m\u001b[0m\u001b[0;34m\u001b[0m\u001b[0;34m\u001b[0m\u001b[0m\n\u001b[0;32m----> 2\u001b[0;31m \u001b[0;32mfrom\u001b[0m \u001b[0mskleran\u001b[0m \u001b[0;32mimport\u001b[0m \u001b[0mghetd\u001b[0m\u001b[0;34m\u001b[0m\u001b[0;34m\u001b[0m\u001b[0m\n\u001b[0m",
      "\u001b[0;31mModuleNotFoundError\u001b[0m: No module named 'skleran'"
     ]
    }
   ],
   "source": [
    "#import error\n",
    "from skleran import ghetd"
   ]
  },
  {
   "cell_type": "code",
   "execution_count": 48,
   "metadata": {},
   "outputs": [
    {
     "ename": "NameError",
     "evalue": "name 'd' is not defined",
     "output_type": "error",
     "traceback": [
      "\u001b[0;31m---------------------------------------------------------------------------\u001b[0m",
      "\u001b[0;31mNameError\u001b[0m                                 Traceback (most recent call last)",
      "\u001b[0;32m<ipython-input-48-11226fc8fe83>\u001b[0m in \u001b[0;36m<module>\u001b[0;34m\u001b[0m\n\u001b[1;32m      1\u001b[0m \u001b[0;31m#name error\u001b[0m\u001b[0;34m\u001b[0m\u001b[0;34m\u001b[0m\u001b[0;34m\u001b[0m\u001b[0m\n\u001b[0;32m----> 2\u001b[0;31m \u001b[0mprint\u001b[0m\u001b[0;34m(\u001b[0m\u001b[0md\u001b[0m\u001b[0;34m)\u001b[0m\u001b[0;34m\u001b[0m\u001b[0;34m\u001b[0m\u001b[0m\n\u001b[0m",
      "\u001b[0;31mNameError\u001b[0m: name 'd' is not defined"
     ]
    }
   ],
   "source": [
    "#name error\n",
    "print(d)"
   ]
  },
  {
   "cell_type": "code",
   "execution_count": 49,
   "metadata": {},
   "outputs": [
    {
     "ename": "ValueError",
     "evalue": "invalid literal for int() with base 10: '43.5'",
     "output_type": "error",
     "traceback": [
      "\u001b[0;31m---------------------------------------------------------------------------\u001b[0m",
      "\u001b[0;31mValueError\u001b[0m                                Traceback (most recent call last)",
      "\u001b[0;32m<ipython-input-49-5042f9051d45>\u001b[0m in \u001b[0;36m<module>\u001b[0;34m\u001b[0m\n\u001b[0;32m----> 1\u001b[0;31m \u001b[0mint\u001b[0m\u001b[0;34m(\u001b[0m\u001b[0;34m'43.5'\u001b[0m\u001b[0;34m)\u001b[0m\u001b[0;34m\u001b[0m\u001b[0;34m\u001b[0m\u001b[0m\n\u001b[0m",
      "\u001b[0;31mValueError\u001b[0m: invalid literal for int() with base 10: '43.5'"
     ]
    }
   ],
   "source": [
    "#value Error\n",
    "int('43.5')"
   ]
  },
  {
   "cell_type": "code",
   "execution_count": 50,
   "metadata": {},
   "outputs": [
    {
     "ename": "TypeError",
     "evalue": "unsupported operand type(s) for +: 'int' and 'str'",
     "output_type": "error",
     "traceback": [
      "\u001b[0;31m---------------------------------------------------------------------------\u001b[0m",
      "\u001b[0;31mTypeError\u001b[0m                                 Traceback (most recent call last)",
      "\u001b[0;32m<ipython-input-50-d339ebbfa52e>\u001b[0m in \u001b[0;36m<module>\u001b[0;34m\u001b[0m\n\u001b[1;32m      1\u001b[0m \u001b[0;31m#TypeError\u001b[0m\u001b[0;34m\u001b[0m\u001b[0;34m\u001b[0m\u001b[0;34m\u001b[0m\u001b[0m\n\u001b[0;32m----> 2\u001b[0;31m \u001b[0;36m4\u001b[0m \u001b[0;34m+\u001b[0m \u001b[0;34m'k'\u001b[0m\u001b[0;34m\u001b[0m\u001b[0;34m\u001b[0m\u001b[0m\n\u001b[0m",
      "\u001b[0;31mTypeError\u001b[0m: unsupported operand type(s) for +: 'int' and 'str'"
     ]
    }
   ],
   "source": [
    "#TypeError\n",
    "4 + 'k'"
   ]
  },
  {
   "cell_type": "code",
   "execution_count": 55,
   "metadata": {},
   "outputs": [
    {
     "ename": "IndexError",
     "evalue": "list index out of range",
     "output_type": "error",
     "traceback": [
      "\u001b[0;31m---------------------------------------------------------------------------\u001b[0m",
      "\u001b[0;31mIndexError\u001b[0m                                Traceback (most recent call last)",
      "\u001b[0;32m<ipython-input-55-bf00e2fd8433>\u001b[0m in \u001b[0;36m<module>\u001b[0;34m\u001b[0m\n\u001b[1;32m      1\u001b[0m \u001b[0;31m#index Error or list out of bound\u001b[0m\u001b[0;34m\u001b[0m\u001b[0;34m\u001b[0m\u001b[0;34m\u001b[0m\u001b[0m\n\u001b[1;32m      2\u001b[0m \u001b[0marr\u001b[0m \u001b[0;34m=\u001b[0m \u001b[0mlist\u001b[0m\u001b[0;34m(\u001b[0m\u001b[0mrange\u001b[0m\u001b[0;34m(\u001b[0m\u001b[0;36m6\u001b[0m\u001b[0;34m)\u001b[0m\u001b[0;34m)\u001b[0m\u001b[0;34m\u001b[0m\u001b[0;34m\u001b[0m\u001b[0m\n\u001b[0;32m----> 3\u001b[0;31m \u001b[0marr\u001b[0m\u001b[0;34m[\u001b[0m\u001b[0;36m8\u001b[0m\u001b[0;34m]\u001b[0m\u001b[0;34m\u001b[0m\u001b[0;34m\u001b[0m\u001b[0m\n\u001b[0m",
      "\u001b[0;31mIndexError\u001b[0m: list index out of range"
     ]
    }
   ],
   "source": [
    "#index Error or list out of bound\n",
    "arr = list(range(6))\n",
    "arr[8]"
   ]
  },
  {
   "cell_type": "markdown",
   "metadata": {},
   "source": [
    "### Few important concepts "
   ]
  },
  {
   "cell_type": "code",
   "execution_count": 1,
   "metadata": {},
   "outputs": [
    {
     "ename": "AttributeError",
     "evalue": "'B' object has no attribute '_B__x'",
     "output_type": "error",
     "traceback": [
      "\u001b[0;31m---------------------------------------------------------------------------\u001b[0m",
      "\u001b[0;31mAttributeError\u001b[0m                            Traceback (most recent call last)",
      "\u001b[0;32m<ipython-input-1-546110057b4c>\u001b[0m in \u001b[0;36m<module>\u001b[0;34m\u001b[0m\n\u001b[1;32m     11\u001b[0m     \u001b[0mobj\u001b[0m\u001b[0;34m.\u001b[0m\u001b[0mdisplay\u001b[0m\u001b[0;34m(\u001b[0m\u001b[0;34m)\u001b[0m\u001b[0;34m\u001b[0m\u001b[0;34m\u001b[0m\u001b[0m\n\u001b[1;32m     12\u001b[0m \u001b[0;34m\u001b[0m\u001b[0m\n\u001b[0;32m---> 13\u001b[0;31m \u001b[0mmain\u001b[0m\u001b[0;34m(\u001b[0m\u001b[0;34m)\u001b[0m\u001b[0;34m\u001b[0m\u001b[0;34m\u001b[0m\u001b[0m\n\u001b[0m",
      "\u001b[0;32m<ipython-input-1-546110057b4c>\u001b[0m in \u001b[0;36mmain\u001b[0;34m()\u001b[0m\n\u001b[1;32m      9\u001b[0m \u001b[0;32mdef\u001b[0m \u001b[0mmain\u001b[0m\u001b[0;34m(\u001b[0m\u001b[0;34m)\u001b[0m\u001b[0;34m:\u001b[0m\u001b[0;34m\u001b[0m\u001b[0;34m\u001b[0m\u001b[0m\n\u001b[1;32m     10\u001b[0m     \u001b[0mobj\u001b[0m \u001b[0;34m=\u001b[0m \u001b[0mB\u001b[0m\u001b[0;34m(\u001b[0m\u001b[0;34m)\u001b[0m\u001b[0;34m\u001b[0m\u001b[0;34m\u001b[0m\u001b[0m\n\u001b[0;32m---> 11\u001b[0;31m     \u001b[0mobj\u001b[0m\u001b[0;34m.\u001b[0m\u001b[0mdisplay\u001b[0m\u001b[0;34m(\u001b[0m\u001b[0;34m)\u001b[0m\u001b[0;34m\u001b[0m\u001b[0;34m\u001b[0m\u001b[0m\n\u001b[0m\u001b[1;32m     12\u001b[0m \u001b[0;34m\u001b[0m\u001b[0m\n\u001b[1;32m     13\u001b[0m \u001b[0mmain\u001b[0m\u001b[0;34m(\u001b[0m\u001b[0;34m)\u001b[0m\u001b[0;34m\u001b[0m\u001b[0;34m\u001b[0m\u001b[0m\n",
      "\u001b[0;32m<ipython-input-1-546110057b4c>\u001b[0m in \u001b[0;36mdisplay\u001b[0;34m(self)\u001b[0m\n\u001b[1;32m      5\u001b[0m \u001b[0;32mclass\u001b[0m \u001b[0mB\u001b[0m\u001b[0;34m(\u001b[0m\u001b[0mA\u001b[0m\u001b[0;34m)\u001b[0m\u001b[0;34m:\u001b[0m\u001b[0;34m\u001b[0m\u001b[0;34m\u001b[0m\u001b[0m\n\u001b[1;32m      6\u001b[0m     \u001b[0;32mdef\u001b[0m \u001b[0mdisplay\u001b[0m\u001b[0;34m(\u001b[0m\u001b[0mself\u001b[0m\u001b[0;34m)\u001b[0m\u001b[0;34m:\u001b[0m\u001b[0;34m\u001b[0m\u001b[0;34m\u001b[0m\u001b[0m\n\u001b[0;32m----> 7\u001b[0;31m         \u001b[0mprint\u001b[0m\u001b[0;34m(\u001b[0m\u001b[0mself\u001b[0m\u001b[0;34m.\u001b[0m\u001b[0m__x\u001b[0m\u001b[0;34m)\u001b[0m \u001b[0;31m#can't access the private member of class outside\u001b[0m\u001b[0;34m\u001b[0m\u001b[0;34m\u001b[0m\u001b[0m\n\u001b[0m\u001b[1;32m      8\u001b[0m \u001b[0;34m\u001b[0m\u001b[0m\n\u001b[1;32m      9\u001b[0m \u001b[0;32mdef\u001b[0m \u001b[0mmain\u001b[0m\u001b[0;34m(\u001b[0m\u001b[0;34m)\u001b[0m\u001b[0;34m:\u001b[0m\u001b[0;34m\u001b[0m\u001b[0;34m\u001b[0m\u001b[0m\n",
      "\u001b[0;31mAttributeError\u001b[0m: 'B' object has no attribute '_B__x'"
     ]
    }
   ],
   "source": [
    "class A:\n",
    "    def __init__(self):\n",
    "        self.__x = 1 # private member of class 'A'\n",
    "        \n",
    "class B(A):\n",
    "    def display(self):\n",
    "        print(self.__x) #can't access the private member of class outside \n",
    "        \n",
    "def main():\n",
    "    obj = B()\n",
    "    obj.display()\n",
    "    \n",
    "main()"
   ]
  },
  {
   "cell_type": "code",
   "execution_count": 2,
   "metadata": {},
   "outputs": [
    {
     "name": "stdout",
     "output_type": "stream",
     "text": [
      "5\n"
     ]
    }
   ],
   "source": [
    "class A:\n",
    "    def __init__(self, x = 3):\n",
    "        self._x = x #protected member can be access outside\n",
    "        \n",
    "class B(A):\n",
    "    def __init__(self):\n",
    "        super().__init__(5) #initializing the protected member using constructor\n",
    "        \n",
    "        \n",
    "    def display(self):\n",
    "        print(self._x) #protected don't throw an error/exception \n",
    "        \n",
    "        \n",
    "def main():\n",
    "    obj = B()\n",
    "    obj.display()\n",
    " \n",
    "main()"
   ]
  },
  {
   "cell_type": "code",
   "execution_count": 169,
   "metadata": {},
   "outputs": [
    {
     "name": "stdout",
     "output_type": "stream",
     "text": [
      "test of B called\n",
      "test of C called\n"
     ]
    }
   ],
   "source": [
    "class A:\n",
    "    def test(self):\n",
    "        print(\"test of A called\")\n",
    "    \n",
    "class B(A):\n",
    "    def test(self):\n",
    "        print(\"test of B called\")\n",
    "        super().test()\n",
    "\n",
    "class C(A):\n",
    "      def test(self):\n",
    "        print(\"test of C called\") \n",
    "        super().test()  \n",
    "\n",
    "class D(B, C):\n",
    "      def test2(self):\n",
    "        print(\"test of D called\")\n",
    "    \n",
    "obj = D()\n",
    "obj.test()"
   ]
  },
  {
   "cell_type": "markdown",
   "metadata": {},
   "source": [
    "* Since the invoking method, super().test() is called in the subclasses, all the three methods of test() in three different classes is called."
   ]
  },
  {
   "cell_type": "code",
   "execution_count": 8,
   "metadata": {},
   "outputs": [
    {
     "name": "stdout",
     "output_type": "stream",
     "text": [
      "A\n",
      "B\n",
      "True\n",
      "False\n",
      "True\n",
      "True\n"
     ]
    }
   ],
   "source": [
    "class A:\n",
    "    def one(self):\n",
    "        return self.two()\n",
    " \n",
    "    def two(self):\n",
    "        return 'A'\n",
    "    \n",
    "class B(A):\n",
    "    def two(self):\n",
    "        return 'B'\n",
    "    \n",
    "    \n",
    "obj1 = A() #obj1 is the refrence of A,\n",
    "obj2 = B() #obj2 is the refrence of B,\n",
    "\n",
    "print(obj1.two()) #this will invoke class A method,\n",
    "print(obj2.two()) #this will invoke class B method,\n",
    "\n",
    "print(isinstance(obj1, A)) ## -> gives true\n",
    "print(isinstance(obj1, B)) ## -> gives false\n",
    "print(isinstance(obj2, A)) ## -> gives true --> noted\n",
    "print(isinstance(obj2, B)) ## -> gives true"
   ]
  },
  {
   "cell_type": "code",
   "execution_count": 12,
   "metadata": {},
   "outputs": [
    {
     "name": "stdout",
     "output_type": "stream",
     "text": [
      "Help on B in module __main__ object:\n",
      "\n",
      "class B(A)\n",
      " |  Method resolution order:\n",
      " |      B\n",
      " |      A\n",
      " |      builtins.object\n",
      " |  \n",
      " |  Methods defined here:\n",
      " |  \n",
      " |  two(self)\n",
      " |  \n",
      " |  ----------------------------------------------------------------------\n",
      " |  Methods inherited from A:\n",
      " |  \n",
      " |  one(self)\n",
      " |  \n",
      " |  ----------------------------------------------------------------------\n",
      " |  Data descriptors inherited from A:\n",
      " |  \n",
      " |  __dict__\n",
      " |      dictionary for instance variables (if defined)\n",
      " |  \n",
      " |  __weakref__\n",
      " |      list of weak references to the object (if defined)\n",
      "\n",
      "None\n"
     ]
    }
   ],
   "source": [
    "print(help(obj2))"
   ]
  },
  {
   "cell_type": "code",
   "execution_count": 14,
   "metadata": {},
   "outputs": [
    {
     "name": "stdout",
     "output_type": "stream",
     "text": [
      "<class '__main__.A'>\n",
      "<class '__main__.B'>\n"
     ]
    }
   ],
   "source": [
    "print(type(obj1))\n",
    "print(type(obj2))"
   ]
  },
  {
   "cell_type": "code",
   "execution_count": 16,
   "metadata": {},
   "outputs": [
    {
     "ename": "AttributeError",
     "evalue": "'Derived_Test' object has no attribute 'x'",
     "output_type": "error",
     "traceback": [
      "\u001b[0;31m---------------------------------------------------------------------------\u001b[0m",
      "\u001b[0;31mAttributeError\u001b[0m                            Traceback (most recent call last)",
      "\u001b[0;32m<ipython-input-16-b28a4fae69b7>\u001b[0m in \u001b[0;36m<module>\u001b[0;34m\u001b[0m\n\u001b[1;32m     11\u001b[0m     \u001b[0mprint\u001b[0m\u001b[0;34m(\u001b[0m\u001b[0mb\u001b[0m\u001b[0;34m.\u001b[0m\u001b[0mx\u001b[0m\u001b[0;34m,\u001b[0m\u001b[0mb\u001b[0m\u001b[0;34m.\u001b[0m\u001b[0my\u001b[0m\u001b[0;34m)\u001b[0m\u001b[0;34m\u001b[0m\u001b[0;34m\u001b[0m\u001b[0m\n\u001b[1;32m     12\u001b[0m \u001b[0;34m\u001b[0m\u001b[0m\n\u001b[0;32m---> 13\u001b[0;31m \u001b[0mmain\u001b[0m\u001b[0;34m(\u001b[0m\u001b[0;34m)\u001b[0m\u001b[0;34m\u001b[0m\u001b[0;34m\u001b[0m\u001b[0m\n\u001b[0m",
      "\u001b[0;32m<ipython-input-16-b28a4fae69b7>\u001b[0m in \u001b[0;36mmain\u001b[0;34m()\u001b[0m\n\u001b[1;32m      9\u001b[0m \u001b[0;32mdef\u001b[0m \u001b[0mmain\u001b[0m\u001b[0;34m(\u001b[0m\u001b[0;34m)\u001b[0m\u001b[0;34m:\u001b[0m\u001b[0;34m\u001b[0m\u001b[0;34m\u001b[0m\u001b[0m\n\u001b[1;32m     10\u001b[0m     \u001b[0mb\u001b[0m \u001b[0;34m=\u001b[0m \u001b[0mDerived_Test\u001b[0m\u001b[0;34m(\u001b[0m\u001b[0;34m)\u001b[0m\u001b[0;34m\u001b[0m\u001b[0;34m\u001b[0m\u001b[0m\n\u001b[0;32m---> 11\u001b[0;31m     \u001b[0mprint\u001b[0m\u001b[0;34m(\u001b[0m\u001b[0mb\u001b[0m\u001b[0;34m.\u001b[0m\u001b[0mx\u001b[0m\u001b[0;34m,\u001b[0m\u001b[0mb\u001b[0m\u001b[0;34m.\u001b[0m\u001b[0my\u001b[0m\u001b[0;34m)\u001b[0m\u001b[0;34m\u001b[0m\u001b[0;34m\u001b[0m\u001b[0m\n\u001b[0m\u001b[1;32m     12\u001b[0m \u001b[0;34m\u001b[0m\u001b[0m\n\u001b[1;32m     13\u001b[0m \u001b[0mmain\u001b[0m\u001b[0;34m(\u001b[0m\u001b[0;34m)\u001b[0m\u001b[0;34m\u001b[0m\u001b[0;34m\u001b[0m\u001b[0m\n",
      "\u001b[0;31mAttributeError\u001b[0m: 'Derived_Test' object has no attribute 'x'"
     ]
    }
   ],
   "source": [
    "#Below code didn't work since we are not initializing member of Test using Derived class \n",
    "class Test:\n",
    "    def __init__(self):\n",
    "        self.x = 0\n",
    "        \n",
    "class Derived_Test(Test):\n",
    "    def __init__(self):\n",
    "        self.y = 1\n",
    "        \n",
    "def main():\n",
    "    b = Derived_Test()\n",
    "    print(b.x,b.y)\n",
    "    \n",
    "main()"
   ]
  },
  {
   "cell_type": "code",
   "execution_count": 24,
   "metadata": {},
   "outputs": [
    {
     "name": "stdout",
     "output_type": "stream",
     "text": [
      "0 1\n"
     ]
    }
   ],
   "source": [
    "#Below code is the way to inherit the member of super class  \n",
    "\n",
    "class Test:\n",
    "    def __init__(self):\n",
    "        self.x = 0\n",
    "        \n",
    "class Derived_Test(Test):\n",
    "    def __init__(self):\n",
    "        self.y = 1\n",
    "        super().__init__() #it didn't require 'self' paarameter using super()  \n",
    "        \n",
    "def main():\n",
    "    b = Derived_Test()\n",
    "    print(b.x,b.y)\n",
    "    \n",
    "main()"
   ]
  },
  {
   "cell_type": "code",
   "execution_count": 171,
   "metadata": {},
   "outputs": [
    {
     "name": "stdout",
     "output_type": "stream",
     "text": [
      "0\n"
     ]
    }
   ],
   "source": [
    "class Test:\n",
    "    def __init__(self):\n",
    "        self.x = 0\n",
    " \n",
    "#not having derived construcot then it will invoke the parent\n",
    "class Derived_Test(Test):\n",
    "    def display(self):\n",
    "        print(self.x)\n",
    "        \n",
    "def main():\n",
    "    b = Derived_Test()\n",
    "    b.display()\n",
    "    \n",
    "main()"
   ]
  },
  {
   "cell_type": "code",
   "execution_count": 25,
   "metadata": {},
   "outputs": [
    {
     "name": "stdout",
     "output_type": "stream",
     "text": [
      "0 1\n",
      "derived display method\n",
      "using class name self parameter is required \n",
      "I'm the function of parent class 'Test' \n",
      "using super method self parameter is not required\n",
      "I'm the function of parent class 'Test' \n"
     ]
    }
   ],
   "source": [
    "#or by using the class name\n",
    "class Test:\n",
    "    def __init__(self):\n",
    "        self.x = 0\n",
    "        \n",
    "    def fun(self):\n",
    "        print(\"I'm the function of parent class 'Test' \")\n",
    "        \n",
    "class Derived_Test(Test):\n",
    "    def __init__(self):\n",
    "        self.y = 1\n",
    "        Test.__init__(self) #it require 'self' paarameter using Parent class name \n",
    "        \n",
    "    def display(self):\n",
    "        print('derived display method')\n",
    "        print('using class name self parameter is required ')\n",
    "        Test.fun(self) #fun() missing 1 required positional argument: 'self' --> if self wont there\n",
    "        \n",
    "        print('using super method self parameter is not required')\n",
    "        super().fun() #not needed 'self'\n",
    "        \n",
    "        \n",
    "def main():\n",
    "    b = Derived_Test()\n",
    "    print(b.x,b.y)\n",
    "    b.display()\n",
    "    \n",
    "main()"
   ]
  },
  {
   "cell_type": "markdown",
   "metadata": {},
   "source": [
    "<h3><center> __new__ vs __init__ <center><h3>"
   ]
  },
  {
   "cell_type": "markdown",
   "metadata": {},
   "source": [
    "*  `__new__` method will be called when an object is created.\n",
    "* `__init__` method will be called to initialize the object. **`init --> initialize`**\n",
    "* If both `__init__` method and `__new__` method exists in the class, then the `__new__` method is executed first,  and decides whether to use `__init__` method or not, \n",
    "* `other class constructors can be called by __new__ method` or it can simply return other objects as an instance of this class.\n",
    "* `__new__` method can return (for e.g. instance of another class) but `__init__` can't return anything"
   ]
  },
  {
   "cell_type": "code",
   "execution_count": 28,
   "metadata": {},
   "outputs": [
    {
     "name": "stdout",
     "output_type": "stream",
     "text": [
      "new invoked when objects are created\n",
      "new can return\n"
     ]
    }
   ],
   "source": [
    "#example1\n",
    "#init is not invoked here\n",
    "\n",
    "class A:\n",
    "    def __init__(self):\n",
    "        print('init initalize the object')\n",
    "    \n",
    "    def __new__(self):\n",
    "         print('new invoked when objects are created')\n",
    "         return 'new can return'\n",
    "\n",
    "print(A())"
   ]
  },
  {
   "cell_type": "code",
   "execution_count": 32,
   "metadata": {},
   "outputs": [
    {
     "name": "stdout",
     "output_type": "stream",
     "text": [
      "init initalize the object\n",
      "new invoked when objects are created\n",
      "new can return\n"
     ]
    }
   ],
   "source": [
    "#example2\n",
    "#init invoked by new \n",
    "\n",
    "class A:\n",
    "    def __init__(self):\n",
    "        \n",
    "        print('init initalize the object')\n",
    "    \n",
    "    def __new__(self):\n",
    "        \n",
    "         self.__init__(self)\n",
    "            \n",
    "         print('new invoked when objects are created')\n",
    "         \n",
    "         return 'new can return'\n",
    "\n",
    "print(A())"
   ]
  },
  {
   "cell_type": "code",
   "execution_count": 36,
   "metadata": {},
   "outputs": [
    {
     "name": "stdout",
     "output_type": "stream",
     "text": [
      "1\n",
      "<__main__.Test object at 0x7fcd5321d3a0>\n",
      "John\n",
      "1\n"
     ]
    }
   ],
   "source": [
    "#create instance attribute outside class\n",
    "class Test:\n",
    "    \n",
    "    def __init__(self, count = 1):\n",
    "        self.count = count\n",
    "        \n",
    "    def display(self):\n",
    "        print(self.count)\n",
    "    \n",
    "a = Test()\n",
    "a.display()\n",
    "\n",
    "#creating member outside will also work\n",
    "a.name = 'John'\n",
    "\n",
    "print(a)\n",
    "print(a.name)\n",
    "print(a.count)"
   ]
  },
  {
   "cell_type": "markdown",
   "metadata": {},
   "source": [
    " ### Few Polymorphysm Concepts"
   ]
  },
  {
   "cell_type": "code",
   "execution_count": 61,
   "metadata": {},
   "outputs": [
    {
     "name": "stdout",
     "output_type": "stream",
     "text": [
      "I'm in Derived class\n",
      "20\n"
     ]
    }
   ],
   "source": [
    "#top example for acheving polymorphysm as method overriding\n",
    "class A:\n",
    "    def __init__(self):\n",
    "        self.multiply(10)  # --> caller object is derived class object,  hence derived class method will get invoked\n",
    "        print(self.i)\n",
    "\n",
    "    def multiply(self, i):\n",
    "        print(\"I'm in Base class\")\n",
    "        self.i = 4 * i;\n",
    "\n",
    "\n",
    "class B(A):\n",
    "    def __init__(self):\n",
    "        super().__init__()\n",
    "\n",
    "    def multiply(self, i):\n",
    "        print(\"I'm in Derived class\")\n",
    "        self.i = 2 * i;\n",
    "\n",
    "\n",
    "obj = B()"
   ]
  },
  {
   "cell_type": "code",
   "execution_count": 66,
   "metadata": {},
   "outputs": [
    {
     "name": "stdout",
     "output_type": "stream",
     "text": [
      "True\n"
     ]
    }
   ],
   "source": [
    "#Example -> Operator overloading \n",
    "#operator level overloading\n",
    "class A:\n",
    "    def __init__(self, x, y):\n",
    "        self.x = x\n",
    "        self.y = y\n",
    "        \n",
    "    def __str__(self):\n",
    "        return 1\n",
    "    \n",
    "    def __eq__(self, other):\n",
    "        return self.x * self.y == other.x * other.y\n",
    "    \n",
    "    \n",
    "obj1 = A(5, 2)\n",
    "obj2 = A(2, 5)\n",
    "\n",
    "print(obj1 == obj2) ## -> __eq__ dunder method will invoked"
   ]
  },
  {
   "cell_type": "code",
   "execution_count": 71,
   "metadata": {},
   "outputs": [
    {
     "name": "stdout",
     "output_type": "stream",
     "text": [
      " Demo's check \n",
      " Demo's check \n"
     ]
    }
   ],
   "source": [
    "#Example: Method Overriding on Private method\n",
    "#and private method can't be override\n",
    "\n",
    "class Demo:\n",
    "    def __check(self): #this is a private method \n",
    "        return \" Demo's check \"\n",
    "    \n",
    "    def display(self):\n",
    "        print(self.__check())\n",
    "        \n",
    "class Demo_Derived(Demo):\n",
    "    \n",
    "    def __check(self):\n",
    "        return \" Derived's check \"\n",
    "    \n",
    "Demo().display()\n",
    "Demo_Derived().display() "
   ]
  },
  {
   "cell_type": "code",
   "execution_count": 84,
   "metadata": {},
   "outputs": [
    {
     "name": "stdout",
     "output_type": "stream",
     "text": [
      " Demo's check \n",
      " Demo's check \n"
     ]
    }
   ],
   "source": [
    "#Example: When derived class dont have the check method then it will execute the check method of Base class\n",
    "\n",
    "class Demo:\n",
    "    def check(self): #this is a private method \n",
    "        return \" Demo's check \"\n",
    "    \n",
    "    def display(self):\n",
    "        print(self.check())\n",
    "        \n",
    "class Demo_Derived(Demo):\n",
    "    pass\n",
    "    \n",
    "Demo().display()\n",
    "Demo_Derived().display() "
   ]
  },
  {
   "cell_type": "code",
   "execution_count": 79,
   "metadata": {
    "scrolled": true
   },
   "outputs": [
    {
     "name": "stdout",
     "output_type": "stream",
     "text": [
      "Base\n",
      "2\n"
     ]
    }
   ],
   "source": [
    "#example1: \n",
    "#when derived class constructor is not defind then it will invoke the base conbstrutor\n",
    "class Demo:\n",
    "    def __init__(self):\n",
    "        print('Base')\n",
    "        self.x = 1\n",
    "        \n",
    "    def change(self):\n",
    "        self.x = 10\n",
    "        \n",
    "class Demo_derived(Demo):\n",
    "    \n",
    "    def change(self):\n",
    "        self.x = self.x + 1\n",
    "        return self.x\n",
    "    \n",
    "    \n",
    "def main():\n",
    "    obj = Demo_derived()\n",
    "    print(obj.change())\n",
    " \n",
    "main()"
   ]
  },
  {
   "cell_type": "code",
   "execution_count": 82,
   "metadata": {},
   "outputs": [
    {
     "name": "stdout",
     "output_type": "stream",
     "text": [
      "In demo_derived\n"
     ]
    },
    {
     "ename": "AttributeError",
     "evalue": "'Demo_derived' object has no attribute 'x'",
     "output_type": "error",
     "traceback": [
      "\u001b[0;31m---------------------------------------------------------------------------\u001b[0m",
      "\u001b[0;31mAttributeError\u001b[0m                            Traceback (most recent call last)",
      "\u001b[0;32m<ipython-input-82-40d423053560>\u001b[0m in \u001b[0;36m<module>\u001b[0;34m\u001b[0m\n\u001b[1;32m     25\u001b[0m     \u001b[0mprint\u001b[0m\u001b[0;34m(\u001b[0m\u001b[0mobj\u001b[0m\u001b[0;34m.\u001b[0m\u001b[0mchange\u001b[0m\u001b[0;34m(\u001b[0m\u001b[0;34m)\u001b[0m\u001b[0;34m)\u001b[0m\u001b[0;34m\u001b[0m\u001b[0;34m\u001b[0m\u001b[0m\n\u001b[1;32m     26\u001b[0m \u001b[0;34m\u001b[0m\u001b[0m\n\u001b[0;32m---> 27\u001b[0;31m \u001b[0mmain\u001b[0m\u001b[0;34m(\u001b[0m\u001b[0;34m)\u001b[0m\u001b[0;34m\u001b[0m\u001b[0;34m\u001b[0m\u001b[0m\n\u001b[0m",
      "\u001b[0;32m<ipython-input-82-40d423053560>\u001b[0m in \u001b[0;36mmain\u001b[0;34m()\u001b[0m\n\u001b[1;32m     23\u001b[0m \u001b[0;32mdef\u001b[0m \u001b[0mmain\u001b[0m\u001b[0;34m(\u001b[0m\u001b[0;34m)\u001b[0m\u001b[0;34m:\u001b[0m\u001b[0;34m\u001b[0m\u001b[0;34m\u001b[0m\u001b[0m\n\u001b[1;32m     24\u001b[0m     \u001b[0mobj\u001b[0m \u001b[0;34m=\u001b[0m \u001b[0mDemo_derived\u001b[0m\u001b[0;34m(\u001b[0m\u001b[0;34m)\u001b[0m\u001b[0;34m\u001b[0m\u001b[0;34m\u001b[0m\u001b[0m\n\u001b[0;32m---> 25\u001b[0;31m     \u001b[0mprint\u001b[0m\u001b[0;34m(\u001b[0m\u001b[0mobj\u001b[0m\u001b[0;34m.\u001b[0m\u001b[0mchange\u001b[0m\u001b[0;34m(\u001b[0m\u001b[0;34m)\u001b[0m\u001b[0;34m)\u001b[0m\u001b[0;34m\u001b[0m\u001b[0;34m\u001b[0m\u001b[0m\n\u001b[0m\u001b[1;32m     26\u001b[0m \u001b[0;34m\u001b[0m\u001b[0m\n\u001b[1;32m     27\u001b[0m \u001b[0mmain\u001b[0m\u001b[0;34m(\u001b[0m\u001b[0;34m)\u001b[0m\u001b[0;34m\u001b[0m\u001b[0;34m\u001b[0m\u001b[0m\n",
      "\u001b[0;32m<ipython-input-82-40d423053560>\u001b[0m in \u001b[0;36mchange\u001b[0;34m(self)\u001b[0m\n\u001b[1;32m     17\u001b[0m \u001b[0;34m\u001b[0m\u001b[0m\n\u001b[1;32m     18\u001b[0m     \u001b[0;32mdef\u001b[0m \u001b[0mchange\u001b[0m\u001b[0;34m(\u001b[0m\u001b[0mself\u001b[0m\u001b[0;34m)\u001b[0m\u001b[0;34m:\u001b[0m\u001b[0;34m\u001b[0m\u001b[0;34m\u001b[0m\u001b[0m\n\u001b[0;32m---> 19\u001b[0;31m         \u001b[0mself\u001b[0m\u001b[0;34m.\u001b[0m\u001b[0mx\u001b[0m \u001b[0;34m=\u001b[0m \u001b[0mself\u001b[0m\u001b[0;34m.\u001b[0m\u001b[0mx\u001b[0m \u001b[0;34m+\u001b[0m \u001b[0;36m1\u001b[0m \u001b[0;31m##here we'll get error\u001b[0m\u001b[0;34m\u001b[0m\u001b[0;34m\u001b[0m\u001b[0m\n\u001b[0m\u001b[1;32m     20\u001b[0m         \u001b[0;32mreturn\u001b[0m \u001b[0mself\u001b[0m\u001b[0;34m.\u001b[0m\u001b[0mx\u001b[0m\u001b[0;34m\u001b[0m\u001b[0;34m\u001b[0m\u001b[0m\n\u001b[1;32m     21\u001b[0m \u001b[0;34m\u001b[0m\u001b[0m\n",
      "\u001b[0;31mAttributeError\u001b[0m: 'Demo_derived' object has no attribute 'x'"
     ]
    }
   ],
   "source": [
    "#example2: \n",
    "#when derived class constructor is defind, then to initialize the base class constructor \n",
    "#derived  must invoke the base conbstrutor to use its members attribute\n",
    "class Demo:\n",
    "    def __init__(self):\n",
    "        print('In Base')\n",
    "        self.x = 1\n",
    "        \n",
    "    def change(self):\n",
    "        self.x = 10\n",
    "        \n",
    "class Demo_derived(Demo):\n",
    "     \n",
    "    def __init__(self):\n",
    "        print('In demo_derived')\n",
    "        self.y = 10\n",
    "        \n",
    "    def change(self):\n",
    "        self.x = self.x + 1 ##here we'll get error\n",
    "        return self.x\n",
    "    \n",
    "    \n",
    "def main():\n",
    "    obj = Demo_derived()\n",
    "    print(obj.change())\n",
    " \n",
    "main()"
   ]
  },
  {
   "cell_type": "markdown",
   "metadata": {},
   "source": [
    "### Operator Overloading\n",
    "\n",
    "* we `define a method` for an operator and that process is called operator overloading. \n",
    "* To perform `operator overloading`, Python provides some special function or `magic function` that is automatically invoked when it is associated with that particular operator. \n",
    "* Let' s say for `+` we have `__add__` magic function.  "
   ]
  },
  {
   "cell_type": "markdown",
   "metadata": {},
   "source": [
    "* Python magic methods or special functions for operator overloading"
   ]
  },
  {
   "cell_type": "markdown",
   "metadata": {},
   "source": [
    "* Operator Magic Method\n",
    "\n",
    "| Magic Method | Operator | \n",
    "| --- | ---|\n",
    "|\t__add__(self, other)|    | + |\n",
    "|\t__sub__(self, other)|| - |\n",
    "|\t__mul__(self, other)|| * |\n",
    "|\t__truediv__(self, other)|| / |\n",
    "|\t__floordiv__(self, other)||//|\n",
    "|\t__mod__(self, other)||%|\n",
    "|\t__pow__(self, other)||**|\n",
    "|\t__rshift__(self, other)||>>|\n",
    "|\t__lshift__(self, other)||<<|\n",
    "|\t__and__(self, other)||&|\n",
    "|\t__or__(self, other)||`|`|\n",
    "|\t__xor__(self, other)||^|\n"
   ]
  },
  {
   "cell_type": "code",
   "execution_count": 91,
   "metadata": {},
   "outputs": [
    {
     "name": "stdout",
     "output_type": "stream",
     "text": [
      "9\n",
      "[1, 2, 3, 1, 2, 3]\n",
      "string1string2\n",
      "string1string1string1\n"
     ]
    }
   ],
   "source": [
    "#exampe overloading \n",
    "\n",
    "print(2 + 7)\n",
    "print([1,2,3] * 2)\n",
    "print('string1' +  'string2')\n",
    "print('string1' * 3)"
   ]
  },
  {
   "cell_type": "code",
   "execution_count": 106,
   "metadata": {},
   "outputs": [
    {
     "name": "stdout",
     "output_type": "stream",
     "text": [
      "7\n",
      "3\n",
      "False\n",
      "True\n",
      "True\n",
      "False\n",
      "True\n",
      "False\n"
     ]
    }
   ],
   "source": [
    "#lets do some operator overloading b/w two objects \n",
    "class Test:\n",
    "    def __init__(self, var):\n",
    "        self.a  = var\n",
    "        \n",
    "    def __add__(self, other):\n",
    "        return self.a + other.a \n",
    "    \n",
    "    def __sub__(self, other):\n",
    "        return self.a - other.a\n",
    "    \n",
    "    def __eq__(self, other):\n",
    "        return self.a == other.a\n",
    "    \n",
    "    def __mul__(self, other):\n",
    "        return self.a >= other.a\n",
    "    \n",
    "    def __ge__(self, other):\n",
    "        return self.a >= other.a\n",
    "\n",
    "    def __le__(self, other):\n",
    "        return self.a <= other.a\n",
    "    \n",
    "    def __gt__(self, other):\n",
    "        return self.a > other.a\n",
    "    \n",
    "    def __lt__(self, other):\n",
    "        return self.a < other.a\n",
    "    \n",
    "    \n",
    "\n",
    "obj1 = Test(5)\n",
    "obj2 = Test(2)\n",
    "\n",
    "print(obj1 + obj2)\n",
    "print(obj1 - obj2)  \n",
    "print(obj1 == obj2)\n",
    "print(obj1 * obj2 )\n",
    "print(obj1 >= obj2)\n",
    "print(obj1 <= obj2)\n",
    "print(obj1 > obj2)\n",
    "print(obj1 < obj2)"
   ]
  },
  {
   "cell_type": "markdown",
   "metadata": {
    "id": "eLxH12dA_s6p"
   },
   "source": [
    "<h2><center>File Handling Concept<center></h2>"
   ]
  },
  {
   "cell_type": "markdown",
   "metadata": {},
   "source": [
    "* https://www.geeksforgeeks.org/writing-to-file-in-python/?ref=lbp"
   ]
  },
  {
   "cell_type": "markdown",
   "metadata": {
    "id": "togUXdSo_s6p"
   },
   "source": [
    "* Read Operation\n",
    "    * 2.read() \n",
    "    * 3.readlines() \n",
    "    * 4.seek() \n",
    "    * 11.readline()\n",
    "\n",
    "* Create Operation \n",
    "    * 1.Creating File \n",
    "    * 6.open(parameters) \n",
    "\n",
    "* Write Operation\n",
    "    * 5.WRITE\n",
    "    * 7.write() \n",
    "    * 12. writelines()\n",
    "  \n",
    "* Other Operation\n",
    "\n",
    "    * 9.close()\n",
    "    * 8.Iteration Over the File |StringIO|\n",
    "    * 10.tell() return current position of file pointer   \n",
    "\n",
    "\n",
    "\n",
    "\n",
    "\n",
    "\n",
    "\n"
   ]
  },
  {
   "cell_type": "markdown",
   "metadata": {
    "id": "Y0NSrbcj_s6p"
   },
   "source": [
    "**File magic function in order to crete a file**"
   ]
  },
  {
   "cell_type": "markdown",
   "metadata": {},
   "source": [
    "* Open function supports the following mode:\n",
    "\n",
    "    * r: open an existing file for a read operation.\n",
    "    * w: open an existing file for a write operation. If the file already contains some data then it will be overridden.\n",
    "    * a:  open an existing file for append operation. It won’t override existing data.\n",
    "    * r+:  To read and write data into the file. The previous data in the file will be overridden.\n",
    "    * w+: To write and read data. It will override existing data.\n",
    "    * a+: To append and read data from the file. It won’t override existing data\n",
    "\n",
    "All above will work with text file.\n",
    "\n",
    "* For binary file with same operation use append `b`,\n",
    "    * rb, wb, ab, rb+, wb+, ab+\n"
   ]
  },
  {
   "cell_type": "markdown",
   "metadata": {
    "id": "Yh9jlVKm_s6p"
   },
   "source": [
    "### creating file"
   ]
  },
  {
   "cell_type": "code",
   "execution_count": null,
   "metadata": {
    "id": "mgt1Vret_s6p",
    "outputId": "d2ea7b39-42cf-4653-fe21-7fa9711647e6"
   },
   "outputs": [
    {
     "name": "stdout",
     "output_type": "stream",
     "text": [
      "Writing test.txt\n"
     ]
    }
   ],
   "source": [
    "%%writefile test.txt\n",
    "Hello, this is a quick test file,akshay leading file"
   ]
  },
  {
   "cell_type": "code",
   "execution_count": null,
   "metadata": {
    "id": "TvgIzkQa_s6p",
    "outputId": "e559811a-d3b0-4a7b-fb1f-eb58387bb7bf"
   },
   "outputs": [
    {
     "data": {
      "text/plain": [
       "'/Users/akshaysingh/Desktop/Machine Learning/Python_Revision'"
      ]
     },
     "execution_count": 15,
     "metadata": {
      "tags": []
     },
     "output_type": "execute_result"
    }
   ],
   "source": [
    "pwd()"
   ]
  },
  {
   "cell_type": "markdown",
   "metadata": {
    "id": "jyXwWg06_s6q"
   },
   "source": [
    "### open file"
   ]
  },
  {
   "cell_type": "code",
   "execution_count": 167,
   "metadata": {
    "id": "CHpz-pU8_s6q"
   },
   "outputs": [
    {
     "data": {
      "text/plain": [
       "<_io.TextIOWrapper name='test.txt' mode='r' encoding='UTF-8'>"
      ]
     },
     "execution_count": 167,
     "metadata": {},
     "output_type": "execute_result"
    }
   ],
   "source": [
    "my_file = open('test.txt', mode = 'r')\n",
    "my_file"
   ]
  },
  {
   "cell_type": "markdown",
   "metadata": {
    "id": "NfHW1yWe_s6q"
   },
   "source": [
    "### read file"
   ]
  },
  {
   "cell_type": "code",
   "execution_count": 168,
   "metadata": {
    "id": "-TEfVlex_s6q",
    "outputId": "fae26cd2-2748-456f-ed5d-fa12cf2dff47",
    "scrolled": true
   },
   "outputs": [
    {
     "data": {
      "text/plain": [
       "'This is line#1\\nThis is line#2\\nThis is line#3\\nThis is line#4\\nThis is line#5'"
      ]
     },
     "execution_count": 168,
     "metadata": {},
     "output_type": "execute_result"
    }
   ],
   "source": [
    "my_file.read()"
   ]
  },
  {
   "cell_type": "code",
   "execution_count": 169,
   "metadata": {
    "id": "u3OkzKN8_s6q",
    "outputId": "a6479bc7-8e2e-423b-971c-462c025a6634",
    "scrolled": true
   },
   "outputs": [
    {
     "data": {
      "text/plain": [
       "''"
      ]
     },
     "execution_count": 169,
     "metadata": {},
     "output_type": "execute_result"
    }
   ],
   "source": [
    "#now execute again we'll get empty since cursor reached at end\n",
    "my_file.read()"
   ]
  },
  {
   "cell_type": "markdown",
   "metadata": {
    "id": "fMobTf1M_s6q"
   },
   "source": [
    "* moving `cursor` back in order to read a file using `seek method`\n",
    "* cursor by default start from `0`"
   ]
  },
  {
   "cell_type": "code",
   "execution_count": 195,
   "metadata": {
    "id": "-gSo8uuD_s6r",
    "outputId": "3780bcf1-0425-425b-884c-29dc4bf4252b"
   },
   "outputs": [
    {
     "data": {
      "text/plain": [
       "0"
      ]
     },
     "execution_count": 195,
     "metadata": {},
     "output_type": "execute_result"
    }
   ],
   "source": [
    "my_file.seek(0)"
   ]
  },
  {
   "cell_type": "code",
   "execution_count": 196,
   "metadata": {
    "id": "2Khrl30W_s6r",
    "outputId": "e5d15e98-7c6a-4b5a-dc10-dd06a21d569c"
   },
   "outputs": [
    {
     "data": {
      "text/plain": [
       "'This is li'"
      ]
     },
     "execution_count": 196,
     "metadata": {},
     "output_type": "execute_result"
    }
   ],
   "source": [
    "#read only first 10 characters\n",
    "my_file.read(10)"
   ]
  },
  {
   "cell_type": "code",
   "execution_count": 197,
   "metadata": {
    "id": "yxAD1nHy_s6r"
   },
   "outputs": [
    {
     "data": {
      "text/plain": [
       "'ne#1'"
      ]
     },
     "execution_count": 197,
     "metadata": {},
     "output_type": "execute_result"
    }
   ],
   "source": [
    "#read next 4 characters from current position of cursor \n",
    "my_file.read(4)"
   ]
  },
  {
   "cell_type": "code",
   "execution_count": 198,
   "metadata": {
    "id": "aDnrQ7QT_s6r"
   },
   "outputs": [
    {
     "data": {
      "text/plain": [
       "14"
      ]
     },
     "execution_count": 198,
     "metadata": {},
     "output_type": "execute_result"
    }
   ],
   "source": [
    "#return current position of pointer or curson position\n",
    "my_file.tell()"
   ]
  },
  {
   "cell_type": "code",
   "execution_count": 199,
   "metadata": {},
   "outputs": [
    {
     "name": "stdout",
     "output_type": "stream",
     "text": [
      "\n",
      "This is line#2\n",
      "This is line#3\n",
      "This is line#4\n",
      "This is line#5\n",
      "\n"
     ]
    }
   ],
   "source": [
    "#lets check what happen if cursor read from end return an empty string\n",
    "#my_file.seek()\n",
    "print(my_file.read(100))\n",
    "print(my_file.read(20))"
   ]
  },
  {
   "cell_type": "code",
   "execution_count": 200,
   "metadata": {
    "id": "3da6BArn_s6r",
    "outputId": "160d9ec2-8b72-4751-ad33-4a55344bbeb3"
   },
   "outputs": [
    {
     "data": {
      "text/plain": [
       "0"
      ]
     },
     "execution_count": 200,
     "metadata": {},
     "output_type": "execute_result"
    }
   ],
   "source": [
    "#set back to 0\n",
    "my_file.seek(0)"
   ]
  },
  {
   "cell_type": "markdown",
   "metadata": {
    "id": "UTT_M9k5_s6r"
   },
   "source": [
    "* `readlines()` method returning a `list of file` content"
   ]
  },
  {
   "cell_type": "code",
   "execution_count": 182,
   "metadata": {
    "id": "j4smJopG_s6r",
    "outputId": "8e5b7b1c-a869-4f3f-d859-894511de71a9"
   },
   "outputs": [
    {
     "data": {
      "text/plain": [
       "['This is line#1\\n',\n",
       " 'This is line#2\\n',\n",
       " 'This is line#3\\n',\n",
       " 'This is line#4\\n',\n",
       " 'This is line#5']"
      ]
     },
     "execution_count": 182,
     "metadata": {},
     "output_type": "execute_result"
    }
   ],
   "source": [
    "my_file.readlines()\n",
    "#after reading all content cursor will reach at end"
   ]
  },
  {
   "cell_type": "code",
   "execution_count": 184,
   "metadata": {},
   "outputs": [
    {
     "data": {
      "text/plain": [
       "[]"
      ]
     },
     "execution_count": 184,
     "metadata": {},
     "output_type": "execute_result"
    }
   ],
   "source": [
    "#cursor at end\n",
    "my_file.readlines()"
   ]
  },
  {
   "cell_type": "markdown",
   "metadata": {
    "id": "fzjtrC4B_s6s"
   },
   "source": [
    "### 2nd argument in open function(file permission)"
   ]
  },
  {
   "cell_type": "code",
   "execution_count": 159,
   "metadata": {
    "id": "3ikMTWmg_s6s"
   },
   "outputs": [],
   "source": [
    "#this will delete the previous content and append new content\n",
    "fptr = open('test.txt', mode = 'w+')"
   ]
  },
  {
   "cell_type": "code",
   "execution_count": 160,
   "metadata": {
    "id": "TdBp1ECO_s6s",
    "outputId": "0b7e9656-be03-4579-c9a3-4fdec7a1a7a9"
   },
   "outputs": [
    {
     "data": {
      "text/plain": [
       "23"
      ]
     },
     "execution_count": 160,
     "metadata": {},
     "output_type": "execute_result"
    }
   ],
   "source": [
    "fptr.write(\"this is good initiative\")"
   ]
  },
  {
   "cell_type": "code",
   "execution_count": 161,
   "metadata": {
    "id": "P5B00HK3_s6s",
    "outputId": "f27f39b4-397f-4ab7-dc37-f9e16507cc3b"
   },
   "outputs": [
    {
     "data": {
      "text/plain": [
       "0"
      ]
     },
     "execution_count": 161,
     "metadata": {},
     "output_type": "execute_result"
    }
   ],
   "source": [
    "fptr.seek(0)"
   ]
  },
  {
   "cell_type": "code",
   "execution_count": 162,
   "metadata": {
    "id": "zEmWJV2__s6s",
    "outputId": "1cd36ff0-9b83-4e03-ab75-54f837e3e009"
   },
   "outputs": [
    {
     "data": {
      "text/plain": [
       "'this is good initiative'"
      ]
     },
     "execution_count": 162,
     "metadata": {},
     "output_type": "execute_result"
    }
   ],
   "source": [
    "fptr.read()"
   ]
  },
  {
   "cell_type": "code",
   "execution_count": 146,
   "metadata": {
    "id": "YYP_tdQg_s6s",
    "outputId": "014940d2-6255-4e45-f47a-c0c7f404a3da"
   },
   "outputs": [
    {
     "ename": "SyntaxError",
     "evalue": "invalid syntax (<ipython-input-146-cba16ce59098>, line 3)",
     "output_type": "error",
     "traceback": [
      "\u001b[0;36m  File \u001b[0;32m\"<ipython-input-146-cba16ce59098>\"\u001b[0;36m, line \u001b[0;32m3\u001b[0m\n\u001b[0;31m    firstl line\u001b[0m\n\u001b[0m           ^\u001b[0m\n\u001b[0;31mSyntaxError\u001b[0m\u001b[0;31m:\u001b[0m invalid syntax\n"
     ]
    }
   ],
   "source": [
    "#using magic method to add line, if file not exists it create first\n",
    "%%writefile temp.txt\n",
    "firstl line\n",
    "second line\n",
    "third line"
   ]
  },
  {
   "cell_type": "code",
   "execution_count": 147,
   "metadata": {
    "id": "98xi77MC_s6s"
   },
   "outputs": [],
   "source": [
    "fptr = open('test.txt')"
   ]
  },
  {
   "cell_type": "code",
   "execution_count": 149,
   "metadata": {
    "id": "WfJRF4qK_s6s",
    "outputId": "ab287d97-3a34-4e82-daf4-dcbf2583cd35"
   },
   "outputs": [
    {
     "data": {
      "text/plain": [
       "'this is good initiative\\nthis is my 2nd line\\nthis is my 3rd line.'"
      ]
     },
     "execution_count": 149,
     "metadata": {},
     "output_type": "execute_result"
    }
   ],
   "source": [
    "#this will also gives the new line character\n",
    "fptr.read()"
   ]
  },
  {
   "cell_type": "code",
   "execution_count": 150,
   "metadata": {
    "id": "8HKVbk4N_s6t",
    "outputId": "a525c73b-275e-4514-c800-7e36c2225881"
   },
   "outputs": [
    {
     "data": {
      "text/plain": [
       "0"
      ]
     },
     "execution_count": 150,
     "metadata": {},
     "output_type": "execute_result"
    }
   ],
   "source": [
    "fptr.seek(0)"
   ]
  },
  {
   "cell_type": "markdown",
   "metadata": {},
   "source": [
    "#### `readlines()` -> reads all the lines and return them as each` line a string element in a list`"
   ]
  },
  {
   "cell_type": "code",
   "execution_count": 218,
   "metadata": {
    "id": "zLXWKzj7_s6t",
    "outputId": "a3c9adba-5652-4fa2-bd13-cfaeae9c6343"
   },
   "outputs": [
    {
     "name": "stdout",
     "output_type": "stream",
     "text": [
      "['This is line#1\\n', 'This is line#2\\n', 'This is line#3\\n', 'This is line#4\\n', 'This is line#5']\n"
     ]
    }
   ],
   "source": [
    "#return the list of text content also include new line character we have to handle it saperately\n",
    "fptr = open('test.txt', mode = 'r')\n",
    "print(fptr.readlines())\n",
    "fptr.close()"
   ]
  },
  {
   "cell_type": "markdown",
   "metadata": {},
   "source": [
    "#### `readline()` ->Reads a line of the file and returns in form of a string. However, `does not reads more than one line`"
   ]
  },
  {
   "cell_type": "code",
   "execution_count": 222,
   "metadata": {},
   "outputs": [
    {
     "name": "stdout",
     "output_type": "stream",
     "text": [
      "This is line#1\n",
      "\n"
     ]
    }
   ],
   "source": [
    "fptr = open('test.txt', mode = 'r')\n",
    "print(fptr.readline())\n",
    "fptr.close()"
   ]
  },
  {
   "cell_type": "markdown",
   "metadata": {},
   "source": [
    "#### `writelines()`  -> write the multiple line in one go"
   ]
  },
  {
   "cell_type": "code",
   "execution_count": 230,
   "metadata": {},
   "outputs": [
    {
     "name": "stdout",
     "output_type": "stream",
     "text": [
      "['this is good initiative \\n', 'this is my 2nd line \\n', 'this is my 3rd line \\n']\n"
     ]
    }
   ],
   "source": [
    "L = ['this is good initiative \\n', 'this is my 2nd line \\n', 'this is my 3rd line \\n']\n",
    "file = open('test.txt', mode = 'w+')\n",
    "file.writelines(L)\n",
    "file.seek(0)\n",
    "print(file.readlines())\n",
    "file.close()"
   ]
  },
  {
   "cell_type": "code",
   "execution_count": 153,
   "metadata": {
    "id": "PGvEVRLQ_s6t",
    "outputId": "5b80e092-55ca-4a63-eecf-30271ff51233"
   },
   "outputs": [
    {
     "data": {
      "text/plain": [
       "['this is good initiative\\n', 'this is my 2nd line\\n', 'this is my 3rd line.']"
      ]
     },
     "execution_count": 153,
     "metadata": {},
     "output_type": "execute_result"
    }
   ],
   "source": [
    "#same can be acheive below\n",
    "lineList = []\n",
    "for line in open('test.txt'):\n",
    "  lineList.append(line)\n",
    "\n",
    "lineList"
   ]
  },
  {
   "cell_type": "markdown",
   "metadata": {},
   "source": [
    "#### Write file"
   ]
  },
  {
   "cell_type": "code",
   "execution_count": 213,
   "metadata": {},
   "outputs": [
    {
     "name": "stdout",
     "output_type": "stream",
     "text": [
      "25\n",
      "51\n",
      "76\n"
     ]
    }
   ],
   "source": [
    "#if file doesn't exists it first create file, if already there then override\n",
    "#cursor also moves from curr position, if we write something and get current cursor using tell\n",
    "\n",
    "fptr = open('geeks.txt', mode  = 'w')\n",
    "fptr.write('This is a first command. ')\n",
    "print(fptr.tell())\n",
    "fptr.write('This is a second command. ')\n",
    "print(fptr.tell())\n",
    "fptr.write('This is a third command. ')\n",
    "print(fptr.tell())\n",
    "fptr.close()\n",
    "\n",
    "#close() function closes the file and frees the memory space acquired by that file. "
   ]
  },
  {
   "cell_type": "markdown",
   "metadata": {},
   "source": [
    "#### append file \n",
    "\n",
    "* append will not append from newline `\\n`\n",
    "* So first write `fptr.write('\\n')` then hit fptr.write(text)"
   ]
  },
  {
   "cell_type": "code",
   "execution_count": 214,
   "metadata": {},
   "outputs": [
    {
     "name": "stdout",
     "output_type": "stream",
     "text": [
      "101\n",
      "126\n"
     ]
    }
   ],
   "source": [
    "#if file doesn't exists it first also create file\n",
    "fptr = open('geeks.txt', mode  = 'a')\n",
    "fptr.write('This is a fifth command. ')\n",
    "print(fptr.tell())\n",
    "fptr.write('This is a sixth command. ')\n",
    "print(fptr.tell())\n",
    "fptr.close()"
   ]
  },
  {
   "cell_type": "markdown",
   "metadata": {},
   "source": [
    "#### Use `with` "
   ]
  },
  {
   "cell_type": "code",
   "execution_count": 215,
   "metadata": {},
   "outputs": [],
   "source": [
    "#no need to close the resources, after intendation automatically close\n",
    "with open('geeks.txt', mode = 'a') as fptr:\n",
    "    fptr.write('This is append with ')"
   ]
  },
  {
   "cell_type": "markdown",
   "metadata": {},
   "source": [
    "#### `split()` using in file handling "
   ]
  },
  {
   "cell_type": "code",
   "execution_count": 216,
   "metadata": {},
   "outputs": [
    {
     "name": "stdout",
     "output_type": "stream",
     "text": [
      "['This', 'is', 'a', 'first', 'command.', 'This', 'is', 'a', 'second', 'command.', 'This', 'is', 'a', 'third', 'command.', 'This', 'is', 'a', 'fifth', 'command.', 'This', 'is', 'a', 'sixth', 'command.', 'This', 'is', 'append', 'with']\n"
     ]
    }
   ],
   "source": [
    "with open('geeks.txt', mode = 'r') as file:\n",
    "    sentences = file.readlines()\n",
    "    \n",
    "    for sent in sentences:\n",
    "        word = sent.split()\n",
    "        print(word)"
   ]
  },
  {
   "cell_type": "markdown",
   "metadata": {
    "id": "vPGAnUs3_s6t"
   },
   "source": [
    "## os module "
   ]
  },
  {
   "cell_type": "markdown",
   "metadata": {
    "id": "YK_GMeZt_s6t"
   },
   "source": [
    "* **os module in Python which brings the support of file rename/delete operations.**"
   ]
  },
  {
   "cell_type": "markdown",
   "metadata": {
    "id": "CjObNfdL_s6t"
   },
   "source": [
    "|Specific methods|\n",
    "|-------|\n",
    "| os.rename()|\n",
    "| os.remove()| \n",
    "| os.getcwd() |\n",
    "| os.listdir()|\n",
    "| os.mkdir() |\n",
    "| os.rmdir()|"
   ]
  },
  {
   "cell_type": "code",
   "execution_count": 155,
   "metadata": {
    "id": "2NDISzUT_s6t"
   },
   "outputs": [],
   "source": [
    "#rename operation\n",
    "import os\n",
    "os.rename(\"test.txt\", \"sample.txt\")"
   ]
  },
  {
   "cell_type": "code",
   "execution_count": 156,
   "metadata": {
    "id": "CkBVqeP-_s6t"
   },
   "outputs": [],
   "source": [
    "#Delete a file sample.txt\n",
    "os.remove(\"sample.txt\")"
   ]
  },
  {
   "cell_type": "code",
   "execution_count": 162,
   "metadata": {
    "id": "INbnHE1H_s6t"
   },
   "outputs": [
    {
     "data": {
      "text/plain": [
       "['HackerEarth_TransUnion',\n",
       " 'webrest',\n",
       " 'requirements_bkp.txt',\n",
       " '.DS_Store',\n",
       " 'Untitled.ipynb',\n",
       " 'Loan Prediction',\n",
       " 'numpy_practice.ipynb',\n",
       " '.hidden2.txt',\n",
       " '.hidden1.txt',\n",
       " 'Matplotlib_Rivision_Notebook.ipynb',\n",
       " 'Tredence_dataset',\n",
       " 'Pandas_Rivision_Notes.ipynb',\n",
       " '__pycache__',\n",
       " 'test.py',\n",
       " 'sqlAlchemy',\n",
       " 'test2.py',\n",
       " 'multi-processing.py',\n",
       " 'test.html',\n",
       " 'prog3.py',\n",
       " 'pythonfiles',\n",
       " 'jenkinsfile',\n",
       " 'BigMart_Sales',\n",
       " 'Python_Rivision_Notes.ipynb',\n",
       " '.ipynb_checkpoints',\n",
       " '.hidden.txt',\n",
       " 'ssh.py',\n",
       " 'plotting.ipynb',\n",
       " '.git',\n",
       " 'webtest',\n",
       " 'jobAthon']"
      ]
     },
     "execution_count": 162,
     "metadata": {},
     "output_type": "execute_result"
    }
   ],
   "source": [
    "#List Directories and Files in current working directory\n",
    "os.listdir(os.getcwd())"
   ]
  },
  {
   "cell_type": "code",
   "execution_count": 159,
   "metadata": {
    "id": "N2hU7tto_s6t"
   },
   "outputs": [],
   "source": [
    "#Making New Directory\n",
    "os.mkdir('test')"
   ]
  },
  {
   "cell_type": "code",
   "execution_count": 161,
   "metadata": {
    "id": "eCyXnknN_s6u"
   },
   "outputs": [],
   "source": [
    "#However, note that rmdir() method can only remove empty directories.\n",
    "os.rmdir('test')"
   ]
  },
  {
   "cell_type": "markdown",
   "metadata": {
    "id": "vtRON4vJ_s6u"
   },
   "source": [
    "* `string IO` by which string treated as file"
   ]
  },
  {
   "cell_type": "code",
   "execution_count": 163,
   "metadata": {
    "id": "6LkiuOiL_s6u"
   },
   "outputs": [],
   "source": [
    "from io import StringIO"
   ]
  },
  {
   "cell_type": "code",
   "execution_count": 164,
   "metadata": {
    "id": "gXRI-d6__s6u"
   },
   "outputs": [],
   "source": [
    "msg = \"file handling concept in pyhton\""
   ]
  },
  {
   "cell_type": "code",
   "execution_count": 165,
   "metadata": {
    "id": "pJmS03Oc_s6u"
   },
   "outputs": [],
   "source": [
    "#Now we have an object f that we will be able to treat just like a file. For example:\n",
    "f = StringIO(msg)"
   ]
  },
  {
   "cell_type": "code",
   "execution_count": null,
   "metadata": {
    "collapsed": true,
    "id": "cA-F4f9C_s6u",
    "outputId": "bc593cdb-2d7b-4b65-e067-787f446255a0"
   },
   "outputs": [
    {
     "data": {
      "text/plain": [
       "'file handling concept in pyhton'"
      ]
     },
     "execution_count": 38,
     "metadata": {
      "tags": []
     },
     "output_type": "execute_result"
    }
   ],
   "source": [
    "f.read()"
   ]
  },
  {
   "cell_type": "code",
   "execution_count": null,
   "metadata": {
    "collapsed": true,
    "id": "uCwONyjT_s6u",
    "outputId": "f5801f9f-93ef-4f97-f1c6-c09df38decab"
   },
   "outputs": [
    {
     "data": {
      "text/plain": [
       "19"
      ]
     },
     "execution_count": 39,
     "metadata": {
      "tags": []
     },
     "output_type": "execute_result"
    }
   ],
   "source": [
    "f.write(\" Learn Conceptually\")"
   ]
  },
  {
   "cell_type": "code",
   "execution_count": null,
   "metadata": {
    "collapsed": true,
    "id": "ztcYXjbz_s6v",
    "outputId": "5bbd954a-f971-4354-b83a-49db78bb18e3"
   },
   "outputs": [
    {
     "data": {
      "text/plain": [
       "0"
      ]
     },
     "execution_count": 40,
     "metadata": {
      "tags": []
     },
     "output_type": "execute_result"
    }
   ],
   "source": [
    "f.seek(0)"
   ]
  },
  {
   "cell_type": "code",
   "execution_count": null,
   "metadata": {
    "collapsed": true,
    "id": "WyZZr1NU_s6v",
    "outputId": "e62d08b0-7220-4bc3-db29-e8f3f8c37e42"
   },
   "outputs": [
    {
     "data": {
      "text/plain": [
       "'file handling concept in pyhton Learn Conceptually'"
      ]
     },
     "execution_count": 41,
     "metadata": {
      "tags": []
     },
     "output_type": "execute_result"
    }
   ],
   "source": [
    "f.read()"
   ]
  },
  {
   "cell_type": "code",
   "execution_count": null,
   "metadata": {
    "collapsed": true,
    "id": "XOjeBjjr_s6v",
    "outputId": "51420334-71a9-485c-9a44-5de6664cf108"
   },
   "outputs": [
    {
     "data": {
      "text/plain": [
       "'/Users/akshaysingh/Desktop/Machine Learning/Python_Revision'"
      ]
     },
     "execution_count": 42,
     "metadata": {
      "tags": []
     },
     "output_type": "execute_result"
    }
   ],
   "source": [
    "pwd()"
   ]
  },
  {
   "cell_type": "markdown",
   "metadata": {
    "id": "0-mMXPS6_s6v"
   },
   "source": [
    "## Database connectivity and operations using Python."
   ]
  },
  {
   "cell_type": "code",
   "execution_count": null,
   "metadata": {
    "collapsed": true,
    "id": "HOuuQ_Uh_s6v"
   },
   "outputs": [],
   "source": [
    "import sqlite3 as sql"
   ]
  },
  {
   "cell_type": "markdown",
   "metadata": {
    "id": "Dmt2GjaJ_s6v"
   },
   "source": [
    "##### this will create a database on memory"
   ]
  },
  {
   "cell_type": "code",
   "execution_count": null,
   "metadata": {
    "collapsed": true,
    "id": "0x4xiPq3_s6v",
    "outputId": "b0e64cdb-e0e5-4487-de3d-80bf3dc86cef"
   },
   "outputs": [
    {
     "data": {
      "text/plain": [
       "<sqlite3.Cursor at 0x1120e0ea0>"
      ]
     },
     "execution_count": 44,
     "metadata": {
      "tags": []
     },
     "output_type": "execute_result"
    }
   ],
   "source": [
    "#create database\n",
    "db=sql.connect(\"myDatabase.db\")\n",
    "#create table on database\n",
    "db.execute(\"create table grades1(id int,name txt,score int)\")\n",
    "#insert values into table grades1\n",
    "db.execute(\"insert into grades1(id, name, score) values (101, 'John',99 )\")\n",
    "db.execute(\"insert into grades1(id, name, score) values (102, 'gary',90 )\")\n",
    "db.execute(\"insert into grades1(id, name, score) values(103, 'James', 80 )\")\n",
    "db.execute(\"insert into grades1(id, name, score) values(104, 'Cathy', 85 )\")\n",
    "db.execute(\"insert into grades1(id, name, score) values(105, 'Kris',95 )\")"
   ]
  },
  {
   "cell_type": "code",
   "execution_count": null,
   "metadata": {
    "collapsed": true,
    "id": "Co7BtYW6_s6v"
   },
   "outputs": [],
   "source": [
    "#save database\n",
    "db.commit()"
   ]
  },
  {
   "cell_type": "markdown",
   "metadata": {
    "id": "j_qe68ds_s6w"
   },
   "source": [
    "#### fetching value from database"
   ]
  },
  {
   "cell_type": "code",
   "execution_count": null,
   "metadata": {
    "collapsed": true,
    "id": "IEYAd3Kl_s6w",
    "outputId": "55a89ac8-75ab-4730-f02c-bd439a85e039"
   },
   "outputs": [
    {
     "name": "stdout",
     "output_type": "stream",
     "text": [
      "(101, 'John', 99)\n",
      "(102, 'gary', 90)\n",
      "(103, 'James', 80)\n",
      "(104, 'Cathy', 85)\n",
      "(105, 'Kris', 95)\n",
      "--------------------------------------------------------------------------------\n"
     ]
    }
   ],
   "source": [
    "results= db.execute(\"select *from grades1 order by id\")\n",
    "for rows in results:\n",
    "    print(rows)\n",
    "print(\"-\" * 80)"
   ]
  },
  {
   "cell_type": "code",
   "execution_count": null,
   "metadata": {
    "collapsed": true,
    "id": "tx2zbwFr_s6w",
    "outputId": "804e8098-2843-430e-de00-b66e7eafb845"
   },
   "outputs": [
    {
     "name": "stdout",
     "output_type": "stream",
     "text": [
      "(103, 'James', 80)\n",
      "(104, 'Cathy', 85)\n",
      "(102, 'gary', 90)\n",
      "(105, 'Kris', 95)\n",
      "(101, 'John', 99)\n",
      "--------------------------------------------------------------------------------\n"
     ]
    }
   ],
   "source": [
    "results= db.execute(\"select *from grades1 order by score\")\n",
    "for rows in results:\n",
    "    print(rows)\n",
    "print(\"-\" * 80)\n"
   ]
  },
  {
   "cell_type": "code",
   "execution_count": null,
   "metadata": {
    "collapsed": true,
    "id": "aocsGS_D_s6w",
    "outputId": "13828724-9995-4285-b3f6-15185738b7c9"
   },
   "outputs": [
    {
     "name": "stdout",
     "output_type": "stream",
     "text": [
      "(104, 'Cathy', 85)\n",
      "(103, 'James', 80)\n",
      "(101, 'John', 99)\n",
      "(105, 'Kris', 95)\n",
      "(102, 'gary', 90)\n",
      "--------------------------------------------------------------------------------\n"
     ]
    }
   ],
   "source": [
    "results= db.execute(\"select *from grades1 order by name\")\n",
    "for rows in results:\n",
    "    print(rows)\n",
    "print(\"-\" * 80)"
   ]
  },
  {
   "cell_type": "code",
   "execution_count": null,
   "metadata": {
    "collapsed": true,
    "id": "xYAjNYpg_s6w",
    "outputId": "6464d260-2630-441c-e8cb-bf5836dc5023"
   },
   "outputs": [
    {
     "name": "stdout",
     "output_type": "stream",
     "text": [
      "(101, 'John', 99)\n",
      "(102, 'gary', 90)\n",
      "(105, 'Kris', 95)\n",
      "--------------------------------------------------------------------------------\n"
     ]
    }
   ],
   "source": [
    "results= db.execute(\"select *from grades1 where score >= 90\")\n",
    "for rows in results:\n",
    "    print(rows)\n",
    "print(\"-\" * 80)"
   ]
  },
  {
   "cell_type": "code",
   "execution_count": null,
   "metadata": {
    "collapsed": true,
    "id": "plNu30-r_s6w",
    "outputId": "e1a896c7-559b-4c06-d45a-cfd28d01d5b7"
   },
   "outputs": [
    {
     "name": "stdout",
     "output_type": "stream",
     "text": [
      "('John', 99)\n",
      "('Kris', 95)\n",
      "('gary', 90)\n",
      "('Cathy', 85)\n",
      "('James', 80)\n",
      "--------------------------------------------------------------------------------\n"
     ]
    }
   ],
   "source": [
    "results = db.execute(\"select name, score from grades1 order by score desc \")\n",
    "for row in results:\n",
    "    print(row)\n",
    "print(\"-\" * 80 )"
   ]
  },
  {
   "cell_type": "code",
   "execution_count": null,
   "metadata": {
    "collapsed": true,
    "id": "tNKZ98zR_s6w",
    "outputId": "d44b4311-99ac-4876-b378-0ff51d99f55a"
   },
   "outputs": [
    {
     "data": {
      "text/plain": [
       "'/Users/akshaysingh/Desktop/Machine Learning/Python_Revision'"
      ]
     },
     "execution_count": 51,
     "metadata": {
      "tags": []
     },
     "output_type": "execute_result"
    }
   ],
   "source": [
    "pwd()"
   ]
  },
  {
   "cell_type": "markdown",
   "metadata": {
    "id": "4Lq_igds_s6w"
   },
   "source": [
    "## Modules and Packages"
   ]
  },
  {
   "cell_type": "markdown",
   "metadata": {
    "id": "FK3GMx8n_s6x"
   },
   "source": [
    "* **Modules in Python are simply Python files with the .py extension, which implement a set of functions. Modules are imported from other modules using the import command.**"
   ]
  },
  {
   "cell_type": "code",
   "execution_count": null,
   "metadata": {
    "collapsed": true,
    "id": "7Lq9LP9u_s6x"
   },
   "outputs": [],
   "source": [
    "# import the library\n",
    "import math"
   ]
  },
  {
   "cell_type": "code",
   "execution_count": null,
   "metadata": {
    "collapsed": true,
    "id": "q4JBZt6r_s6x",
    "outputId": "461135cf-cf43-4888-8782-3058e41bc83b"
   },
   "outputs": [
    {
     "name": "stdout",
     "output_type": "stream",
     "text": [
      "3\n",
      "23\n",
      "4.0\n",
      "5.0875\n"
     ]
    }
   ],
   "source": [
    "# use it (ceiling rounding)\n",
    "print(math.ceil(2.4))\n",
    "print(math.floor(23.56))\n",
    "print(math.sqrt(16))\n",
    "print(round(math.log2(34),4))"
   ]
  },
  {
   "cell_type": "markdown",
   "metadata": {
    "id": "o1VJjDqb_s6x"
   },
   "source": [
    "### Exploring built-in modules"
   ]
  },
  {
   "cell_type": "code",
   "execution_count": null,
   "metadata": {
    "collapsed": true,
    "id": "yv-JyXXD_s6x",
    "outputId": "cfed5012-e0ee-4f50-ada6-891791c54bc8"
   },
   "outputs": [
    {
     "name": "stdout",
     "output_type": "stream",
     "text": [
      "['__doc__', '__file__', '__loader__', '__name__', '__package__', '__spec__', 'acos', 'acosh', 'asin', 'asinh', 'atan', 'atan2', 'atanh', 'ceil', 'copysign', 'cos', 'cosh', 'degrees', 'e', 'erf', 'erfc', 'exp', 'expm1', 'fabs', 'factorial', 'floor', 'fmod', 'frexp', 'fsum', 'gamma', 'gcd', 'hypot', 'inf', 'isclose', 'isfinite', 'isinf', 'isnan', 'ldexp', 'lgamma', 'log', 'log10', 'log1p', 'log2', 'modf', 'nan', 'pi', 'pow', 'radians', 'remainder', 'sin', 'sinh', 'sqrt', 'tan', 'tanh', 'tau', 'trunc']\n"
     ]
    }
   ],
   "source": [
    "print(dir(math))"
   ]
  },
  {
   "cell_type": "markdown",
   "metadata": {
    "id": "XqjLAvWx_s6x"
   },
   "source": [
    "**While exploring modules in Python, two important functions come in handy - the dir and help functions and shift + Tab also very handy**"
   ]
  },
  {
   "cell_type": "code",
   "execution_count": null,
   "metadata": {
    "collapsed": true,
    "id": "57qmKW3P_s6x",
    "outputId": "d0bb257d-05a7-4f2a-b82b-b4b4f60310ab"
   },
   "outputs": [
    {
     "name": "stdout",
     "output_type": "stream",
     "text": [
      "Help on built-in function ceil in module math:\n",
      "\n",
      "ceil(x, /)\n",
      "    Return the ceiling of x as an Integral.\n",
      "    \n",
      "    This is the smallest integer >= x.\n",
      "\n"
     ]
    }
   ],
   "source": [
    "help(math.ceil)"
   ]
  },
  {
   "cell_type": "markdown",
   "metadata": {
    "id": "rYeItwOj_s6x"
   },
   "source": [
    "### Writing modules"
   ]
  },
  {
   "cell_type": "markdown",
   "metadata": {
    "id": "vhuJzGyC_s6x"
   },
   "source": [
    "* **Writing Python modules is very simple. To create a module of your own, simply create a new .py file with the module name, and then import it**"
   ]
  },
  {
   "cell_type": "markdown",
   "metadata": {
    "id": "8EosrKDk_s6x"
   },
   "source": [
    "### Writing packages"
   ]
  },
  {
   "cell_type": "markdown",
   "metadata": {
    "id": "cQJOImFJ_s6x"
   },
   "source": [
    "* **Packages are name-spaces which contain multiple packages and modules themselves. They are simply directories, but with a twist.**"
   ]
  },
  {
   "cell_type": "markdown",
   "metadata": {
    "id": "bfemMnZL_s6y"
   },
   "source": [
    "***The twist is, each package in Python is a directory which MUST contain a special file called _init_.py. This file can be empty, and it indicates that the directory it contains is a Python package, so it can be imported the same way a module can be imported.***"
   ]
  },
  {
   "cell_type": "markdown",
   "metadata": {
    "id": "gQLnQGG8_s6y"
   },
   "source": [
    "* **for example, If we create a directory called foo, which marks the package name, we can then create a module inside that package called bar. We also must not forget to add the _init_.py file inside the foo directory.**\n",
    "\n",
    "***To use the module bar, we can import it in two ways:***"
   ]
  },
  {
   "cell_type": "markdown",
   "metadata": {
    "id": "NX7oAk3K_s6y"
   },
   "source": [
    "* **NOTE: what should be in init.py module in side package(folder)**\n",
    "    * NOTE this module can either empty or may be contain some initialization code itself \n",
    "    * example by which we can access or import a module from inside some nested packages "
   ]
  },
  {
   "cell_type": "markdown",
   "metadata": {
    "id": "Rwcwjj1u_s6y"
   },
   "source": [
    "<img src=\"https://github.com/AkshaySingh-DS/MachineLearning_and_DataScience_Concept/blob/main/Rivision_Notebooks/PackageModuleStructure.jpg?raw=1\">"
   ]
  },
  {
   "cell_type": "markdown",
   "metadata": {
    "id": "Sixj7Aa7_s6y"
   },
   "source": [
    "* ***Example in order to access open module:***\n",
    "    * import Game.Image.open"
   ]
  },
  {
   "cell_type": "markdown",
   "metadata": {
    "id": "Uz8HZQ1k_s6y"
   },
   "source": [
    "### Importing Modules\n",
    "* **import all from a module**\n",
    "    * from math import *\n",
    "* **import only module**\n",
    "    * import module_name\n",
    "* **import specific method from module**\n",
    "    * From math import sqrt"
   ]
  },
  {
   "cell_type": "markdown",
   "metadata": {
    "id": "XuTogoth_s6y"
   },
   "source": [
    "### getting name of all methods inside a module  -->  dir(module_name) "
   ]
  },
  {
   "cell_type": "code",
   "execution_count": null,
   "metadata": {
    "collapsed": true,
    "id": "kQ5t2BZ3_s6y"
   },
   "outputs": [],
   "source": [
    "# Just an example, this won't work\n",
    "import foo.bar"
   ]
  },
  {
   "cell_type": "code",
   "execution_count": null,
   "metadata": {
    "collapsed": true,
    "id": "EPdYug55_s6y"
   },
   "outputs": [],
   "source": [
    "# OR could do it this way\n",
    "from foo import bar"
   ]
  },
  {
   "cell_type": "markdown",
   "metadata": {
    "id": "R13srzRi_s6y"
   },
   "source": [
    "**The _init_.py file can also decide which modules the package exports as the API, while keeping other modules internal, by overriding the _all_ variable, like so:**"
   ]
  },
  {
   "cell_type": "code",
   "execution_count": null,
   "metadata": {
    "collapsed": true,
    "id": "sxOpXcgP_s6y"
   },
   "outputs": [],
   "source": [
    "__init__.py:\n",
    "\n",
    "__all__ = [\"bar\"]"
   ]
  },
  {
   "cell_type": "code",
   "execution_count": null,
   "metadata": {
    "collapsed": true,
    "id": "ghh1UiiJ_s6z",
    "outputId": "4fff5a06-9963-4aca-b90c-18ccb6a45276"
   },
   "outputs": [
    {
     "data": {
      "text/plain": [
       "'/Users/akshaysingh/Desktop/Machine Learning/Python_Revision'"
      ]
     },
     "execution_count": 1,
     "metadata": {
      "tags": []
     },
     "output_type": "execute_result"
    }
   ],
   "source": [
    "pwd()"
   ]
  },
  {
   "cell_type": "markdown",
   "metadata": {
    "id": "rZp7rTVk_s60"
   },
   "source": [
    "## Pyhton Debugger(PDB)"
   ]
  },
  {
   "cell_type": "markdown",
   "metadata": {
    "id": "9Z4z-9Mf_s60"
   },
   "source": [
    "* PDB pdb implements an interactive debugging environment for Python programs.It includes features to let you pause your program, look at the values of variables, and watch program execution step-by-step, so you can understand what your program actually does and find bugs in the logic."
   ]
  },
  {
   "cell_type": "markdown",
   "metadata": {
    "id": "-pFRTuUh_s60"
   },
   "source": [
    "* ***mainly use features to keep track of logic bug***    \n",
    "    * c : continue\n",
    "    * q: quit(left some error)\n",
    "    * h: help(give you all option needed with pdb)\n",
    "    *  list\n",
    "    * p: print\n",
    "    * p locals()\n",
    "    * p globals()"
   ]
  },
  {
   "cell_type": "code",
   "execution_count": null,
   "metadata": {
    "collapsed": true,
    "id": "3AwokV5f_s60",
    "outputId": "d558f0cc-97d4-47b6-fe51-a94e372a5826"
   },
   "outputs": [
    {
     "name": "stdout",
     "output_type": "stream",
     "text": [
      "> <ipython-input-5-dd130199fde2>(4)test_pdb()\n",
      "-> print(i)\n",
      "(Pdb) c\n",
      "0\n",
      "> <ipython-input-5-dd130199fde2>(3)test_pdb()\n",
      "-> pdb.set_trace() # breakpoint\n",
      "(Pdb) p locals()\n",
      "{'num': 5, 'i': 1}\n",
      "(Pdb) c\n",
      "1\n",
      "> <ipython-input-5-dd130199fde2>(4)test_pdb()\n",
      "-> print(i)\n",
      "(Pdb) p locals()\n",
      "{'num': 5, 'i': 2}\n",
      "(Pdb) h\n",
      "\n",
      "Documented commands (type help <topic>):\n",
      "========================================\n",
      "EOF    c          d        h         list      q        rv       undisplay\n",
      "a      cl         debug    help      ll        quit     s        unt      \n",
      "alias  clear      disable  ignore    longlist  r        source   until    \n",
      "args   commands   display  interact  n         restart  step     up       \n",
      "b      condition  down     j         next      return   tbreak   w        \n",
      "break  cont       enable   jump      p         retval   u        whatis   \n",
      "bt     continue   exit     l         pp        run      unalias  where    \n",
      "\n",
      "Miscellaneous help topics:\n",
      "==========================\n",
      "exec  pdb\n",
      "\n",
      "(Pdb) c\n",
      "2\n",
      "> <ipython-input-5-dd130199fde2>(3)test_pdb()\n",
      "-> pdb.set_trace() # breakpoint\n",
      "(Pdb) c\n",
      "3\n",
      "> <ipython-input-5-dd130199fde2>(4)test_pdb()\n",
      "-> print(i)\n",
      "(Pdb) p locals()\n",
      "{'num': 5, 'i': 4}\n",
      "(Pdb) c\n",
      "4\n"
     ]
    }
   ],
   "source": [
    "def test_pdb(num):\n",
    "  for i in range(num):\n",
    "     pdb.set_trace() # breakpoint\n",
    "     print(i)\n",
    "\n",
    "test_pdb(5)"
   ]
  },
  {
   "cell_type": "code",
   "execution_count": null,
   "metadata": {
    "collapsed": true,
    "id": "jfZ9gtW1_s60",
    "outputId": "aa8aa5d2-6149-4ba3-f769-e6fb4d9531b0"
   },
   "outputs": [
    {
     "data": {
      "text/html": [
       "<div>\n",
       "<style scoped>\n",
       "    .dataframe tbody tr th:only-of-type {\n",
       "        vertical-align: middle;\n",
       "    }\n",
       "\n",
       "    .dataframe tbody tr th {\n",
       "        vertical-align: top;\n",
       "    }\n",
       "\n",
       "    .dataframe thead th {\n",
       "        text-align: right;\n",
       "    }\n",
       "</style>\n",
       "<table border=\"1\" class=\"dataframe\">\n",
       "  <thead>\n",
       "    <tr style=\"text-align: right;\">\n",
       "      <th></th>\n",
       "      <th>key1</th>\n",
       "      <th>key2</th>\n",
       "      <th>key3</th>\n",
       "    </tr>\n",
       "  </thead>\n",
       "  <tbody>\n",
       "    <tr>\n",
       "      <th>0</th>\n",
       "      <td>1</td>\n",
       "      <td>a</td>\n",
       "      <td>fugrr</td>\n",
       "    </tr>\n",
       "    <tr>\n",
       "      <th>1</th>\n",
       "      <td>2</td>\n",
       "      <td>b</td>\n",
       "      <td>dfwy</td>\n",
       "    </tr>\n",
       "  </tbody>\n",
       "</table>\n",
       "</div>"
      ],
      "text/plain": [
       "   key1 key2   key3\n",
       "0     1    a  fugrr\n",
       "1     2    b   dfwy"
      ]
     },
     "execution_count": 2,
     "metadata": {
      "tags": []
     },
     "output_type": "execute_result"
    }
   ],
   "source": [
    "import pandas as pd\n",
    "df = pd.DataFrame({'key1': [1,2],'key2': ['a','b'], 'key3': ['fugrr','dfwy']})\n",
    "df"
   ]
  },
  {
   "cell_type": "code",
   "execution_count": null,
   "metadata": {
    "collapsed": true,
    "id": "TPKzclw4_s60"
   },
   "outputs": [],
   "source": [
    "df=None"
   ]
  },
  {
   "cell_type": "code",
   "execution_count": null,
   "metadata": {
    "collapsed": true,
    "id": "SFp4nq0T_s61",
    "outputId": "92a723c6-f7ff-4a48-d442-58ee82fb4500"
   },
   "outputs": [
    {
     "ename": "AttributeError",
     "evalue": "'NoneType' object has no attribute 'head'",
     "output_type": "error",
     "traceback": [
      "\u001b[0;31m---------------------------------------------------------------------------\u001b[0m",
      "\u001b[0;31mAttributeError\u001b[0m                            Traceback (most recent call last)",
      "\u001b[0;32m<ipython-input-4-c42a15b2c7cf>\u001b[0m in \u001b[0;36m<module>\u001b[0;34m\u001b[0m\n\u001b[0;32m----> 1\u001b[0;31m \u001b[0mdf\u001b[0m\u001b[0;34m.\u001b[0m\u001b[0mhead\u001b[0m\u001b[0;34m(\u001b[0m\u001b[0;34m)\u001b[0m\u001b[0;34m\u001b[0m\u001b[0;34m\u001b[0m\u001b[0m\n\u001b[0m",
      "\u001b[0;31mAttributeError\u001b[0m: 'NoneType' object has no attribute 'head'"
     ]
    }
   ],
   "source": [
    "df.head()"
   ]
  },
  {
   "cell_type": "markdown",
   "metadata": {
    "id": "wELEh8mz_s61"
   },
   "source": [
    "### Collections Module\n",
    "\n",
    "* The collection Module in Python provides different types of containers.  \n",
    "* A Container is an object that is used to store different objects and provide a way to access the contained objects and iterate over them\n",
    "\n",
    "    * Level - 1 -> Counters, OrderedDict, DefaultDict, namedtupled\n",
    "    * Level - 2 -> userdic, userlist, userstring\n",
    "    * Level - 3 -> chainmap, deque"
   ]
  },
  {
   "cell_type": "markdown",
   "metadata": {},
   "source": [
    "* Counters \n",
    "    * A counter is a `sub-class` of the dictionary. \n",
    "    * It is used to keep the count of the elements in an iterable in the form of an `unordered dictionary.`"
   ]
  },
  {
   "cell_type": "code",
   "execution_count": 128,
   "metadata": {},
   "outputs": [
    {
     "name": "stdout",
     "output_type": "stream",
     "text": [
      "Counter({'is': 2, 'Akshay': 1, 'hard': 1, 'working': 1, 'mahn': 1})\n",
      "<class 'collections.Counter'>\n"
     ]
    }
   ],
   "source": [
    "from collections import Counter\n",
    "\n",
    "arr = ['Akshay' , 'is', 'is', 'hard' , 'working', 'mahn']\n",
    "obj = Counter(arr)\n",
    "print(obj)\n",
    "print(type(obj))"
   ]
  },
  {
   "cell_type": "code",
   "execution_count": 8,
   "metadata": {},
   "outputs": [
    {
     "name": "stdout",
     "output_type": "stream",
     "text": [
      "Akshay : 1\n",
      "is : 2\n",
      "hard : 1\n",
      "working : 1\n",
      "mahn : 1\n",
      "----------------------------------------\n",
      "Akshay : 1\n",
      "is : 2\n",
      "hard : 1\n",
      "working : 1\n",
      "mahn : 1\n"
     ]
    }
   ],
   "source": [
    "#iterating over counter\n",
    "for item in obj:\n",
    "    print(f\"{item} : {obj[item]}\")\n",
    "    \n",
    "print(\"--\" * 20)\n",
    "\n",
    "for key, val in obj.items():\n",
    "    print(f\"{key} : {val}\")"
   ]
  },
  {
   "cell_type": "code",
   "execution_count": 9,
   "metadata": {},
   "outputs": [
    {
     "name": "stdout",
     "output_type": "stream",
     "text": [
      "Akshay : 1\n",
      "is : 2\n",
      "hard : 1\n",
      "working : 1\n",
      "mahn : 1\n",
      "unlike : 4\n"
     ]
    }
   ],
   "source": [
    "#updating in counter object\n",
    "obj['unlike'] = 4\n",
    "\n",
    "for item in obj:\n",
    "    print(f\"{item} : {obj[item]}\")"
   ]
  },
  {
   "cell_type": "markdown",
   "metadata": {},
   "source": [
    "* some useful methods of counter same as dictionary\n",
    "* since counter is a dictionary"
   ]
  },
  {
   "cell_type": "code",
   "execution_count": 129,
   "metadata": {},
   "outputs": [
    {
     "name": "stdout",
     "output_type": "stream",
     "text": [
      "Counter({'a': 2, 'h': 2, 'k': 1, 's': 1, 'y': 1, 'S': 1, 'i': 1, 'n': 1, 'g': 1})\n",
      "Counter({'a': 3, 'c': 2, 'b': 1, 'L': 1, 'x': 1})\n"
     ]
    }
   ],
   "source": [
    "#play with some others iterable\n",
    "print(Counter(\"akshaySingh\"))\n",
    "print(Counter(('a', 'b', 'c', 'a', 'L', 'x', 'a', 'c')))"
   ]
  },
  {
   "cell_type": "markdown",
   "metadata": {},
   "source": [
    "* OrderedDict\n",
    "\n",
    "    * An OrderedDict is also a `sub-class of dictionary` but unlike dictionary, it `remembers the order` in which the keys were inserted. \n",
    "    * Ordered dict in `Python version 2.7 consumes` more memory than normal dict.\n",
    "    * This is due to the underlying Doubly Linked List implementation for keeping the order."
   ]
  },
  {
   "cell_type": "code",
   "execution_count": 130,
   "metadata": {},
   "outputs": [],
   "source": [
    "from collections import OrderedDict\n",
    "dic = OrderedDict()"
   ]
  },
  {
   "cell_type": "code",
   "execution_count": 131,
   "metadata": {},
   "outputs": [
    {
     "name": "stdout",
     "output_type": "stream",
     "text": [
      "OrderedDict()\n",
      "<class 'collections.OrderedDict'>\n"
     ]
    }
   ],
   "source": [
    "print(dic)\n",
    "print(type(dic))"
   ]
  },
  {
   "cell_type": "code",
   "execution_count": 41,
   "metadata": {},
   "outputs": [
    {
     "name": "stdout",
     "output_type": "stream",
     "text": [
      "OrderedDict([('A', 5), ('B', 2), ('C', 12), ('E', 21), ('F', 8)])\n"
     ]
    }
   ],
   "source": [
    "dic.update({'A': 5, \"B\": 2, 'C': 12, 'E':21, 'F': 8})\n",
    "print(dic)"
   ]
  },
  {
   "cell_type": "code",
   "execution_count": 42,
   "metadata": {},
   "outputs": [
    {
     "name": "stdout",
     "output_type": "stream",
     "text": [
      "A : 5\n",
      "B : 2\n",
      "C : 12\n",
      "E : 21\n",
      "F : 8\n"
     ]
    }
   ],
   "source": [
    "#now use it just like dictionary\n",
    "for key, val in dic.items():\n",
    "    print(f\"{key} : {val}\")\n",
    "    "
   ]
  },
  {
   "cell_type": "code",
   "execution_count": 43,
   "metadata": {},
   "outputs": [
    {
     "name": "stdout",
     "output_type": "stream",
     "text": [
      "key B of 2 value is deleted\n",
      "A : 5\n",
      "C : 12\n",
      "E : 21\n",
      "F : 8\n",
      "B : 2\n"
     ]
    }
   ],
   "source": [
    "val = dic.pop('B')\n",
    "print(f\"key B of {val} value is deleted\")\n",
    "\n",
    "dic['B'] = val\n",
    "\n",
    "#now observe the order after inseting key\n",
    "for key, val in dic.items():\n",
    "    print(f\"{key} : {val}\")"
   ]
  },
  {
   "cell_type": "markdown",
   "metadata": {},
   "source": [
    "* defaultdict\n",
    "\n",
    "    * It is used to provide some default values for the key that does not exist and never raises a KeyError. \n",
    "    * `default_factory` is a function that provides the `default value` for the dictionary created. If this parameter is absent then the `KeyError is raised`."
   ]
  },
  {
   "cell_type": "code",
   "execution_count": 132,
   "metadata": {},
   "outputs": [
    {
     "name": "stdout",
     "output_type": "stream",
     "text": [
      "defaultdict(<class 'int'>, {1: 3, 2: 3, 4: 2, 3: 2, 5: 1})\n",
      "----------------------------------------\n"
     ]
    },
    {
     "ename": "KeyError",
     "evalue": "1",
     "output_type": "error",
     "traceback": [
      "\u001b[0;31m---------------------------------------------------------------------------\u001b[0m",
      "\u001b[0;31mKeyError\u001b[0m                                  Traceback (most recent call last)",
      "\u001b[0;32m<ipython-input-132-db75f56c7281>\u001b[0m in \u001b[0;36m<module>\u001b[0;34m\u001b[0m\n\u001b[1;32m     13\u001b[0m \u001b[0;31m#this gave you an error if jey is not found\u001b[0m\u001b[0;34m\u001b[0m\u001b[0;34m\u001b[0m\u001b[0;34m\u001b[0m\u001b[0m\n\u001b[1;32m     14\u001b[0m \u001b[0;32mfor\u001b[0m \u001b[0mi\u001b[0m \u001b[0;32min\u001b[0m \u001b[0mlis\u001b[0m\u001b[0;34m:\u001b[0m\u001b[0;34m\u001b[0m\u001b[0;34m\u001b[0m\u001b[0m\n\u001b[0;32m---> 15\u001b[0;31m     \u001b[0mdic2\u001b[0m\u001b[0;34m[\u001b[0m\u001b[0mi\u001b[0m\u001b[0;34m]\u001b[0m \u001b[0;34m+=\u001b[0m \u001b[0;36m1\u001b[0m\u001b[0;34m\u001b[0m\u001b[0;34m\u001b[0m\u001b[0m\n\u001b[0m",
      "\u001b[0;31mKeyError\u001b[0m: 1"
     ]
    }
   ],
   "source": [
    "from collections import defaultdict\n",
    "dic = defaultdict(int)\n",
    "lis = [1, 1, 2, 4, 2, 2, 3, 4 ,1, 5, 3]\n",
    "\n",
    "for i in lis:\n",
    "    dic[i] += 1\n",
    "\n",
    "print(dic)\n",
    "\n",
    "print('--' * 20)\n",
    "\n",
    "dic2 = defaultdict()\n",
    "#this gave you an error if jey is not found\n",
    "for i in lis:\n",
    "    dic2[i] += 1"
   ]
  },
  {
   "cell_type": "code",
   "execution_count": 54,
   "metadata": {},
   "outputs": [
    {
     "name": "stdout",
     "output_type": "stream",
     "text": [
      "defaultdict(<class 'str'>, {'c': 'suffixsuffix', 'a': 'suffixsuffix', 'd': 'suffix', 'p': 'suffix', 'i': 'suffix', 'w': 'suffix'})\n"
     ]
    }
   ],
   "source": [
    "chars = ['c', 'a', 'd', 'p', 'i', 'w', 'c', 'a']\n",
    "dic2 = defaultdict(str)\n",
    "\n",
    "for char in chars:\n",
    "    dic2[char]+= 'suffix'\n",
    "\n",
    "print(dic2)"
   ]
  },
  {
   "cell_type": "markdown",
   "metadata": {},
   "source": [
    "* namedtuple\n",
    "\n",
    "    * It returns a tuple object.\n",
    "    * This tuple object has two things\n",
    "    \n",
    "        - first name of the tuple\n",
    "        - 2nd attributes/fields of tuple"
   ]
  },
  {
   "cell_type": "code",
   "execution_count": 134,
   "metadata": {},
   "outputs": [
    {
     "name": "stdout",
     "output_type": "stream",
     "text": [
      "Employee(id=101, name='John', age=23, salary='1000$')\n",
      "<class 'type'>\n",
      "<class '__main__.Employee'>\n"
     ]
    }
   ],
   "source": [
    "from collections import namedtuple\n",
    "\n",
    "#create named tuple object\n",
    "employee = namedtuple('Employee', ['id', 'name', 'age', 'salary'])\n",
    "\n",
    "#create 1st employee\n",
    "emp1 = employee(101, 'John', 23, '1000$')\n",
    "\n",
    "print(emp1)\n",
    "print(type(employee))\n",
    "print(type(emp1))"
   ]
  },
  {
   "cell_type": "code",
   "execution_count": 75,
   "metadata": {},
   "outputs": [
    {
     "name": "stdout",
     "output_type": "stream",
     "text": [
      "Emplyee details: name = John,       age = 23,       salary = 1000$\n",
      "----------------------------------------\n",
      "Employee data: id = 101, name = John,  age = 23\n"
     ]
    }
   ],
   "source": [
    "#fetch the attributes of named tuple \n",
    "\n",
    "#using fields name\n",
    "print(f\"Emplyee details: name = {emp1.name}, \\\n",
    "      age = {emp1.age}, \\\n",
    "      salary = {emp1.salary}\" \n",
    ")\n",
    "\n",
    "print('--'* 20)\n",
    "\n",
    "#using indices of fields\n",
    "print(f\"Employee data: id = {emp1[0]}, name = {emp1[1]},  age = {emp1[2]}\")"
   ]
  },
  {
   "cell_type": "code",
   "execution_count": 78,
   "metadata": {
    "collapsed": true
   },
   "outputs": [
    {
     "data": {
      "text/plain": [
       "1"
      ]
     },
     "execution_count": 78,
     "metadata": {},
     "output_type": "execute_result"
    }
   ],
   "source": [
    "#number of occurenece of a specific value\n",
    "emp1.count('John')"
   ]
  },
  {
   "cell_type": "code",
   "execution_count": 82,
   "metadata": {
    "collapsed": true
   },
   "outputs": [
    {
     "data": {
      "text/plain": [
       "3"
      ]
     },
     "execution_count": 82,
     "metadata": {},
     "output_type": "execute_result"
    }
   ],
   "source": [
    "#give the indices\n",
    "emp1.index('1000$')"
   ]
  },
  {
   "cell_type": "markdown",
   "metadata": {},
   "source": [
    "* _fields\n",
    "* _replace"
   ]
  },
  {
   "cell_type": "code",
   "execution_count": 90,
   "metadata": {},
   "outputs": [
    {
     "name": "stdout",
     "output_type": "stream",
     "text": [
      "('id', 'name', 'age', 'salary')\n"
     ]
    },
    {
     "ename": "AttributeError",
     "evalue": "can't set attribute",
     "output_type": "error",
     "traceback": [
      "\u001b[0;31m---------------------------------------------------------------------------\u001b[0m",
      "\u001b[0;31mAttributeError\u001b[0m                            Traceback (most recent call last)",
      "\u001b[0;32m<ipython-input-90-d858ac3debab>\u001b[0m in \u001b[0;36m<module>\u001b[0;34m\u001b[0m\n\u001b[1;32m      3\u001b[0m \u001b[0;34m\u001b[0m\u001b[0m\n\u001b[1;32m      4\u001b[0m \u001b[0;31m#replace the attribute value\u001b[0m\u001b[0;34m\u001b[0m\u001b[0;34m\u001b[0m\u001b[0;34m\u001b[0m\u001b[0m\n\u001b[0;32m----> 5\u001b[0;31m \u001b[0memp1\u001b[0m\u001b[0;34m.\u001b[0m\u001b[0mname\u001b[0m \u001b[0;34m=\u001b[0m \u001b[0;34m'Kumelator'\u001b[0m\u001b[0;34m\u001b[0m\u001b[0;34m\u001b[0m\u001b[0m\n\u001b[0m\u001b[1;32m      6\u001b[0m \u001b[0;34m\u001b[0m\u001b[0m\n\u001b[1;32m      7\u001b[0m \u001b[0;34m\u001b[0m\u001b[0m\n",
      "\u001b[0;31mAttributeError\u001b[0m: can't set attribute"
     ]
    }
   ],
   "source": [
    "#get all fields of name tuple object\n",
    "print(emp1._fields)\n",
    "\n",
    "#replace the attribute value -> this will not work\n",
    "emp1.name = 'Kumelator'"
   ]
  },
  {
   "cell_type": "code",
   "execution_count": 136,
   "metadata": {},
   "outputs": [
    {
     "name": "stdout",
     "output_type": "stream",
     "text": [
      "Employee(id=101, name='John', age=23, salary='1000$')\n",
      "----------------------------------------\n",
      "Employee(id=101, name='Marry Rose', age=26, salary='1000$')\n"
     ]
    }
   ],
   "source": [
    "#hence use _replace to change the fields name but \n",
    "#since it's tuple hence we can't change the original object \n",
    "emp1._replace(name='Marry Rose', age = 26)\n",
    "print(emp1)\n",
    "\n",
    "#return the updated 2nd tuple\n",
    "print('--' * 20)\n",
    "emp2 = emp1._replace(name='Marry Rose', age = 26)\n",
    "print(emp2)"
   ]
  },
  {
   "cell_type": "markdown",
   "metadata": {},
   "source": [
    "* make()\n",
    "    * make(iterable_) takes the iterable and return the namedTuple \n",
    "*_asdict \n",
    "    * convert namedTuple Object into an ordinary dictionary"
   ]
  },
  {
   "cell_type": "code",
   "execution_count": 138,
   "metadata": {},
   "outputs": [
    {
     "name": "stdout",
     "output_type": "stream",
     "text": [
      "Employee(id=109, name='Daniel', age=32, salary='4500$')\n",
      "Employee(id=101, name='John', age=23, salary='1000$')\n"
     ]
    }
   ],
   "source": [
    "var = [109, 'Daniel', 32, '4500$']\n",
    "print(emp1._make(var)) #again it will create new namedTuple object instead of replacing current\n",
    "print(emp1)"
   ]
  },
  {
   "cell_type": "code",
   "execution_count": 140,
   "metadata": {},
   "outputs": [
    {
     "name": "stdout",
     "output_type": "stream",
     "text": [
      "{'id': 101, 'name': 'John', 'age': 23, 'salary': '1000$'}\n",
      "<class 'dict'>\n"
     ]
    }
   ],
   "source": [
    "#return attribute as a key value pair\n",
    "dic = emp1._asdict()\n",
    "print(dic)\n",
    "print(type(dic))"
   ]
  },
  {
   "cell_type": "markdown",
   "metadata": {},
   "source": [
    "* deque\n",
    "    * It provides O(1) time complexity for append and pop operations as compared to list which takes O(n) time complexity.\n",
    "    * Has almost all methods just like Ordinary list "
   ]
  },
  {
   "cell_type": "code",
   "execution_count": 122,
   "metadata": {},
   "outputs": [
    {
     "name": "stdout",
     "output_type": "stream",
     "text": [
      "deque(['xyz', 'SDE', 'AI'])\n"
     ]
    }
   ],
   "source": [
    "from collections import deque\n",
    "\n",
    "#create deque object, deque takes iterable as an object\n",
    "iterable = ['xyz', 'SDE', 'AI']\n",
    "dq = deque(iterable)\n",
    "\n",
    "print(dq)"
   ]
  },
  {
   "cell_type": "code",
   "execution_count": 123,
   "metadata": {},
   "outputs": [
    {
     "name": "stdout",
     "output_type": "stream",
     "text": [
      "deque(['xyz', 'SDE', 'AI', 'ML'])\n",
      "deque(['DevOps', 'xyz', 'SDE', 'AI', 'ML'])\n",
      "deque(['DevOps', 'xyz', 'SDE', 'FULL STACK', 'AI', 'ML'])\n"
     ]
    }
   ],
   "source": [
    "#Insertion in deque\n",
    "\n",
    "#insertion from rear\n",
    "dq.append('ML')\n",
    "print(dq)\n",
    "\n",
    "#insertion from front\n",
    "dq.appendleft('DevOps')\n",
    "print(dq)\n",
    "\n",
    "#less useful\n",
    "dq.insert(3, 'FULL STACK')\n",
    "print(dq)"
   ]
  },
  {
   "cell_type": "code",
   "execution_count": 124,
   "metadata": {},
   "outputs": [
    {
     "name": "stdout",
     "output_type": "stream",
     "text": [
      "deque(['DevOps', 'xyz', 'SDE', 'FULL STACK', 'AI'])\n",
      "deque(['xyz', 'SDE', 'FULL STACK', 'AI'])\n"
     ]
    }
   ],
   "source": [
    "#deletion in deque\n",
    "\n",
    "dq.pop() #delete from right\n",
    "print(dq)\n",
    "\n",
    "dq.popleft() #delete from left\n",
    "print(dq)"
   ]
  },
  {
   "cell_type": "markdown",
   "metadata": {},
   "source": [
    "* ChainMap\n",
    "    * encapsulates many dictionaries into a single unit and returns a list of dictionaries."
   ]
  },
  {
   "cell_type": "code",
   "execution_count": 150,
   "metadata": {},
   "outputs": [
    {
     "name": "stdout",
     "output_type": "stream",
     "text": [
      "ChainMap({'a': 2, 'c': 6}, {'b': 5, 'e': 9}, {'q': 2, 'l': 6}, {'a': 4, 'k': 6, 'q': 10})\n",
      "<class 'collections.ChainMap'>\n"
     ]
    }
   ],
   "source": [
    "from collections import ChainMap\n",
    "\n",
    "d1 = {'a': 2, 'c': 6}\n",
    "d2 = {'b': 5, 'e': 9}\n",
    "d3 = {'q': 2, 'l': 6}\n",
    "\n",
    "#lets create dic which have some common keys from above\n",
    "d4 = {'a': 4, 'k': 6, 'q':10}\n",
    "chainList = ChainMap(d1, d2, d3, d4)\n",
    "print(chainList)\n",
    "print(type(chainList))"
   ]
  },
  {
   "cell_type": "code",
   "execution_count": 151,
   "metadata": {
    "scrolled": false
   },
   "outputs": [
    {
     "name": "stdout",
     "output_type": "stream",
     "text": [
      "a\n",
      "k\n",
      "q\n",
      "l\n",
      "b\n",
      "e\n",
      "c\n"
     ]
    }
   ],
   "source": [
    "#observed we are getting unique keys and fromlast\n",
    "for gp in chainList:\n",
    "    print(gp)"
   ]
  },
  {
   "cell_type": "code",
   "execution_count": 152,
   "metadata": {},
   "outputs": [
    {
     "data": {
      "text/plain": [
       "[2, 6, 2, 6, 5, 9, 6]"
      ]
     },
     "execution_count": 152,
     "metadata": {},
     "output_type": "execute_result"
    }
   ],
   "source": [
    "list(chainList.values())"
   ]
  },
  {
   "cell_type": "code",
   "execution_count": 153,
   "metadata": {},
   "outputs": [
    {
     "data": {
      "text/plain": [
       "['a', 'k', 'q', 'l', 'b', 'e', 'c']"
      ]
     },
     "execution_count": 153,
     "metadata": {},
     "output_type": "execute_result"
    }
   ],
   "source": [
    "list(chainList.keys())"
   ]
  },
  {
   "cell_type": "code",
   "execution_count": 154,
   "metadata": {},
   "outputs": [
    {
     "data": {
      "text/plain": [
       "[{'a': 2, 'c': 6},\n",
       " {'b': 5, 'e': 9},\n",
       " {'q': 2, 'l': 6},\n",
       " {'a': 4, 'k': 6, 'q': 10}]"
      ]
     },
     "execution_count": 154,
     "metadata": {},
     "output_type": "execute_result"
    }
   ],
   "source": [
    "chainList.maps"
   ]
  },
  {
   "cell_type": "markdown",
   "metadata": {},
   "source": [
    "### Data Base connectivity with python"
   ]
  },
  {
   "cell_type": "markdown",
   "metadata": {
    "collapsed": true
   },
   "source": [
    "###  Regex "
   ]
  },
  {
   "cell_type": "code",
   "execution_count": 3,
   "metadata": {},
   "outputs": [
    {
     "name": "stdout",
     "output_type": "stream",
     "text": [
      "17\n"
     ]
    },
    {
     "data": {
      "text/plain": [
       "<re.Match object; span=(0, 17), match='The rain in Spain'>"
      ]
     },
     "execution_count": 3,
     "metadata": {},
     "output_type": "execute_result"
    }
   ],
   "source": [
    "import re\n",
    "\n",
    "txt = \"The rain in Spain\"\n",
    "print(len(txt))\n",
    "x = re.search(\"^The.*Spain$\", txt)\n",
    "x"
   ]
  },
  {
   "cell_type": "code",
   "execution_count": 4,
   "metadata": {},
   "outputs": [
    {
     "data": {
      "text/plain": [
       "0"
      ]
     },
     "execution_count": 4,
     "metadata": {},
     "output_type": "execute_result"
    }
   ],
   "source": [
    "x.pos"
   ]
  },
  {
   "cell_type": "markdown",
   "metadata": {},
   "source": [
    "* Character -->\tDescription -->\tExample\t\n",
    "\n",
    "* [] -->  A set of characters --> [a-m]\n",
    "\n",
    "* \\ --> Signals a special sequence (can also be used to escape special characters) -->\t\"\\d\"\t\n",
    "* .\t--> Any character (except newline character)-->\t\"he..o\"\t \n",
    "* ^\t--> Starts with\t--> \"^hello\" \n",
    "* $\t--> Ends with\t--> \"planet$\" \n",
    "* `*`Zero or more occurrences --> \"he.*o\"\t\n",
    "* + -->\tOne or more occurrences\t--> \"he.+o\" \n",
    "* ? --> Zero or one occurrences\t--> \"he.?o\"\t \n",
    "* {} --> Exactly the specified number of occurrences\t--> \"he.{2}o\"\n",
    "* `|`\tEither or\t--> \"fallsstays\""
   ]
  },
  {
   "cell_type": "markdown",
   "metadata": {},
   "source": [
    "* \\w -->\tMatches any alphanumeric character, this is equivalent to the class [a-zA-Z0-9_].\n",
    "* \\W -->\tMatches any non-alphanumeric character.\n",
    "* \\s -->\tMatches any whitespace character.\n",
    "* \\S -->\tMatches any non-whitespace character\n",
    "* \\D --> Matches any non-digit character, this is equivalent to the set class [^0-9]\n",
    "* \\d -->\tMatches any decimal digit, this is equivalent to the set class [0-9]\n",
    "* \\b --> Returns a match where the specified characters are at the beginning or at the end of a word"
   ]
  },
  {
   "cell_type": "markdown",
   "metadata": {},
   "source": [
    "#### re.search\n",
    "* re.search() method either returns None (if the pattern doesn’t match), or a re.MatchObject that contains information about the matching part of the string.\n",
    "* This method stops after the first match, "
   ]
  },
  {
   "cell_type": "code",
   "execution_count": 23,
   "metadata": {},
   "outputs": [
    {
     "name": "stdout",
     "output_type": "stream",
     "text": [
      "<re.Match object; span=(12, 17), match='Spain'>\n",
      "Spain\n",
      "12\n",
      "17\n"
     ]
    }
   ],
   "source": [
    "#example1 basic\n",
    "txt = \"The rain in Spain\"\n",
    "match = re.search(r\"\\bS\\w+\", txt)\n",
    "print(match)\n",
    "print(match.group())\n",
    "print(match.start())\n",
    "print(match.end())"
   ]
  },
  {
   "cell_type": "code",
   "execution_count": 29,
   "metadata": {},
   "outputs": [
    {
     "name": "stdout",
     "output_type": "stream",
     "text": [
      "Match at index 14, 21\n",
      "Full match: June 24\n"
     ]
    }
   ],
   "source": [
    "#Example2 \n",
    "regex = r\"([a-zA-Z]+) (\\d+)\"\n",
    "match = re.search(regex, \"I was born on June 24\") \n",
    "if match != None:\n",
    "    print(\"Match at index % s, % s\" % (match.start(), match.end())) \n",
    "    print(\"Full match: % s\" % (match.group()))"
   ]
  },
  {
   "cell_type": "code",
   "execution_count": 33,
   "metadata": {},
   "outputs": [
    {
     "name": "stdout",
     "output_type": "stream",
     "text": [
      "therec is no match\n"
     ]
    }
   ],
   "source": [
    "#example3 when match not found\n",
    "regex = r\"([a-zA-Z]+) (\\d+)\"\n",
    "match = re.search(regex, \"I was born on June\") #return None if no match\n",
    "if match != None:\n",
    "    print(\"Match at index % s, % s\" % (match.start(), match.end())) \n",
    "    print(\"Full match: % s\" % (match.group()))\n",
    "else:\n",
    "    print('therec is no match')\n",
    "    "
   ]
  },
  {
   "cell_type": "markdown",
   "metadata": {},
   "source": [
    "#### re.findall\n",
    "\n",
    "* Return all non-overlapping matches of pattern in string, as a list of strings. "
   ]
  },
  {
   "cell_type": "code",
   "execution_count": 34,
   "metadata": {},
   "outputs": [
    {
     "name": "stdout",
     "output_type": "stream",
     "text": [
      "['ai', 'ai']\n"
     ]
    }
   ],
   "source": [
    "#example1\n",
    "txt = \"The rain in Spain\"\n",
    "x = re.findall(\"ai\", txt)\n",
    "print(x)"
   ]
  },
  {
   "cell_type": "code",
   "execution_count": 36,
   "metadata": {},
   "outputs": [
    {
     "name": "stdout",
     "output_type": "stream",
     "text": [
      "['123456789', '987654321']\n"
     ]
    }
   ],
   "source": [
    "#example2\n",
    "string = \"\"\"Hello my Number is 123456789 and \n",
    "             my friend's number is 987654321\"\"\"\n",
    "    \n",
    "# A sample regular expression to find digits. \n",
    "regex = '\\d+'             \n",
    "    \n",
    "match = re.findall(regex, string)  #return empty string if match not found\n",
    "print(match) "
   ]
  },
  {
   "cell_type": "code",
   "execution_count": 65,
   "metadata": {},
   "outputs": [
    {
     "name": "stdout",
     "output_type": "stream",
     "text": [
      "[]\n"
     ]
    }
   ],
   "source": [
    "#example when no match\n",
    "txt = \"The rain in Spain\"\n",
    "x = re.findall(\"Portugal\", txt)\n",
    "print(x)"
   ]
  },
  {
   "cell_type": "markdown",
   "metadata": {},
   "source": [
    "#### re.compile() "
   ]
  },
  {
   "cell_type": "markdown",
   "metadata": {},
   "source": [
    "* Regular expressions are compiled into pattern objects\n",
    "* which have methods for various operations such as searching for pattern matches or performing string substitutions. "
   ]
  },
  {
   "cell_type": "code",
   "execution_count": 63,
   "metadata": {},
   "outputs": [
    {
     "name": "stdout",
     "output_type": "stream",
     "text": [
      "['e', 'a', 'd', 'b', 'e', 'a']\n"
     ]
    }
   ],
   "source": [
    "#example\n",
    "patt = re.compile('[a-e]')\n",
    " \n",
    "# findall() searches for the Regular Expression\n",
    "# and return a list upon finding\n",
    "print(patt.findall(\"Aye, said Mr. Gibenson Stark\")) #or re.findall(patt, \"Aye, said Mr. Gibenson Stark\"))"
   ]
  },
  {
   "cell_type": "markdown",
   "metadata": {},
   "source": [
    "#### re.split"
   ]
  },
  {
   "cell_type": "code",
   "execution_count": 10,
   "metadata": {},
   "outputs": [
    {
     "name": "stdout",
     "output_type": "stream",
     "text": [
      "['The', 'rain', 'in', 'Spain']\n"
     ]
    }
   ],
   "source": [
    "txt = \"The rain in Spain\"\n",
    "x = re.split(\"\\s\", txt)\n",
    "print(x)"
   ]
  },
  {
   "cell_type": "code",
   "execution_count": 11,
   "metadata": {},
   "outputs": [
    {
     "name": "stdout",
     "output_type": "stream",
     "text": [
      "['The', 'rain in Spain']\n"
     ]
    }
   ],
   "source": [
    "txt = \"The rain in Spain\"\n",
    "x = re.split(\"\\s\", txt, 1)\n",
    "print(x)"
   ]
  },
  {
   "cell_type": "markdown",
   "metadata": {},
   "source": [
    "#### re.sub"
   ]
  },
  {
   "cell_type": "code",
   "execution_count": 15,
   "metadata": {},
   "outputs": [
    {
     "name": "stdout",
     "output_type": "stream",
     "text": [
      "The9rain9in9Spain\n"
     ]
    }
   ],
   "source": [
    "txt = \"The rain in Spain\"\n",
    "x = re.sub(\"\\s\", \"9\", txt)\n",
    "print(x)"
   ]
  },
  {
   "cell_type": "code",
   "execution_count": 14,
   "metadata": {},
   "outputs": [
    {
     "name": "stdout",
     "output_type": "stream",
     "text": [
      "The9rain9in Spain\n"
     ]
    }
   ],
   "source": [
    "txt = \"The rain in Spain\"\n",
    "x = re.sub(\"\\s\", \"9\", txt, 2)\n",
    "print(x)"
   ]
  },
  {
   "cell_type": "markdown",
   "metadata": {},
   "source": [
    "* The Match object has properties and methods used to retrieve information about the search, and the result:\n",
    "\n",
    "    * .span() returns a tuple containing the start-, and end positions of the match.\n",
    "    * .string returns the string passed into the function\n",
    "    * .group() returns the part of the string where there was a match"
   ]
  },
  {
   "cell_type": "code",
   "execution_count": 66,
   "metadata": {},
   "outputs": [
    {
     "name": "stdout",
     "output_type": "stream",
     "text": [
      "(12, 17)\n",
      "The rain in Spain\n",
      "Spain\n"
     ]
    }
   ],
   "source": [
    "txt = \"The rain in Spain\"\n",
    "x = re.search(r\"\\bS\\w+\", txt)\n",
    "print(x.span())\n",
    "print(x.string)\n",
    "print(x.group())"
   ]
  },
  {
   "cell_type": "markdown",
   "metadata": {},
   "source": [
    "#### Password Validation using regex"
   ]
  },
  {
   "cell_type": "markdown",
   "metadata": {},
   "source": [
    "* Scenerio\n",
    "    * Conditions for a valid password are:\n",
    "        * Should have at least one number.\n",
    "        * Should have at least one uppercase and one lowercase character.\n",
    "        * Should have at least one special symbol.\n",
    "        * Should be between 6 to 20 characters long.\n"
   ]
  },
  {
   "cell_type": "code",
   "execution_count": 40,
   "metadata": {},
   "outputs": [
    {
     "name": "stdout",
     "output_type": "stream",
     "text": [
      "Akshaymanmu@12\n",
      "Password is valid\n"
     ]
    }
   ],
   "source": [
    "#method-1 - Naive Approach\n",
    "\n",
    "def password_check(passwd):\n",
    "    SpecialSym =['$', '@', '#', '%']\n",
    "    val = True\n",
    "    \n",
    "    if len(passwd) < 6:\n",
    "        print('length should be at least 6')\n",
    "        val = False\n",
    "          \n",
    "    if len(passwd) > 20:\n",
    "        print('length should be not be greater than 8')\n",
    "        val = False\n",
    "        \n",
    "    if not any (char.isdigit() for char in passwd):\n",
    "        print('Password should have at least one numeral')\n",
    "        val = False\n",
    "        \n",
    "    if not any(char.isupper() for char in passwd):\n",
    "        print('Password should have at least one uppercase letter')\n",
    "        val = False\n",
    "        \n",
    "    if not any(char.islower() for char in passwd):\n",
    "        print('Password should have at least one lowercase letter')\n",
    "        val = False\n",
    "        \n",
    "    if not any(char in SpecialSym for char in passwd):\n",
    "        print('Password should have at least one of the symbols $@#')\n",
    "        val = False\n",
    "        \n",
    "    if val:\n",
    "        return val\n",
    "    \n",
    "def main():\n",
    "    passwd = input()\n",
    "      \n",
    "    if (password_check(passwd)):\n",
    "        print(\"Password is valid\")\n",
    "    else:\n",
    "        print(\"Invalid Password !!\")\n",
    "          \n",
    "# Driver Code        \n",
    "if __name__ == '__main__':\n",
    "    main()"
   ]
  },
  {
   "cell_type": "code",
   "execution_count": 47,
   "metadata": {},
   "outputs": [
    {
     "name": "stdout",
     "output_type": "stream",
     "text": [
      "Akshay@1234\n",
      "Password is valid\n"
     ]
    }
   ],
   "source": [
    "#method-2 using regex\n",
    "def password_check_regex(pswd):\n",
    "     \n",
    "        regex  = \"^(?=.*[a-z])(?=.*[A-Z])(?=.*\\d)(?=.*[@$!%*#?&])[A-Za-z\\d@$!#%*?&]{6,20}$\"\n",
    "        \n",
    "        patt = re.compile(regex)\n",
    "        \n",
    "        if re.search(patt, pswd):\n",
    "            return True\n",
    "        \n",
    "        return False\n",
    "\n",
    "\n",
    "def main():\n",
    "    passwd = input()\n",
    "      \n",
    "    if (password_check_regex(passwd)):\n",
    "        print(\"Password is valid\")\n",
    "    else:\n",
    "        print(\"Invalid Password !!\")\n",
    "        \n",
    "# Driver Code        \n",
    "if __name__ == '__main__':\n",
    "    main()"
   ]
  },
  {
   "cell_type": "markdown",
   "metadata": {},
   "source": [
    "* Scenerio Question\n",
    "    * Email Checker \n",
    "        * An email is a string (a subset of ASCII characters) separated into two parts by @ symbol, a “personal_info” and a domain, that is `personal_info@domain`."
   ]
  },
  {
   "cell_type": "code",
   "execution_count": 59,
   "metadata": {},
   "outputs": [
    {
     "name": "stdout",
     "output_type": "stream",
     "text": [
      "ankitrai326.com\n",
      "Invalid Email\n"
     ]
    }
   ],
   "source": [
    "def check(email):\n",
    " \n",
    "    # pass the regular expression\n",
    "    # and the string into the fullmatch() method {minlen, maxlen}, {exactlen}\n",
    "    regex = r'\\b[A-Za-z0-9._%+-]+@[A-Za-z0-9.-]+\\.[A-Z|a-z]{2,}\\b'\n",
    "    \n",
    "    if(re.fullmatch(regex, email)):\n",
    "        print(\"Valid Email\")\n",
    " \n",
    "    else:\n",
    "        print(\"Invalid Email\")\n",
    "\n",
    "        \n",
    "# Driver Code\n",
    "if __name__ == '__main__':\n",
    " \n",
    "    # Enter the email\n",
    "    email = input()\n",
    " \n",
    "    # calling run function\n",
    "    check(email)"
   ]
  },
  {
   "cell_type": "code",
   "execution_count": null,
   "metadata": {},
   "outputs": [],
   "source": []
  }
 ],
 "metadata": {
  "colab": {
   "name": "Python_Rivision_Notes.ipynb",
   "provenance": []
  },
  "kernelspec": {
   "display_name": "Python 3",
   "language": "python",
   "name": "python3"
  },
  "language_info": {
   "codemirror_mode": {
    "name": "ipython",
    "version": 3
   },
   "file_extension": ".py",
   "mimetype": "text/x-python",
   "name": "python",
   "nbconvert_exporter": "python",
   "pygments_lexer": "ipython3",
   "version": "3.8.8"
  }
 },
 "nbformat": 4,
 "nbformat_minor": 1
}
